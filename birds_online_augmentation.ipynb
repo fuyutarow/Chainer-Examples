{
 "cells": [
  {
   "cell_type": "code",
   "execution_count": 1,
   "metadata": {},
   "outputs": [
    {
     "name": "stderr",
     "output_type": "stream",
     "text": [
      "/home/fytroo/anaconda3/lib/python3.6/importlib/_bootstrap.py:219: RuntimeWarning: compiletime version 3.5 of module 'tensorflow.python.framework.fast_tensor_util' does not match runtime version 3.6\n",
      "  return f(*args, **kwds)\n",
      "Using TensorFlow backend.\n"
     ]
    }
   ],
   "source": [
    "import os\n",
    "import shutil\n",
    "import random\n",
    "import pickle\n",
    "\n",
    "from PIL import Image\n",
    "import numpy as np\n",
    "import matplotlib.pyplot as plt\n",
    "import pandas as pd\n",
    "\n",
    "import chainer\n",
    "from chainer.dataset import convert\n",
    "import chainer.links as L\n",
    "import chainer.functions as F\n",
    "import chainer.initializers as I\n",
    "from chainer import serializers\n",
    "\n",
    "from tuner.dataset import ClassificationDataset, AugmentDataset\n",
    "from tuner import net\n",
    "from tuner import utils\n",
    "from tuner.utils import maxmin_normalize\n",
    "from tuner.load_data import arr2img "
   ]
  },
  {
   "cell_type": "markdown",
   "metadata": {},
   "source": [
    "### ハイパーパラメータ"
   ]
  },
  {
   "cell_type": "code",
   "execution_count": 2,
   "metadata": {},
   "outputs": [
    {
     "name": "stdout",
     "output_type": "stream",
     "text": [
      "no argsparse\n"
     ]
    }
   ],
   "source": [
    "from easydict import EasyDict\n",
    "args = EasyDict({\n",
    "    'src_dir' : 'datasets/birds-dataset',\n",
    "    'bs': 32, \n",
    "    'epoch' : 100,\n",
    "    'lr' : 0.005,\n",
    "    'gpu': 0,\n",
    "    'out': 'result',\n",
    "    'resume': '',\n",
    "    'img_size': 128,\n",
    "})\n",
    "try:\n",
    "    __file__.endswith('py')\n",
    "    import argparse\n",
    "    parser = argparse.ArgumentParser(description='Chainer example: MNIST')\n",
    "    parser.add_argument('--batchsize', '-b', dest='bs', type=int, default=args.bs,\n",
    "                        help='Number of images in each mini-batch')\n",
    "    parser.add_argument('--epoch', '-e', type=int, default=args.epoch,\n",
    "                        help='Number of sweeps over the dataset to train')\n",
    "    parser.add_argument('--learningrate', '-l', dest='lr', type=float, default=args.lr,\n",
    "                        help='Number of sweeps over the dataset to train')\n",
    "    parser.add_argument('--frequency', '-f', type=int, default=-1,\n",
    "                        help='Frequency of taking a snapshot')\n",
    "    parser.add_argument('--gpu', '-g', type=int, default=args.gpu,\n",
    "                        help='GPU ID (negative value indicates CPU)')\n",
    "    parser.add_argument('--out', '-o', default=args.out,\n",
    "                        help='Directory to output the result')\n",
    "    parser.add_argument('--resume', '-r', default=args.resume,\n",
    "                        help='Resume the training from snapshot')\n",
    "    parser.add_argument('--unit', '-u', dest='n_in', type=int, default=args.n_in,\n",
    "                        help='Number of units')\n",
    "    parser.add_argument('--noplot', dest='plot', action='store_false',\n",
    "                        help='Disable PlotReport extension')\n",
    "    args = parser.parse_args()\n",
    "except:\n",
    "    print('no argsparse')\n",
    "    pass"
   ]
  },
  {
   "cell_type": "code",
   "execution_count": 3,
   "metadata": {
    "scrolled": true
   },
   "outputs": [
    {
     "name": "stderr",
     "output_type": "stream",
     "text": [
      "/home/fytroo/anaconda3/lib/python3.6/site-packages/ipykernel_launcher.py:5: SettingWithCopyWarning: \n",
      "A value is trying to be set on a copy of a slice from a DataFrame.\n",
      "Try using .loc[row_indexer,col_indexer] = value instead\n",
      "\n",
      "See the caveats in the documentation: http://pandas.pydata.org/pandas-docs/stable/indexing.html#indexing-view-versus-copy\n",
      "  \"\"\"\n",
      "/home/fytroo/anaconda3/lib/python3.6/site-packages/ipykernel_launcher.py:6: SettingWithCopyWarning: \n",
      "A value is trying to be set on a copy of a slice from a DataFrame.\n",
      "Try using .loc[row_indexer,col_indexer] = value instead\n",
      "\n",
      "See the caveats in the documentation: http://pandas.pydata.org/pandas-docs/stable/indexing.html#indexing-view-versus-copy\n",
      "  \n",
      "/home/fytroo/anaconda3/lib/python3.6/site-packages/ipykernel_launcher.py:9: SettingWithCopyWarning: \n",
      "A value is trying to be set on a copy of a slice from a DataFrame.\n",
      "Try using .loc[row_indexer,col_indexer] = value instead\n",
      "\n",
      "See the caveats in the documentation: http://pandas.pydata.org/pandas-docs/stable/indexing.html#indexing-view-versus-copy\n",
      "  if __name__ == '__main__':\n",
      "/home/fytroo/anaconda3/lib/python3.6/site-packages/ipykernel_launcher.py:10: SettingWithCopyWarning: \n",
      "A value is trying to be set on a copy of a slice from a DataFrame.\n",
      "Try using .loc[row_indexer,col_indexer] = value instead\n",
      "\n",
      "See the caveats in the documentation: http://pandas.pydata.org/pandas-docs/stable/indexing.html#indexing-view-versus-copy\n",
      "  # Remove the CWD from sys.path while we load stuff.\n"
     ]
    }
   ],
   "source": [
    "birds_dataset = ClassificationDataset(args.src_dir)\n",
    "\n",
    "df = birds_dataset.df\n",
    "df_finch = df[df['label'].str.contains('finch')]\n",
    "df_finch['length'] = np.random.normal(25.5, 3, len(df_finch))\n",
    "df_finch['weight'] = np.random.normal(85, 10, len(df_finch))\n",
    "\n",
    "df_parrot = df[df['label'].str.contains('parrot')]\n",
    "df_parrot['length'] = np.random.normal(55.5, 1, len(df_parrot))\n",
    "df_parrot['weight'] = np.random.normal(850, 100, len(df_parrot))\n",
    "\n",
    "df = pd.concat([df_finch, df_parrot])\n",
    "df = df[['handle', 'length', 'weight']]\n",
    "\n",
    "df.to_csv(os.path.join(args.src_dir, 'numeric_data.csv'), index=False)"
   ]
  },
  {
   "cell_type": "markdown",
   "metadata": {},
   "source": [
    "## ここまで画像に紐づく数値データを生成，ここからデータセット読み込み，学習をはじめる"
   ]
  },
  {
   "cell_type": "markdown",
   "metadata": {},
   "source": [
    "### モデルを定義"
   ]
  },
  {
   "cell_type": "code",
   "execution_count": 4,
   "metadata": {
    "collapsed": true
   },
   "outputs": [],
   "source": [
    "class LeNet(chainer.Chain):\n",
    "    def __init__(self, n_out=10):\n",
    "        super(LeNet, self).__init__()\n",
    "        \n",
    "        initialW= I.HeNormal()\n",
    "        with self.init_scope():\n",
    "            self.conv0 = L.Convolution2D(None, 16, 1, 1, 0, initialW=initialW, nobias=True)\n",
    "            \n",
    "            self.bn11 = L.BatchNormalization(16)\n",
    "            self.conv11 = L.Convolution2D(None, 32, 3, 1, 1, initialW=initialW, nobias=True)\n",
    "            self.bn12 = L.BatchNormalization(32)\n",
    "            self.conv12 = L.Convolution2D(None, 32, 3, 1, 1, initialW=initialW, nobias=True)\n",
    "            \n",
    "            self.bn21 = L.BatchNormalization(32)\n",
    "            self.conv21 = L.Convolution2D(None, 64, 3, 1, 1, initialW=initialW, nobias=True)\n",
    "            self.bn22 = L.BatchNormalization(64)\n",
    "            self.conv22 = L.Convolution2D(None, 64, 3, 1, 1, initialW=initialW, nobias=True)\n",
    "            \n",
    "            self.conv_out = L.Convolution2D(None, n_out)\n",
    "            self.fc = L.Linear(None, n_out)\n",
    "    \n",
    "    def __call__(self, x):\n",
    "        h = x\n",
    "        h = self.conv0(h)\n",
    "        \n",
    "        h = self.bn11(h)\n",
    "        h = F.relu(h)\n",
    "        h = self.conv11(h)\n",
    "        h = self.bn12(h)\n",
    "        h = F.relu(h)\n",
    "        h = self.conv12(h)\n",
    "        h = F.average_pooling_2d(h, ksize=2, stride=2)\n",
    "        \n",
    "        h = self.bn21(h)\n",
    "        h = F.relu(h)\n",
    "        h = self.conv21(h)\n",
    "        h = self.bn22(h)\n",
    "        h = F.relu(h)\n",
    "        h = self.conv22(h)\n",
    "        \n",
    "        print('#1', h.shape)\n",
    "        h = self.conv_out(h)\n",
    "        print('#2', h.shape)\n",
    "        h = F.squeeze(F.average_ppoling_2d(h,4))\n",
    "        print('#3', h.shape)\n",
    "        h = F.average_pooling_2d(h, ksize=2, stride=2)\n",
    "        print('#4', h.shape)\n",
    "        h = self.fc(h)\n",
    "        \n",
    "        return h"
   ]
  },
  {
   "cell_type": "code",
   "execution_count": 5,
   "metadata": {
    "collapsed": true
   },
   "outputs": [],
   "source": [
    "class LeNet(chainer.Chain):\n",
    "    def __init__(self, n_out=10):\n",
    "        super(LeNet, self).__init__()\n",
    "        \n",
    "        initialW= I.HeNormal()\n",
    "        with self.init_scope():\n",
    "            self.conv0 = L.Convolution2D(None, 16, 1, 1, 0, initialW=initialW, nobias=True)\n",
    "            \n",
    "            self.bn11 = L.BatchNormalization(16)\n",
    "            self.conv11 = L.Convolution2D(None, 32, 3, 1, 1, initialW=initialW, nobias=True)\n",
    "            self.bn12 = L.BatchNormalization(32)\n",
    "            self.conv12 = L.Convolution2D(None, 32, 3, 1, 1, initialW=initialW, nobias=True)\n",
    "            \n",
    "            self.bn21 = L.BatchNormalization(32)\n",
    "            self.conv21 = L.Convolution2D(None, 64, 3, 1, 1, initialW=initialW, nobias=True)\n",
    "            self.bn22 = L.BatchNormalization(64)\n",
    "            self.conv22 = L.Convolution2D(None, 64, 3, 1, 1, initialW=initialW, nobias=True)\n",
    "            \n",
    "            self.conv_out = L.Convolution2D(None, n_out)\n",
    "            self.fc = L.Linear(None, 20)\n",
    "            self.l1 = L.Linear(None, 20)\n",
    "            self.l2 = L.Linear(None, n_out)\n",
    "    \n",
    "    def __call__(self, x, u):\n",
    "        h = x\n",
    "        h = self.conv0(h)\n",
    "        \n",
    "        h = self.bn11(h)\n",
    "        h = F.relu(h)\n",
    "        h = self.conv11(h)\n",
    "        h = self.bn12(h)\n",
    "        h = F.relu(h)\n",
    "        h = self.conv12(h)\n",
    "        h = F.average_pooling_2d(h, ksize=2, stride=2)\n",
    "        h = F.dropout(h, ratio=0.4)\n",
    "        \n",
    "        h = self.bn21(h)\n",
    "        h = F.relu(h)\n",
    "        h = self.conv21(h)\n",
    "        h = self.bn22(h)\n",
    "        h = F.relu(h)\n",
    "        h = self.conv22(h)\n",
    "        h = F.average_pooling_2d(h, ksize=2, stride=2)\n",
    "        h = F.dropout(h, ratio=0.5)\n",
    "        \n",
    "        h = self.fc(h)\n",
    "        #h = F.relu(h)\n",
    "        h = F.dropout(h, ratio=0.5)\n",
    "        h = F.concat((h, u), axis=1)\n",
    "        h = F.dropout(h, ratio=0.8)\n",
    "        h = self.l1(h)\n",
    "        h = F.relu(h)\n",
    "        h = F.dropout(h, ratio=0.6)\n",
    "        h = self.l2(h)\n",
    "        \n",
    "        return h"
   ]
  },
  {
   "cell_type": "code",
   "execution_count": 6,
   "metadata": {
    "collapsed": true,
    "scrolled": true
   },
   "outputs": [],
   "source": [
    "birds_dataset = ClassificationDataset(args.src_dir)"
   ]
  },
  {
   "cell_type": "markdown",
   "metadata": {},
   "source": [
    "### build model"
   ]
  },
  {
   "cell_type": "code",
   "execution_count": 7,
   "metadata": {
    "collapsed": true
   },
   "outputs": [],
   "source": [
    "n_label = birds_dataset.n_label \n",
    "model = L.Classifier(LeNet(n_label),\n",
    "                    lossfun=F.softmax_cross_entropy,\n",
    "                    accfun=F.accuracy)\n",
    "xp = np\n",
    "if args.gpu >= 0:\n",
    "    import cupy as cp\n",
    "    xp = cp\n",
    "    chainer.cuda.get_device_from_id(args.gpu).use()\n",
    "    model.to_gpu()  # Copy the model to the GPU\n",
    "optimizer = chainer.optimizers.Adam(args.lr)\n",
    "optimizer.setup(model)"
   ]
  },
  {
   "cell_type": "markdown",
   "metadata": {},
   "source": [
    "### load dataset"
   ]
  },
  {
   "cell_type": "code",
   "execution_count": 8,
   "metadata": {
    "collapsed": true,
    "scrolled": true
   },
   "outputs": [],
   "source": [
    "df_num = pd.read_csv(os.path.join(args.src_dir, 'numeric_data.csv'))\n",
    "df_train = pd.concat([birds_dataset.df_train, df_num,], axis=1, join='inner')\n",
    "df_validation = pd.concat([birds_dataset.df_validation, df_num,], axis=1, join='inner')\n",
    "u_train = df_train[['length','length']].values\n",
    "u_val = df_validation[['length','length']].values\n",
    "\n",
    "birds_dataset.load_data(resize=args.img_size, rescale=1)\n",
    "x_train, y_train = birds_dataset.train_data\n",
    "x_val, y_val = birds_dataset.validation_data"
   ]
  },
  {
   "cell_type": "markdown",
   "metadata": {},
   "source": [
    "### data augmentation"
   ]
  },
  {
   "cell_type": "code",
   "execution_count": 9,
   "metadata": {
    "collapsed": true
   },
   "outputs": [],
   "source": [
    "import Augmentor\n",
    "p = Augmentor.Pipeline()\n",
    "p.crop_random(probability=1, percentage_area=0.8)\n",
    "p.resize(probability=1, width=args.img_size, height=args.img_size)\n",
    "p.flip_left_right(probability=0.5)\n",
    "p.random_erasing(probability=0.5, rectangle_area=0.5)\n",
    "p.shear(probability=0.3, max_shear_left=2, max_shear_right=2)"
   ]
  },
  {
   "cell_type": "code",
   "execution_count": 10,
   "metadata": {
    "collapsed": true
   },
   "outputs": [],
   "source": [
    "def unique_value_counts(df):\n",
    "    for col in df.columns:\n",
    "        c = df[col].value_counts().count()\n",
    "        res[col] =c \n",
    "    return res"
   ]
  },
  {
   "cell_type": "code",
   "execution_count": 11,
   "metadata": {},
   "outputs": [
    {
     "data": {
      "text/plain": [
       "{'red_finch': 183,\n",
       " 'red_parrot': 128,\n",
       " 'white_finch': 141,\n",
       " 'white_parrot': 105,\n",
       " 'yellow_finch': 169,\n",
       " 'yellow_parrot': 113}"
      ]
     },
     "execution_count": 11,
     "metadata": {},
     "output_type": "execute_result"
    }
   ],
   "source": [
    "birds_dataset.counts_train_data()"
   ]
  },
  {
   "cell_type": "code",
   "execution_count": 12,
   "metadata": {},
   "outputs": [
    {
     "data": {
      "text/plain": [
       "{'red_finch': 11,\n",
       " 'red_parrot': 11,\n",
       " 'white_finch': 11,\n",
       " 'white_parrot': 11,\n",
       " 'yellow_finch': 11,\n",
       " 'yellow_parrot': 11}"
      ]
     },
     "execution_count": 12,
     "metadata": {},
     "output_type": "execute_result"
    }
   ],
   "source": [
    "birds_dataset.counts_validation_data()"
   ]
  },
  {
   "cell_type": "markdown",
   "metadata": {},
   "source": [
    "### process data"
   ]
  },
  {
   "cell_type": "code",
   "execution_count": 13,
   "metadata": {
    "collapsed": true
   },
   "outputs": [],
   "source": [
    "def normalized_data(xs, us, ys):\n",
    "    return (\n",
    "        np.swapaxes(xs/255., 1, 3).astype(np.float32),\n",
    "        maxmin_normalize(us).astype(np.float32),\n",
    "        ys.astype(np.int8))\n",
    "\n",
    "def dot_array(*args, xp=np):\n",
    "    \"\"\"convert to xp.array from each arg\"\"\"\n",
    "    return tuple( xp.array(arg) for arg in args )\n",
    "\n",
    "def dot_variable(*args):\n",
    "    \"\"\"convert to chainer.Variable from each arg\"\"\"\n",
    "    return tuple( chainer.Variable(arg) for arg in args)\n",
    "\n",
    "def chunk_array(array, batchsize=2):\n",
    "    \"\"\"get n-batch cyclicaly from Array(batchsize, data)\"\"\"\n",
    "    index = idx = 0\n",
    "    bs = batchsize\n",
    "    while True:\n",
    "        end = idx + bs\n",
    "        yield np.take(array, range(idx, end) , axis=0, mode='wrap')\n",
    "        idx = end\n",
    "\n",
    "def get_batch(*arrays, batchsize=None):\n",
    "    \"\"\"apply each arg to cunck_array\"\"\"\n",
    "    batchsize = batchsize if batchsize else len(arrays[0])\n",
    "    gs = [ chunk_array(arr, batchsize) for arr in arrays]\n",
    "    while True:\n",
    "        yield tuple([ next(g) for g in gs])\n",
    "\n",
    "def augment(xs, us, ys, p=None, batchsize=None):\n",
    "    \"\"\"execute data augmentaion\"\"\"\n",
    "    batchsize = batchsize if batchsize else len(xs[0])\n",
    "    g = p.keras_generator_from_array(xs.astype(np.uint8), ys.astype(np.uint8), batchsize)\n",
    "    xs, ys = next(g)\n",
    "    return (xs, us, ys)\n",
    "\n",
    "def shuffled(*args):\n",
    "    \"\"\"shuffle list of arg with same order\"\"\"\n",
    "    batch = list(zip(*args ))\n",
    "    random.shuffle(batch)\n",
    "    return zip(*batch)"
   ]
  },
  {
   "cell_type": "code",
   "execution_count": 14,
   "metadata": {
    "collapsed": true
   },
   "outputs": [],
   "source": [
    "x_train, u_train, y_train = shuffled(x_train, u_train, y_train)\n",
    "\n",
    "bs = args.bs\n",
    "g = get_batch(x_train, u_train, y_train, batchsize=bs)\n",
    "g = (augment(*args, p=p, batchsize=bs) for args in g)\n",
    "g = (normalized_data(xs, us, ys) for (xs, us, ys) in g)\n",
    "g = (dot_array(*args, xp=cp) for args in g)\n",
    "g = (dot_variable(*args) for args in g)\n",
    "g_train = g"
   ]
  },
  {
   "cell_type": "code",
   "execution_count": 15,
   "metadata": {
    "collapsed": true
   },
   "outputs": [],
   "source": [
    "g = get_batch(x_val, u_val, y_val)\n",
    "g = (normalized_data(xs, us, ys) for (xs, us, ys) in g)\n",
    "g = (dot_array(*args, xp=cp) for args in g)\n",
    "g = (dot_variable(*args) for args in g)\n",
    "g_val = g"
   ]
  },
  {
   "cell_type": "code",
   "execution_count": 16,
   "metadata": {
    "scrolled": true
   },
   "outputs": [
    {
     "name": "stdout",
     "output_type": "stream",
     "text": [
      "variable([0 2 3 1 2 4 3 1 4 5 4 0 2 1 1 0 4 4 5 5 0 5 3 1 1 1 3 1 0 0 0 4])\n"
     ]
    },
    {
     "data": {
      "image/png": "[encoded data removed]",
      "text/plain": [
       "<PIL.Image.Image image mode=RGB size=128x128 at 0x7FD5E8246518>"
      ]
     },
     "execution_count": 16,
     "metadata": {},
     "output_type": "execute_result"
    }
   ],
   "source": [
    "xs, us, ys = next(g_train)\n",
    "print(ys)\n",
    "a = xs[2].data\n",
    "a = cp.asnumpy(a)\n",
    "a = np.swapaxes(a*255., 0, 2).astype(np.uint8)\n",
    "arr2img(a)"
   ]
  },
  {
   "cell_type": "code",
   "execution_count": 17,
   "metadata": {
    "scrolled": false
   },
   "outputs": [
    {
     "name": "stdout",
     "output_type": "stream",
     "text": [
      "variable([0 0 0 0 0 0 0 0 0 0 0 1 1 1 1 1 1 1 1 1 1 1 2 2 2 2 2 2 2 2 2 2 2\n",
      "          4 4 4 4 4 4 4 4 4 4 4 5 5 5 5 5 5 5 5 5 5 5 3 3 3 3 3 3 3 3 3 3 3])\n"
     ]
    },
    {
     "data": {
      "image/png": "[encoded data removed]",
      "text/plain": [
       "<PIL.Image.Image image mode=RGB size=128x128 at 0x7FD5E8246DA0>"
      ]
     },
     "execution_count": 17,
     "metadata": {},
     "output_type": "execute_result"
    }
   ],
   "source": [
    "xs, us, ys = next(g_val)\n",
    "print(ys)\n",
    "a = xs[2].data\n",
    "a = cp.asnumpy(a)\n",
    "a = np.swapaxes(a*255., 0, 2).astype(np.uint8)\n",
    "arr2img(a)"
   ]
  },
  {
   "cell_type": "markdown",
   "metadata": {},
   "source": [
    "### 訓練と検証"
   ]
  },
  {
   "cell_type": "code",
   "execution_count": 18,
   "metadata": {
    "scrolled": true
   },
   "outputs": [
    {
     "name": "stdout",
     "output_type": "stream",
     "text": [
      "step:0\n",
      "loss: 62.7172\t acc: 0.1562\n",
      "val_loss: 659.3680\t val_acc: 0.1667\n",
      "step:100\n",
      "loss: 6.5123\t acc: 0.1562\n",
      "step:200\n",
      "loss: 2.0245\t acc: 0.2188\n",
      "step:300\n",
      "loss: 1.8096\t acc: 0.2500\n",
      "step:400\n",
      "loss: 2.1339\t acc: 0.3125\n",
      "step:500\n",
      "loss: 1.5954\t acc: 0.3750\n",
      "step:600\n",
      "loss: 1.6494\t acc: 0.5000\n",
      "step:700\n",
      "loss: 1.9260\t acc: 0.1250\n",
      "step:800\n",
      "loss: 1.6111\t acc: 0.0938\n",
      "step:900\n",
      "loss: 1.5639\t acc: 0.3438\n",
      "step:1000\n",
      "loss: 1.6986\t acc: 0.1562\n",
      "val_loss: 1.7585\t val_acc: 0.1818\n"
     ]
    },
    {
     "ename": "KeyboardInterrupt",
     "evalue": "",
     "output_type": "error",
     "traceback": [
      "\u001b[0;31m---------------------------------------------------------------------------\u001b[0m",
      "\u001b[0;31mAttributeError\u001b[0m                            Traceback (most recent call last)",
      "\u001b[0;32m~/anaconda3/lib/python3.6/site-packages/numpy/core/fromnumeric.py\u001b[0m in \u001b[0;36m_wrapfunc\u001b[0;34m(obj, method, *args, **kwds)\u001b[0m\n\u001b[1;32m     56\u001b[0m     \u001b[0;32mtry\u001b[0m\u001b[0;34m:\u001b[0m\u001b[0;34m\u001b[0m\u001b[0m\n\u001b[0;32m---> 57\u001b[0;31m         \u001b[0;32mreturn\u001b[0m \u001b[0mgetattr\u001b[0m\u001b[0;34m(\u001b[0m\u001b[0mobj\u001b[0m\u001b[0;34m,\u001b[0m \u001b[0mmethod\u001b[0m\u001b[0;34m)\u001b[0m\u001b[0;34m(\u001b[0m\u001b[0;34m*\u001b[0m\u001b[0margs\u001b[0m\u001b[0;34m,\u001b[0m \u001b[0;34m**\u001b[0m\u001b[0mkwds\u001b[0m\u001b[0;34m)\u001b[0m\u001b[0;34m\u001b[0m\u001b[0m\n\u001b[0m\u001b[1;32m     58\u001b[0m \u001b[0;34m\u001b[0m\u001b[0m\n",
      "\u001b[0;31mAttributeError\u001b[0m: 'tuple' object has no attribute 'take'",
      "\nDuring handling of the above exception, another exception occurred:\n",
      "\u001b[0;31mKeyboardInterrupt\u001b[0m                         Traceback (most recent call last)",
      "\u001b[0;32m<ipython-input-18-69d3177f824c>\u001b[0m in \u001b[0;36m<module>\u001b[0;34m()\u001b[0m\n\u001b[1;32m     24\u001b[0m \u001b[0;31m#for step in range(args.epoch):\u001b[0m\u001b[0;34m\u001b[0m\u001b[0;34m\u001b[0m\u001b[0m\n\u001b[1;32m     25\u001b[0m \u001b[0;32mfor\u001b[0m \u001b[0mstep\u001b[0m \u001b[0;32min\u001b[0m \u001b[0mrange\u001b[0m\u001b[0;34m(\u001b[0m\u001b[0mint\u001b[0m\u001b[0;34m(\u001b[0m\u001b[0;36m1e4\u001b[0m\u001b[0;34m)\u001b[0m\u001b[0;34m)\u001b[0m\u001b[0;34m:\u001b[0m\u001b[0;34m\u001b[0m\u001b[0m\n\u001b[0;32m---> 26\u001b[0;31m     \u001b[0mtrain\u001b[0m\u001b[0;34m(\u001b[0m\u001b[0mstep\u001b[0m\u001b[0;34m)\u001b[0m\u001b[0;34m\u001b[0m\u001b[0m\n\u001b[0m\u001b[1;32m     27\u001b[0m     \u001b[0;32mif\u001b[0m \u001b[0mstep\u001b[0m\u001b[0;34m%\u001b[0m\u001b[0;36m1000\u001b[0m\u001b[0;34m==\u001b[0m\u001b[0;36m0\u001b[0m\u001b[0;34m:\u001b[0m\u001b[0;34m\u001b[0m\u001b[0m\n\u001b[1;32m     28\u001b[0m         \u001b[0mvalidation\u001b[0m\u001b[0;34m(\u001b[0m\u001b[0mstep\u001b[0m\u001b[0;34m)\u001b[0m\u001b[0;34m\u001b[0m\u001b[0m\n",
      "\u001b[0;32m<ipython-input-18-69d3177f824c>\u001b[0m in \u001b[0;36mtrain\u001b[0;34m(step, step_per_print)\u001b[0m\n\u001b[1;32m      1\u001b[0m \u001b[0;32mdef\u001b[0m \u001b[0mtrain\u001b[0m\u001b[0;34m(\u001b[0m\u001b[0mstep\u001b[0m\u001b[0;34m=\u001b[0m\u001b[0;32mNone\u001b[0m\u001b[0;34m,\u001b[0m \u001b[0mstep_per_print\u001b[0m\u001b[0;34m=\u001b[0m\u001b[0;36m100\u001b[0m\u001b[0;34m)\u001b[0m\u001b[0;34m:\u001b[0m\u001b[0;34m\u001b[0m\u001b[0m\n\u001b[0;32m----> 2\u001b[0;31m     \u001b[0mx\u001b[0m\u001b[0;34m,\u001b[0m \u001b[0mu\u001b[0m\u001b[0;34m,\u001b[0m \u001b[0mt\u001b[0m \u001b[0;34m=\u001b[0m \u001b[0mnext\u001b[0m\u001b[0;34m(\u001b[0m\u001b[0mg_train\u001b[0m\u001b[0;34m)\u001b[0m\u001b[0;34m\u001b[0m\u001b[0m\n\u001b[0m\u001b[1;32m      3\u001b[0m     \u001b[0moptimizer\u001b[0m\u001b[0;34m.\u001b[0m\u001b[0mupdate\u001b[0m\u001b[0;34m(\u001b[0m\u001b[0mmodel\u001b[0m\u001b[0;34m,\u001b[0m \u001b[0mx\u001b[0m\u001b[0;34m,\u001b[0m \u001b[0mu\u001b[0m\u001b[0;34m,\u001b[0m \u001b[0mt\u001b[0m\u001b[0;34m)\u001b[0m\u001b[0;34m\u001b[0m\u001b[0m\n\u001b[1;32m      4\u001b[0m     \u001b[0;32mwith\u001b[0m \u001b[0mchainer\u001b[0m\u001b[0;34m.\u001b[0m\u001b[0musing_config\u001b[0m\u001b[0;34m(\u001b[0m\u001b[0;34m'train'\u001b[0m\u001b[0;34m,\u001b[0m \u001b[0;32mTrue\u001b[0m\u001b[0;34m)\u001b[0m\u001b[0;34m:\u001b[0m\u001b[0;34m\u001b[0m\u001b[0m\n\u001b[1;32m      5\u001b[0m         \u001b[0mloss\u001b[0m \u001b[0;34m=\u001b[0m \u001b[0mmodel\u001b[0m\u001b[0;34m(\u001b[0m\u001b[0mx\u001b[0m\u001b[0;34m,\u001b[0m\u001b[0mu\u001b[0m\u001b[0;34m,\u001b[0m\u001b[0mt\u001b[0m\u001b[0;34m)\u001b[0m\u001b[0;34m\u001b[0m\u001b[0m\n",
      "\u001b[0;32m<ipython-input-14-6d81b9e02f47>\u001b[0m in \u001b[0;36m<genexpr>\u001b[0;34m(.0)\u001b[0m\n\u001b[1;32m      6\u001b[0m \u001b[0mg\u001b[0m \u001b[0;34m=\u001b[0m \u001b[0;34m(\u001b[0m\u001b[0mnormalized_data\u001b[0m\u001b[0;34m(\u001b[0m\u001b[0mxs\u001b[0m\u001b[0;34m,\u001b[0m \u001b[0mus\u001b[0m\u001b[0;34m,\u001b[0m \u001b[0mys\u001b[0m\u001b[0;34m)\u001b[0m \u001b[0;32mfor\u001b[0m \u001b[0;34m(\u001b[0m\u001b[0mxs\u001b[0m\u001b[0;34m,\u001b[0m \u001b[0mus\u001b[0m\u001b[0;34m,\u001b[0m \u001b[0mys\u001b[0m\u001b[0;34m)\u001b[0m \u001b[0;32min\u001b[0m \u001b[0mg\u001b[0m\u001b[0;34m)\u001b[0m\u001b[0;34m\u001b[0m\u001b[0m\n\u001b[1;32m      7\u001b[0m \u001b[0mg\u001b[0m \u001b[0;34m=\u001b[0m \u001b[0;34m(\u001b[0m\u001b[0mdot_array\u001b[0m\u001b[0;34m(\u001b[0m\u001b[0;34m*\u001b[0m\u001b[0margs\u001b[0m\u001b[0;34m,\u001b[0m \u001b[0mxp\u001b[0m\u001b[0;34m=\u001b[0m\u001b[0mcp\u001b[0m\u001b[0;34m)\u001b[0m \u001b[0;32mfor\u001b[0m \u001b[0margs\u001b[0m \u001b[0;32min\u001b[0m \u001b[0mg\u001b[0m\u001b[0;34m)\u001b[0m\u001b[0;34m\u001b[0m\u001b[0m\n\u001b[0;32m----> 8\u001b[0;31m \u001b[0mg\u001b[0m \u001b[0;34m=\u001b[0m \u001b[0;34m(\u001b[0m\u001b[0mdot_variable\u001b[0m\u001b[0;34m(\u001b[0m\u001b[0;34m*\u001b[0m\u001b[0margs\u001b[0m\u001b[0;34m)\u001b[0m \u001b[0;32mfor\u001b[0m \u001b[0margs\u001b[0m \u001b[0;32min\u001b[0m \u001b[0mg\u001b[0m\u001b[0;34m)\u001b[0m\u001b[0;34m\u001b[0m\u001b[0m\n\u001b[0m\u001b[1;32m      9\u001b[0m \u001b[0mg_train\u001b[0m \u001b[0;34m=\u001b[0m \u001b[0mg\u001b[0m\u001b[0;34m\u001b[0m\u001b[0m\n",
      "\u001b[0;32m<ipython-input-14-6d81b9e02f47>\u001b[0m in \u001b[0;36m<genexpr>\u001b[0;34m(.0)\u001b[0m\n\u001b[1;32m      5\u001b[0m \u001b[0mg\u001b[0m \u001b[0;34m=\u001b[0m \u001b[0;34m(\u001b[0m\u001b[0maugment\u001b[0m\u001b[0;34m(\u001b[0m\u001b[0;34m*\u001b[0m\u001b[0margs\u001b[0m\u001b[0;34m,\u001b[0m \u001b[0mp\u001b[0m\u001b[0;34m=\u001b[0m\u001b[0mp\u001b[0m\u001b[0;34m,\u001b[0m \u001b[0mbatchsize\u001b[0m\u001b[0;34m=\u001b[0m\u001b[0mbs\u001b[0m\u001b[0;34m)\u001b[0m \u001b[0;32mfor\u001b[0m \u001b[0margs\u001b[0m \u001b[0;32min\u001b[0m \u001b[0mg\u001b[0m\u001b[0;34m)\u001b[0m\u001b[0;34m\u001b[0m\u001b[0m\n\u001b[1;32m      6\u001b[0m \u001b[0mg\u001b[0m \u001b[0;34m=\u001b[0m \u001b[0;34m(\u001b[0m\u001b[0mnormalized_data\u001b[0m\u001b[0;34m(\u001b[0m\u001b[0mxs\u001b[0m\u001b[0;34m,\u001b[0m \u001b[0mus\u001b[0m\u001b[0;34m,\u001b[0m \u001b[0mys\u001b[0m\u001b[0;34m)\u001b[0m \u001b[0;32mfor\u001b[0m \u001b[0;34m(\u001b[0m\u001b[0mxs\u001b[0m\u001b[0;34m,\u001b[0m \u001b[0mus\u001b[0m\u001b[0;34m,\u001b[0m \u001b[0mys\u001b[0m\u001b[0;34m)\u001b[0m \u001b[0;32min\u001b[0m \u001b[0mg\u001b[0m\u001b[0;34m)\u001b[0m\u001b[0;34m\u001b[0m\u001b[0m\n\u001b[0;32m----> 7\u001b[0;31m \u001b[0mg\u001b[0m \u001b[0;34m=\u001b[0m \u001b[0;34m(\u001b[0m\u001b[0mdot_array\u001b[0m\u001b[0;34m(\u001b[0m\u001b[0;34m*\u001b[0m\u001b[0margs\u001b[0m\u001b[0;34m,\u001b[0m \u001b[0mxp\u001b[0m\u001b[0;34m=\u001b[0m\u001b[0mcp\u001b[0m\u001b[0;34m)\u001b[0m \u001b[0;32mfor\u001b[0m \u001b[0margs\u001b[0m \u001b[0;32min\u001b[0m \u001b[0mg\u001b[0m\u001b[0;34m)\u001b[0m\u001b[0;34m\u001b[0m\u001b[0m\n\u001b[0m\u001b[1;32m      8\u001b[0m \u001b[0mg\u001b[0m \u001b[0;34m=\u001b[0m \u001b[0;34m(\u001b[0m\u001b[0mdot_variable\u001b[0m\u001b[0;34m(\u001b[0m\u001b[0;34m*\u001b[0m\u001b[0margs\u001b[0m\u001b[0;34m)\u001b[0m \u001b[0;32mfor\u001b[0m \u001b[0margs\u001b[0m \u001b[0;32min\u001b[0m \u001b[0mg\u001b[0m\u001b[0;34m)\u001b[0m\u001b[0;34m\u001b[0m\u001b[0m\n\u001b[1;32m      9\u001b[0m \u001b[0mg_train\u001b[0m \u001b[0;34m=\u001b[0m \u001b[0mg\u001b[0m\u001b[0;34m\u001b[0m\u001b[0m\n",
      "\u001b[0;32m<ipython-input-14-6d81b9e02f47>\u001b[0m in \u001b[0;36m<genexpr>\u001b[0;34m(.0)\u001b[0m\n\u001b[1;32m      4\u001b[0m \u001b[0mg\u001b[0m \u001b[0;34m=\u001b[0m \u001b[0mget_batch\u001b[0m\u001b[0;34m(\u001b[0m\u001b[0mx_train\u001b[0m\u001b[0;34m,\u001b[0m \u001b[0mu_train\u001b[0m\u001b[0;34m,\u001b[0m \u001b[0my_train\u001b[0m\u001b[0;34m,\u001b[0m \u001b[0mbatchsize\u001b[0m\u001b[0;34m=\u001b[0m\u001b[0mbs\u001b[0m\u001b[0;34m)\u001b[0m\u001b[0;34m\u001b[0m\u001b[0m\n\u001b[1;32m      5\u001b[0m \u001b[0mg\u001b[0m \u001b[0;34m=\u001b[0m \u001b[0;34m(\u001b[0m\u001b[0maugment\u001b[0m\u001b[0;34m(\u001b[0m\u001b[0;34m*\u001b[0m\u001b[0margs\u001b[0m\u001b[0;34m,\u001b[0m \u001b[0mp\u001b[0m\u001b[0;34m=\u001b[0m\u001b[0mp\u001b[0m\u001b[0;34m,\u001b[0m \u001b[0mbatchsize\u001b[0m\u001b[0;34m=\u001b[0m\u001b[0mbs\u001b[0m\u001b[0;34m)\u001b[0m \u001b[0;32mfor\u001b[0m \u001b[0margs\u001b[0m \u001b[0;32min\u001b[0m \u001b[0mg\u001b[0m\u001b[0;34m)\u001b[0m\u001b[0;34m\u001b[0m\u001b[0m\n\u001b[0;32m----> 6\u001b[0;31m \u001b[0mg\u001b[0m \u001b[0;34m=\u001b[0m \u001b[0;34m(\u001b[0m\u001b[0mnormalized_data\u001b[0m\u001b[0;34m(\u001b[0m\u001b[0mxs\u001b[0m\u001b[0;34m,\u001b[0m \u001b[0mus\u001b[0m\u001b[0;34m,\u001b[0m \u001b[0mys\u001b[0m\u001b[0;34m)\u001b[0m \u001b[0;32mfor\u001b[0m \u001b[0;34m(\u001b[0m\u001b[0mxs\u001b[0m\u001b[0;34m,\u001b[0m \u001b[0mus\u001b[0m\u001b[0;34m,\u001b[0m \u001b[0mys\u001b[0m\u001b[0;34m)\u001b[0m \u001b[0;32min\u001b[0m \u001b[0mg\u001b[0m\u001b[0;34m)\u001b[0m\u001b[0;34m\u001b[0m\u001b[0m\n\u001b[0m\u001b[1;32m      7\u001b[0m \u001b[0mg\u001b[0m \u001b[0;34m=\u001b[0m \u001b[0;34m(\u001b[0m\u001b[0mdot_array\u001b[0m\u001b[0;34m(\u001b[0m\u001b[0;34m*\u001b[0m\u001b[0margs\u001b[0m\u001b[0;34m,\u001b[0m \u001b[0mxp\u001b[0m\u001b[0;34m=\u001b[0m\u001b[0mcp\u001b[0m\u001b[0;34m)\u001b[0m \u001b[0;32mfor\u001b[0m \u001b[0margs\u001b[0m \u001b[0;32min\u001b[0m \u001b[0mg\u001b[0m\u001b[0;34m)\u001b[0m\u001b[0;34m\u001b[0m\u001b[0m\n\u001b[1;32m      8\u001b[0m \u001b[0mg\u001b[0m \u001b[0;34m=\u001b[0m \u001b[0;34m(\u001b[0m\u001b[0mdot_variable\u001b[0m\u001b[0;34m(\u001b[0m\u001b[0;34m*\u001b[0m\u001b[0margs\u001b[0m\u001b[0;34m)\u001b[0m \u001b[0;32mfor\u001b[0m \u001b[0margs\u001b[0m \u001b[0;32min\u001b[0m \u001b[0mg\u001b[0m\u001b[0;34m)\u001b[0m\u001b[0;34m\u001b[0m\u001b[0m\n",
      "\u001b[0;32m<ipython-input-14-6d81b9e02f47>\u001b[0m in \u001b[0;36m<genexpr>\u001b[0;34m(.0)\u001b[0m\n\u001b[1;32m      3\u001b[0m \u001b[0mbs\u001b[0m \u001b[0;34m=\u001b[0m \u001b[0margs\u001b[0m\u001b[0;34m.\u001b[0m\u001b[0mbs\u001b[0m\u001b[0;34m\u001b[0m\u001b[0m\n\u001b[1;32m      4\u001b[0m \u001b[0mg\u001b[0m \u001b[0;34m=\u001b[0m \u001b[0mget_batch\u001b[0m\u001b[0;34m(\u001b[0m\u001b[0mx_train\u001b[0m\u001b[0;34m,\u001b[0m \u001b[0mu_train\u001b[0m\u001b[0;34m,\u001b[0m \u001b[0my_train\u001b[0m\u001b[0;34m,\u001b[0m \u001b[0mbatchsize\u001b[0m\u001b[0;34m=\u001b[0m\u001b[0mbs\u001b[0m\u001b[0;34m)\u001b[0m\u001b[0;34m\u001b[0m\u001b[0m\n\u001b[0;32m----> 5\u001b[0;31m \u001b[0mg\u001b[0m \u001b[0;34m=\u001b[0m \u001b[0;34m(\u001b[0m\u001b[0maugment\u001b[0m\u001b[0;34m(\u001b[0m\u001b[0;34m*\u001b[0m\u001b[0margs\u001b[0m\u001b[0;34m,\u001b[0m \u001b[0mp\u001b[0m\u001b[0;34m=\u001b[0m\u001b[0mp\u001b[0m\u001b[0;34m,\u001b[0m \u001b[0mbatchsize\u001b[0m\u001b[0;34m=\u001b[0m\u001b[0mbs\u001b[0m\u001b[0;34m)\u001b[0m \u001b[0;32mfor\u001b[0m \u001b[0margs\u001b[0m \u001b[0;32min\u001b[0m \u001b[0mg\u001b[0m\u001b[0;34m)\u001b[0m\u001b[0;34m\u001b[0m\u001b[0m\n\u001b[0m\u001b[1;32m      6\u001b[0m \u001b[0mg\u001b[0m \u001b[0;34m=\u001b[0m \u001b[0;34m(\u001b[0m\u001b[0mnormalized_data\u001b[0m\u001b[0;34m(\u001b[0m\u001b[0mxs\u001b[0m\u001b[0;34m,\u001b[0m \u001b[0mus\u001b[0m\u001b[0;34m,\u001b[0m \u001b[0mys\u001b[0m\u001b[0;34m)\u001b[0m \u001b[0;32mfor\u001b[0m \u001b[0;34m(\u001b[0m\u001b[0mxs\u001b[0m\u001b[0;34m,\u001b[0m \u001b[0mus\u001b[0m\u001b[0;34m,\u001b[0m \u001b[0mys\u001b[0m\u001b[0;34m)\u001b[0m \u001b[0;32min\u001b[0m \u001b[0mg\u001b[0m\u001b[0;34m)\u001b[0m\u001b[0;34m\u001b[0m\u001b[0m\n\u001b[1;32m      7\u001b[0m \u001b[0mg\u001b[0m \u001b[0;34m=\u001b[0m \u001b[0;34m(\u001b[0m\u001b[0mdot_array\u001b[0m\u001b[0;34m(\u001b[0m\u001b[0;34m*\u001b[0m\u001b[0margs\u001b[0m\u001b[0;34m,\u001b[0m \u001b[0mxp\u001b[0m\u001b[0;34m=\u001b[0m\u001b[0mcp\u001b[0m\u001b[0;34m)\u001b[0m \u001b[0;32mfor\u001b[0m \u001b[0margs\u001b[0m \u001b[0;32min\u001b[0m \u001b[0mg\u001b[0m\u001b[0;34m)\u001b[0m\u001b[0;34m\u001b[0m\u001b[0m\n",
      "\u001b[0;32m<ipython-input-13-5bb5871b9faf>\u001b[0m in \u001b[0;36mget_batch\u001b[0;34m(batchsize, *arrays)\u001b[0m\n\u001b[1;32m     27\u001b[0m     \u001b[0mgs\u001b[0m \u001b[0;34m=\u001b[0m \u001b[0;34m[\u001b[0m \u001b[0mchunk_array\u001b[0m\u001b[0;34m(\u001b[0m\u001b[0marr\u001b[0m\u001b[0;34m,\u001b[0m \u001b[0mbatchsize\u001b[0m\u001b[0;34m)\u001b[0m \u001b[0;32mfor\u001b[0m \u001b[0marr\u001b[0m \u001b[0;32min\u001b[0m \u001b[0marrays\u001b[0m\u001b[0;34m]\u001b[0m\u001b[0;34m\u001b[0m\u001b[0m\n\u001b[1;32m     28\u001b[0m     \u001b[0;32mwhile\u001b[0m \u001b[0;32mTrue\u001b[0m\u001b[0;34m:\u001b[0m\u001b[0;34m\u001b[0m\u001b[0m\n\u001b[0;32m---> 29\u001b[0;31m         \u001b[0;32myield\u001b[0m \u001b[0mtuple\u001b[0m\u001b[0;34m(\u001b[0m\u001b[0;34m[\u001b[0m \u001b[0mnext\u001b[0m\u001b[0;34m(\u001b[0m\u001b[0mg\u001b[0m\u001b[0;34m)\u001b[0m \u001b[0;32mfor\u001b[0m \u001b[0mg\u001b[0m \u001b[0;32min\u001b[0m \u001b[0mgs\u001b[0m\u001b[0;34m]\u001b[0m\u001b[0;34m)\u001b[0m\u001b[0;34m\u001b[0m\u001b[0m\n\u001b[0m\u001b[1;32m     30\u001b[0m \u001b[0;34m\u001b[0m\u001b[0m\n\u001b[1;32m     31\u001b[0m \u001b[0;32mdef\u001b[0m \u001b[0maugment\u001b[0m\u001b[0;34m(\u001b[0m\u001b[0mxs\u001b[0m\u001b[0;34m,\u001b[0m \u001b[0mus\u001b[0m\u001b[0;34m,\u001b[0m \u001b[0mys\u001b[0m\u001b[0;34m,\u001b[0m \u001b[0mp\u001b[0m\u001b[0;34m=\u001b[0m\u001b[0;32mNone\u001b[0m\u001b[0;34m,\u001b[0m \u001b[0mbatchsize\u001b[0m\u001b[0;34m=\u001b[0m\u001b[0;32mNone\u001b[0m\u001b[0;34m)\u001b[0m\u001b[0;34m:\u001b[0m\u001b[0;34m\u001b[0m\u001b[0m\n",
      "\u001b[0;32m<ipython-input-13-5bb5871b9faf>\u001b[0m in \u001b[0;36m<listcomp>\u001b[0;34m(.0)\u001b[0m\n\u001b[1;32m     27\u001b[0m     \u001b[0mgs\u001b[0m \u001b[0;34m=\u001b[0m \u001b[0;34m[\u001b[0m \u001b[0mchunk_array\u001b[0m\u001b[0;34m(\u001b[0m\u001b[0marr\u001b[0m\u001b[0;34m,\u001b[0m \u001b[0mbatchsize\u001b[0m\u001b[0;34m)\u001b[0m \u001b[0;32mfor\u001b[0m \u001b[0marr\u001b[0m \u001b[0;32min\u001b[0m \u001b[0marrays\u001b[0m\u001b[0;34m]\u001b[0m\u001b[0;34m\u001b[0m\u001b[0m\n\u001b[1;32m     28\u001b[0m     \u001b[0;32mwhile\u001b[0m \u001b[0;32mTrue\u001b[0m\u001b[0;34m:\u001b[0m\u001b[0;34m\u001b[0m\u001b[0m\n\u001b[0;32m---> 29\u001b[0;31m         \u001b[0;32myield\u001b[0m \u001b[0mtuple\u001b[0m\u001b[0;34m(\u001b[0m\u001b[0;34m[\u001b[0m \u001b[0mnext\u001b[0m\u001b[0;34m(\u001b[0m\u001b[0mg\u001b[0m\u001b[0;34m)\u001b[0m \u001b[0;32mfor\u001b[0m \u001b[0mg\u001b[0m \u001b[0;32min\u001b[0m \u001b[0mgs\u001b[0m\u001b[0;34m]\u001b[0m\u001b[0;34m)\u001b[0m\u001b[0;34m\u001b[0m\u001b[0m\n\u001b[0m\u001b[1;32m     30\u001b[0m \u001b[0;34m\u001b[0m\u001b[0m\n\u001b[1;32m     31\u001b[0m \u001b[0;32mdef\u001b[0m \u001b[0maugment\u001b[0m\u001b[0;34m(\u001b[0m\u001b[0mxs\u001b[0m\u001b[0;34m,\u001b[0m \u001b[0mus\u001b[0m\u001b[0;34m,\u001b[0m \u001b[0mys\u001b[0m\u001b[0;34m,\u001b[0m \u001b[0mp\u001b[0m\u001b[0;34m=\u001b[0m\u001b[0;32mNone\u001b[0m\u001b[0;34m,\u001b[0m \u001b[0mbatchsize\u001b[0m\u001b[0;34m=\u001b[0m\u001b[0;32mNone\u001b[0m\u001b[0;34m)\u001b[0m\u001b[0;34m:\u001b[0m\u001b[0;34m\u001b[0m\u001b[0m\n",
      "\u001b[0;32m<ipython-input-13-5bb5871b9faf>\u001b[0m in \u001b[0;36mchunk_array\u001b[0;34m(array, batchsize)\u001b[0m\n\u001b[1;32m     19\u001b[0m     \u001b[0;32mwhile\u001b[0m \u001b[0;32mTrue\u001b[0m\u001b[0;34m:\u001b[0m\u001b[0;34m\u001b[0m\u001b[0m\n\u001b[1;32m     20\u001b[0m         \u001b[0mend\u001b[0m \u001b[0;34m=\u001b[0m \u001b[0midx\u001b[0m \u001b[0;34m+\u001b[0m \u001b[0mbs\u001b[0m\u001b[0;34m\u001b[0m\u001b[0m\n\u001b[0;32m---> 21\u001b[0;31m         \u001b[0;32myield\u001b[0m \u001b[0mnp\u001b[0m\u001b[0;34m.\u001b[0m\u001b[0mtake\u001b[0m\u001b[0;34m(\u001b[0m\u001b[0marray\u001b[0m\u001b[0;34m,\u001b[0m \u001b[0mrange\u001b[0m\u001b[0;34m(\u001b[0m\u001b[0midx\u001b[0m\u001b[0;34m,\u001b[0m \u001b[0mend\u001b[0m\u001b[0;34m)\u001b[0m \u001b[0;34m,\u001b[0m \u001b[0maxis\u001b[0m\u001b[0;34m=\u001b[0m\u001b[0;36m0\u001b[0m\u001b[0;34m,\u001b[0m \u001b[0mmode\u001b[0m\u001b[0;34m=\u001b[0m\u001b[0;34m'wrap'\u001b[0m\u001b[0;34m)\u001b[0m\u001b[0;34m\u001b[0m\u001b[0m\n\u001b[0m\u001b[1;32m     22\u001b[0m         \u001b[0midx\u001b[0m \u001b[0;34m=\u001b[0m \u001b[0mend\u001b[0m\u001b[0;34m\u001b[0m\u001b[0m\n\u001b[1;32m     23\u001b[0m \u001b[0;34m\u001b[0m\u001b[0m\n",
      "\u001b[0;32m~/anaconda3/lib/python3.6/site-packages/numpy/core/fromnumeric.py\u001b[0m in \u001b[0;36mtake\u001b[0;34m(a, indices, axis, out, mode)\u001b[0m\n\u001b[1;32m    132\u001b[0m            [5, 7]])\n\u001b[1;32m    133\u001b[0m     \"\"\"\n\u001b[0;32m--> 134\u001b[0;31m     \u001b[0;32mreturn\u001b[0m \u001b[0m_wrapfunc\u001b[0m\u001b[0;34m(\u001b[0m\u001b[0ma\u001b[0m\u001b[0;34m,\u001b[0m \u001b[0;34m'take'\u001b[0m\u001b[0;34m,\u001b[0m \u001b[0mindices\u001b[0m\u001b[0;34m,\u001b[0m \u001b[0maxis\u001b[0m\u001b[0;34m=\u001b[0m\u001b[0maxis\u001b[0m\u001b[0;34m,\u001b[0m \u001b[0mout\u001b[0m\u001b[0;34m=\u001b[0m\u001b[0mout\u001b[0m\u001b[0;34m,\u001b[0m \u001b[0mmode\u001b[0m\u001b[0;34m=\u001b[0m\u001b[0mmode\u001b[0m\u001b[0;34m)\u001b[0m\u001b[0;34m\u001b[0m\u001b[0m\n\u001b[0m\u001b[1;32m    135\u001b[0m \u001b[0;34m\u001b[0m\u001b[0m\n\u001b[1;32m    136\u001b[0m \u001b[0;34m\u001b[0m\u001b[0m\n",
      "\u001b[0;32m~/anaconda3/lib/python3.6/site-packages/numpy/core/fromnumeric.py\u001b[0m in \u001b[0;36m_wrapfunc\u001b[0;34m(obj, method, *args, **kwds)\u001b[0m\n\u001b[1;32m     65\u001b[0m     \u001b[0;31m# a downstream library like 'pandas'.\u001b[0m\u001b[0;34m\u001b[0m\u001b[0;34m\u001b[0m\u001b[0m\n\u001b[1;32m     66\u001b[0m     \u001b[0;32mexcept\u001b[0m \u001b[0;34m(\u001b[0m\u001b[0mAttributeError\u001b[0m\u001b[0;34m,\u001b[0m \u001b[0mTypeError\u001b[0m\u001b[0;34m)\u001b[0m\u001b[0;34m:\u001b[0m\u001b[0;34m\u001b[0m\u001b[0m\n\u001b[0;32m---> 67\u001b[0;31m         \u001b[0;32mreturn\u001b[0m \u001b[0m_wrapit\u001b[0m\u001b[0;34m(\u001b[0m\u001b[0mobj\u001b[0m\u001b[0;34m,\u001b[0m \u001b[0mmethod\u001b[0m\u001b[0;34m,\u001b[0m \u001b[0;34m*\u001b[0m\u001b[0margs\u001b[0m\u001b[0;34m,\u001b[0m \u001b[0;34m**\u001b[0m\u001b[0mkwds\u001b[0m\u001b[0;34m)\u001b[0m\u001b[0;34m\u001b[0m\u001b[0m\n\u001b[0m\u001b[1;32m     68\u001b[0m \u001b[0;34m\u001b[0m\u001b[0m\n\u001b[1;32m     69\u001b[0m \u001b[0;34m\u001b[0m\u001b[0m\n",
      "\u001b[0;32m~/anaconda3/lib/python3.6/site-packages/numpy/core/fromnumeric.py\u001b[0m in \u001b[0;36m_wrapit\u001b[0;34m(obj, method, *args, **kwds)\u001b[0m\n\u001b[1;32m     45\u001b[0m     \u001b[0;32mexcept\u001b[0m \u001b[0mAttributeError\u001b[0m\u001b[0;34m:\u001b[0m\u001b[0;34m\u001b[0m\u001b[0m\n\u001b[1;32m     46\u001b[0m         \u001b[0mwrap\u001b[0m \u001b[0;34m=\u001b[0m \u001b[0;32mNone\u001b[0m\u001b[0;34m\u001b[0m\u001b[0m\n\u001b[0;32m---> 47\u001b[0;31m     \u001b[0mresult\u001b[0m \u001b[0;34m=\u001b[0m \u001b[0mgetattr\u001b[0m\u001b[0;34m(\u001b[0m\u001b[0masarray\u001b[0m\u001b[0;34m(\u001b[0m\u001b[0mobj\u001b[0m\u001b[0;34m)\u001b[0m\u001b[0;34m,\u001b[0m \u001b[0mmethod\u001b[0m\u001b[0;34m)\u001b[0m\u001b[0;34m(\u001b[0m\u001b[0;34m*\u001b[0m\u001b[0margs\u001b[0m\u001b[0;34m,\u001b[0m \u001b[0;34m**\u001b[0m\u001b[0mkwds\u001b[0m\u001b[0;34m)\u001b[0m\u001b[0;34m\u001b[0m\u001b[0m\n\u001b[0m\u001b[1;32m     48\u001b[0m     \u001b[0;32mif\u001b[0m \u001b[0mwrap\u001b[0m\u001b[0;34m:\u001b[0m\u001b[0;34m\u001b[0m\u001b[0m\n\u001b[1;32m     49\u001b[0m         \u001b[0;32mif\u001b[0m \u001b[0;32mnot\u001b[0m \u001b[0misinstance\u001b[0m\u001b[0;34m(\u001b[0m\u001b[0mresult\u001b[0m\u001b[0;34m,\u001b[0m \u001b[0mmu\u001b[0m\u001b[0;34m.\u001b[0m\u001b[0mndarray\u001b[0m\u001b[0;34m)\u001b[0m\u001b[0;34m:\u001b[0m\u001b[0;34m\u001b[0m\u001b[0m\n",
      "\u001b[0;32m~/anaconda3/lib/python3.6/site-packages/numpy/core/numeric.py\u001b[0m in \u001b[0;36masarray\u001b[0;34m(a, dtype, order)\u001b[0m\n\u001b[1;32m    529\u001b[0m \u001b[0;34m\u001b[0m\u001b[0m\n\u001b[1;32m    530\u001b[0m     \"\"\"\n\u001b[0;32m--> 531\u001b[0;31m     \u001b[0;32mreturn\u001b[0m \u001b[0marray\u001b[0m\u001b[0;34m(\u001b[0m\u001b[0ma\u001b[0m\u001b[0;34m,\u001b[0m \u001b[0mdtype\u001b[0m\u001b[0;34m,\u001b[0m \u001b[0mcopy\u001b[0m\u001b[0;34m=\u001b[0m\u001b[0;32mFalse\u001b[0m\u001b[0;34m,\u001b[0m \u001b[0morder\u001b[0m\u001b[0;34m=\u001b[0m\u001b[0morder\u001b[0m\u001b[0;34m)\u001b[0m\u001b[0;34m\u001b[0m\u001b[0m\n\u001b[0m\u001b[1;32m    532\u001b[0m \u001b[0;34m\u001b[0m\u001b[0m\n\u001b[1;32m    533\u001b[0m \u001b[0;34m\u001b[0m\u001b[0m\n",
      "\u001b[0;31mKeyboardInterrupt\u001b[0m: "
     ]
    }
   ],
   "source": [
    "def train(step=None, step_per_print=100):\n",
    "    x, u, t = next(g_train) \n",
    "    optimizer.update(model, x, u, t)\n",
    "    with chainer.using_config('train', True):\n",
    "        loss = model(x,u,t)\n",
    "\n",
    "    loss = float(loss.data)\n",
    "    acc = float(model.accuracy.data)\n",
    "\n",
    "    if step%step_per_print==0:\n",
    "        print('step:{}'.format(step))\n",
    "        print('loss: {:.4f}\\t acc: {:.4f}'.format(loss, acc))\n",
    "\n",
    "def validation(step=None):\n",
    "    x, u, t = next(g_val) \n",
    "    with chainer.using_config('train', False):\n",
    "        loss = model(x, u, t)\n",
    "\n",
    "    loss = float(loss.data)\n",
    "    acc = float(model.accuracy.data)\n",
    "\n",
    "    print('val_loss: {:.4f}\\t val_acc: {:.4f}'.format(loss, acc))\n",
    "\n",
    "#for step in range(args.epoch):\n",
    "for step in range(int(1e4)):\n",
    "    train(step)\n",
    "    if step%1000==0:\n",
    "        validation(step)"
   ]
  },
  {
   "cell_type": "code",
   "execution_count": 19,
   "metadata": {
    "collapsed": true
   },
   "outputs": [],
   "source": [
    "from datetime import datetime"
   ]
  },
  {
   "cell_type": "code",
   "execution_count": 20,
   "metadata": {
    "collapsed": true
   },
   "outputs": [],
   "source": [
    "model.to_cpu()\n",
    "\n",
    "serializers.save_hdf5(f'models/birds_online.20180126.hdf5', model)\n",
    "\n",
    "with open('models/birds_online.20180126.model.pkl', 'wb') as f:\n",
    "    pickle.dump(model, f)"
   ]
  },
  {
   "cell_type": "code",
   "execution_count": 21,
   "metadata": {
    "collapsed": true
   },
   "outputs": [],
   "source": [
    "with open('models/birds_online.20180126.model.pkl', 'rb') as f:\n",
    "    m = pickle.load(f)"
   ]
  },
  {
   "cell_type": "markdown",
   "metadata": {},
   "source": [
    "### 0,3 -> red finch "
   ]
  },
  {
   "cell_type": "code",
   "execution_count": 28,
   "metadata": {
    "collapsed": true
   },
   "outputs": [],
   "source": [
    "xs, us, ys = normalized_data(x_val, u_val, y_val)\n",
    "out = F.softmax(m.predictor(xs, us))"
   ]
  },
  {
   "cell_type": "code",
   "execution_count": 23,
   "metadata": {},
   "outputs": [
    {
     "data": {
      "text/plain": [
       "((66, 3, 128, 128), (66, 2), (66,))"
      ]
     },
     "execution_count": 23,
     "metadata": {},
     "output_type": "execute_result"
    }
   ],
   "source": [
    "xs.shape, us.shape, ys.shape"
   ]
  },
  {
   "cell_type": "code",
   "execution_count": 25,
   "metadata": {},
   "outputs": [
    {
     "data": {
      "text/plain": [
       "(dtype('float32'), dtype('float32'), dtype('int8'))"
      ]
     },
     "execution_count": 25,
     "metadata": {},
     "output_type": "execute_result"
    }
   ],
   "source": [
    "xs.dtype, us.dtype, ys.dtype"
   ]
  },
  {
   "cell_type": "code",
   "execution_count": 42,
   "metadata": {
    "collapsed": true
   },
   "outputs": [],
   "source": [
    "def get_bar(arr):\n",
    "    plt.style.use('ggplot')\n",
    "    plt.bar(np.arange(arr.size), arr)\n",
    "    plt.show()"
   ]
  },
  {
   "cell_type": "code",
   "execution_count": 44,
   "metadata": {},
   "outputs": [
    {
     "data": {
      "image/png": "[encoded data removed]",
      "text/plain": [
       "<matplotlib.figure.Figure at 0x7f6eab9c9d30>"
      ]
     },
     "metadata": {},
     "output_type": "display_data"
    }
   ],
   "source": [
    "get_bar(out[6].data)"
   ]
  },
  {
   "cell_type": "code",
   "execution_count": 49,
   "metadata": {},
   "outputs": [
    {
     "data": {
      "text/plain": [
       "((66, 3, 28, 28),\n",
       " (66, 2),\n",
       " (66,),\n",
       " dtype('float32'),\n",
       " dtype('float32'),\n",
       " dtype('int8'))"
      ]
     },
     "execution_count": 49,
     "metadata": {},
     "output_type": "execute_result"
    }
   ],
   "source": [
    "from tuner import load_data\n",
    "df = load_data.df_fromdir_classed('standard_datasets/5a606243b037cb270b56c29c/validation/')\n",
    "\n",
    "df_num = pd.read_csv(os.path.join('datasets/birds-dataset', 'numeric_data.csv'))\n",
    "\n",
    "df = pd.concat([df, df_num,], axis=1, join='inner')\n",
    "\n",
    "\n",
    "def normalized_data(xs, us, ys):\n",
    "    return (\n",
    "        np.swapaxes(xs/255., 1, 3).astype(np.float32),\n",
    "        utils.maxmin_normalize(us).astype(np.float32),\n",
    "        ys.astype(np.int8))\n",
    "\n",
    "tx_val, ty_val = load_data.load_fromdf(df)\n",
    "tu_val = df[['length','weight']].values\n",
    "\n",
    "xs, us, ys = normalized_data(tx_val, tu_val, ty_val)\n",
    "xs.shape, us.shape, ys.shape, xs.dtype, us.dtype, ys.dtype"
   ]
  },
  {
   "cell_type": "code",
   "execution_count": 50,
   "metadata": {},
   "outputs": [
    {
     "data": {
      "text/plain": [
       "((66, 3, 128, 128),\n",
       " (66, 2),\n",
       " (66,),\n",
       " dtype('float32'),\n",
       " dtype('float32'),\n",
       " dtype('int8'))"
      ]
     },
     "execution_count": 50,
     "metadata": {},
     "output_type": "execute_result"
    }
   ],
   "source": [
    "xs, us, ys = normalized_data(x_val, u_val, y_val)\n",
    "xs.shape, us.shape, ys.shape, xs.dtype, us.dtype, ys.dtype"
   ]
  },
  {
   "cell_type": "code",
   "execution_count": 51,
   "metadata": {},
   "outputs": [
    {
     "data": {
      "text/plain": [
       "(66, 6)"
      ]
     },
     "execution_count": 51,
     "metadata": {},
     "output_type": "execute_result"
    }
   ],
   "source": [
    "out.data.shape"
   ]
  },
  {
   "cell_type": "code",
   "execution_count": 52,
   "metadata": {},
   "outputs": [
    {
     "data": {
      "text/plain": [
       "['red_finch',\n",
       " 'red_parrot',\n",
       " 'white_finch',\n",
       " 'white_parrot',\n",
       " 'yellow_finch',\n",
       " 'yellow_parrot']"
      ]
     },
     "execution_count": 52,
     "metadata": {},
     "output_type": "execute_result"
    }
   ],
   "source": [
    "birds_dataset.labels"
   ]
  },
  {
   "cell_type": "code",
   "execution_count": 37,
   "metadata": {},
   "outputs": [],
   "source": [
    "df_out = pd.DataFrame(out.data, columns=birds_dataset.labels)"
   ]
  },
  {
   "cell_type": "code",
   "execution_count": 45,
   "metadata": {},
   "outputs": [
    {
     "data": {
      "application/javascript": [
       "/* Put everything inside the global mpl namespace */\n",
       "window.mpl = {};\n",
       "\n",
       "\n",
       "mpl.get_websocket_type = function() {\n",
       "    if (typeof(WebSocket) !== 'undefined') {\n",
       "        return WebSocket;\n",
       "    } else if (typeof(MozWebSocket) !== 'undefined') {\n",
       "        return MozWebSocket;\n",
       "    } else {\n",
       "        alert('Your browser does not have WebSocket support.' +\n",
       "              'Please try Chrome, Safari or Firefox ≥ 6. ' +\n",
       "              'Firefox 4 and 5 are also supported but you ' +\n",
       "              'have to enable WebSockets in about:config.');\n",
       "    };\n",
       "}\n",
       "\n",
       "mpl.figure = function(figure_id, websocket, ondownload, parent_element) {\n",
       "    this.id = figure_id;\n",
       "\n",
       "    this.ws = websocket;\n",
       "\n",
       "    this.supports_binary = (this.ws.binaryType != undefined);\n",
       "\n",
       "    if (!this.supports_binary) {\n",
       "        var warnings = document.getElementById(\"mpl-warnings\");\n",
       "        if (warnings) {\n",
       "            warnings.style.display = 'block';\n",
       "            warnings.textContent = (\n",
       "                \"This browser does not support binary websocket messages. \" +\n",
       "                    \"Performance may be slow.\");\n",
       "        }\n",
       "    }\n",
       "\n",
       "    this.imageObj = new Image();\n",
       "\n",
       "    this.context = undefined;\n",
       "    this.message = undefined;\n",
       "    this.canvas = undefined;\n",
       "    this.rubberband_canvas = undefined;\n",
       "    this.rubberband_context = undefined;\n",
       "    this.format_dropdown = undefined;\n",
       "\n",
       "    this.image_mode = 'full';\n",
       "\n",
       "    this.root = $('<div/>');\n",
       "    this._root_extra_style(this.root)\n",
       "    this.root.attr('style', 'display: inline-block');\n",
       "\n",
       "    $(parent_element).append(this.root);\n",
       "\n",
       "    this._init_header(this);\n",
       "    this._init_canvas(this);\n",
       "    this._init_toolbar(this);\n",
       "\n",
       "    var fig = this;\n",
       "\n",
       "    this.waiting = false;\n",
       "\n",
       "    this.ws.onopen =  function () {\n",
       "            fig.send_message(\"supports_binary\", {value: fig.supports_binary});\n",
       "            fig.send_message(\"send_image_mode\", {});\n",
       "            if (mpl.ratio != 1) {\n",
       "                fig.send_message(\"set_dpi_ratio\", {'dpi_ratio': mpl.ratio});\n",
       "            }\n",
       "            fig.send_message(\"refresh\", {});\n",
       "        }\n",
       "\n",
       "    this.imageObj.onload = function() {\n",
       "            if (fig.image_mode == 'full') {\n",
       "                // Full images could contain transparency (where diff images\n",
       "                // almost always do), so we need to clear the canvas so that\n",
       "                // there is no ghosting.\n",
       "                fig.context.clearRect(0, 0, fig.canvas.width, fig.canvas.height);\n",
       "            }\n",
       "            fig.context.drawImage(fig.imageObj, 0, 0);\n",
       "        };\n",
       "\n",
       "    this.imageObj.onunload = function() {\n",
       "        fig.ws.close();\n",
       "    }\n",
       "\n",
       "    this.ws.onmessage = this._make_on_message_function(this);\n",
       "\n",
       "    this.ondownload = ondownload;\n",
       "}\n",
       "\n",
       "mpl.figure.prototype._init_header = function() {\n",
       "    var titlebar = $(\n",
       "        '<div class=\"ui-dialog-titlebar ui-widget-header ui-corner-all ' +\n",
       "        'ui-helper-clearfix\"/>');\n",
       "    var titletext = $(\n",
       "        '<div class=\"ui-dialog-title\" style=\"width: 100%; ' +\n",
       "        'text-align: center; padding: 3px;\"/>');\n",
       "    titlebar.append(titletext)\n",
       "    this.root.append(titlebar);\n",
       "    this.header = titletext[0];\n",
       "}\n",
       "\n",
       "\n",
       "\n",
       "mpl.figure.prototype._canvas_extra_style = function(canvas_div) {\n",
       "\n",
       "}\n",
       "\n",
       "\n",
       "mpl.figure.prototype._root_extra_style = function(canvas_div) {\n",
       "\n",
       "}\n",
       "\n",
       "mpl.figure.prototype._init_canvas = function() {\n",
       "    var fig = this;\n",
       "\n",
       "    var canvas_div = $('<div/>');\n",
       "\n",
       "    canvas_div.attr('style', 'position: relative; clear: both; outline: 0');\n",
       "\n",
       "    function canvas_keyboard_event(event) {\n",
       "        return fig.key_event(event, event['data']);\n",
       "    }\n",
       "\n",
       "    canvas_div.keydown('key_press', canvas_keyboard_event);\n",
       "    canvas_div.keyup('key_release', canvas_keyboard_event);\n",
       "    this.canvas_div = canvas_div\n",
       "    this._canvas_extra_style(canvas_div)\n",
       "    this.root.append(canvas_div);\n",
       "\n",
       "    var canvas = $('<canvas/>');\n",
       "    canvas.addClass('mpl-canvas');\n",
       "    canvas.attr('style', \"left: 0; top: 0; z-index: 0; outline: 0\")\n",
       "\n",
       "    this.canvas = canvas[0];\n",
       "    this.context = canvas[0].getContext(\"2d\");\n",
       "\n",
       "    var backingStore = this.context.backingStorePixelRatio ||\n",
       "\tthis.context.webkitBackingStorePixelRatio ||\n",
       "\tthis.context.mozBackingStorePixelRatio ||\n",
       "\tthis.context.msBackingStorePixelRatio ||\n",
       "\tthis.context.oBackingStorePixelRatio ||\n",
       "\tthis.context.backingStorePixelRatio || 1;\n",
       "\n",
       "    mpl.ratio = (window.devicePixelRatio || 1) / backingStore;\n",
       "\n",
       "    var rubberband = $('<canvas/>');\n",
       "    rubberband.attr('style', \"position: absolute; left: 0; top: 0; z-index: 1;\")\n",
       "\n",
       "    var pass_mouse_events = true;\n",
       "\n",
       "    canvas_div.resizable({\n",
       "        start: function(event, ui) {\n",
       "            pass_mouse_events = false;\n",
       "        },\n",
       "        resize: function(event, ui) {\n",
       "            fig.request_resize(ui.size.width, ui.size.height);\n",
       "        },\n",
       "        stop: function(event, ui) {\n",
       "            pass_mouse_events = true;\n",
       "            fig.request_resize(ui.size.width, ui.size.height);\n",
       "        },\n",
       "    });\n",
       "\n",
       "    function mouse_event_fn(event) {\n",
       "        if (pass_mouse_events)\n",
       "            return fig.mouse_event(event, event['data']);\n",
       "    }\n",
       "\n",
       "    rubberband.mousedown('button_press', mouse_event_fn);\n",
       "    rubberband.mouseup('button_release', mouse_event_fn);\n",
       "    // Throttle sequential mouse events to 1 every 20ms.\n",
       "    rubberband.mousemove('motion_notify', mouse_event_fn);\n",
       "\n",
       "    rubberband.mouseenter('figure_enter', mouse_event_fn);\n",
       "    rubberband.mouseleave('figure_leave', mouse_event_fn);\n",
       "\n",
       "    canvas_div.on(\"wheel\", function (event) {\n",
       "        event = event.originalEvent;\n",
       "        event['data'] = 'scroll'\n",
       "        if (event.deltaY < 0) {\n",
       "            event.step = 1;\n",
       "        } else {\n",
       "            event.step = -1;\n",
       "        }\n",
       "        mouse_event_fn(event);\n",
       "    });\n",
       "\n",
       "    canvas_div.append(canvas);\n",
       "    canvas_div.append(rubberband);\n",
       "\n",
       "    this.rubberband = rubberband;\n",
       "    this.rubberband_canvas = rubberband[0];\n",
       "    this.rubberband_context = rubberband[0].getContext(\"2d\");\n",
       "    this.rubberband_context.strokeStyle = \"#000000\";\n",
       "\n",
       "    this._resize_canvas = function(width, height) {\n",
       "        // Keep the size of the canvas, canvas container, and rubber band\n",
       "        // canvas in synch.\n",
       "        canvas_div.css('width', width)\n",
       "        canvas_div.css('height', height)\n",
       "\n",
       "        canvas.attr('width', width * mpl.ratio);\n",
       "        canvas.attr('height', height * mpl.ratio);\n",
       "        canvas.attr('style', 'width: ' + width + 'px; height: ' + height + 'px;');\n",
       "\n",
       "        rubberband.attr('width', width);\n",
       "        rubberband.attr('height', height);\n",
       "    }\n",
       "\n",
       "    // Set the figure to an initial 600x600px, this will subsequently be updated\n",
       "    // upon first draw.\n",
       "    this._resize_canvas(600, 600);\n",
       "\n",
       "    // Disable right mouse context menu.\n",
       "    $(this.rubberband_canvas).bind(\"contextmenu\",function(e){\n",
       "        return false;\n",
       "    });\n",
       "\n",
       "    function set_focus () {\n",
       "        canvas.focus();\n",
       "        canvas_div.focus();\n",
       "    }\n",
       "\n",
       "    window.setTimeout(set_focus, 100);\n",
       "}\n",
       "\n",
       "mpl.figure.prototype._init_toolbar = function() {\n",
       "    var fig = this;\n",
       "\n",
       "    var nav_element = $('<div/>')\n",
       "    nav_element.attr('style', 'width: 100%');\n",
       "    this.root.append(nav_element);\n",
       "\n",
       "    // Define a callback function for later on.\n",
       "    function toolbar_event(event) {\n",
       "        return fig.toolbar_button_onclick(event['data']);\n",
       "    }\n",
       "    function toolbar_mouse_event(event) {\n",
       "        return fig.toolbar_button_onmouseover(event['data']);\n",
       "    }\n",
       "\n",
       "    for(var toolbar_ind in mpl.toolbar_items) {\n",
       "        var name = mpl.toolbar_items[toolbar_ind][0];\n",
       "        var tooltip = mpl.toolbar_items[toolbar_ind][1];\n",
       "        var image = mpl.toolbar_items[toolbar_ind][2];\n",
       "        var method_name = mpl.toolbar_items[toolbar_ind][3];\n",
       "\n",
       "        if (!name) {\n",
       "            // put a spacer in here.\n",
       "            continue;\n",
       "        }\n",
       "        var button = $('<button/>');\n",
       "        button.addClass('ui-button ui-widget ui-state-default ui-corner-all ' +\n",
       "                        'ui-button-icon-only');\n",
       "        button.attr('role', 'button');\n",
       "        button.attr('aria-disabled', 'false');\n",
       "        button.click(method_name, toolbar_event);\n",
       "        button.mouseover(tooltip, toolbar_mouse_event);\n",
       "\n",
       "        var icon_img = $('<span/>');\n",
       "        icon_img.addClass('ui-button-icon-primary ui-icon');\n",
       "        icon_img.addClass(image);\n",
       "        icon_img.addClass('ui-corner-all');\n",
       "\n",
       "        var tooltip_span = $('<span/>');\n",
       "        tooltip_span.addClass('ui-button-text');\n",
       "        tooltip_span.html(tooltip);\n",
       "\n",
       "        button.append(icon_img);\n",
       "        button.append(tooltip_span);\n",
       "\n",
       "        nav_element.append(button);\n",
       "    }\n",
       "\n",
       "    var fmt_picker_span = $('<span/>');\n",
       "\n",
       "    var fmt_picker = $('<select/>');\n",
       "    fmt_picker.addClass('mpl-toolbar-option ui-widget ui-widget-content');\n",
       "    fmt_picker_span.append(fmt_picker);\n",
       "    nav_element.append(fmt_picker_span);\n",
       "    this.format_dropdown = fmt_picker[0];\n",
       "\n",
       "    for (var ind in mpl.extensions) {\n",
       "        var fmt = mpl.extensions[ind];\n",
       "        var option = $(\n",
       "            '<option/>', {selected: fmt === mpl.default_extension}).html(fmt);\n",
       "        fmt_picker.append(option)\n",
       "    }\n",
       "\n",
       "    // Add hover states to the ui-buttons\n",
       "    $( \".ui-button\" ).hover(\n",
       "        function() { $(this).addClass(\"ui-state-hover\");},\n",
       "        function() { $(this).removeClass(\"ui-state-hover\");}\n",
       "    );\n",
       "\n",
       "    var status_bar = $('<span class=\"mpl-message\"/>');\n",
       "    nav_element.append(status_bar);\n",
       "    this.message = status_bar[0];\n",
       "}\n",
       "\n",
       "mpl.figure.prototype.request_resize = function(x_pixels, y_pixels) {\n",
       "    // Request matplotlib to resize the figure. Matplotlib will then trigger a resize in the client,\n",
       "    // which will in turn request a refresh of the image.\n",
       "    this.send_message('resize', {'width': x_pixels, 'height': y_pixels});\n",
       "}\n",
       "\n",
       "mpl.figure.prototype.send_message = function(type, properties) {\n",
       "    properties['type'] = type;\n",
       "    properties['figure_id'] = this.id;\n",
       "    this.ws.send(JSON.stringify(properties));\n",
       "}\n",
       "\n",
       "mpl.figure.prototype.send_draw_message = function() {\n",
       "    if (!this.waiting) {\n",
       "        this.waiting = true;\n",
       "        this.ws.send(JSON.stringify({type: \"draw\", figure_id: this.id}));\n",
       "    }\n",
       "}\n",
       "\n",
       "\n",
       "mpl.figure.prototype.handle_save = function(fig, msg) {\n",
       "    var format_dropdown = fig.format_dropdown;\n",
       "    var format = format_dropdown.options[format_dropdown.selectedIndex].value;\n",
       "    fig.ondownload(fig, format);\n",
       "}\n",
       "\n",
       "\n",
       "mpl.figure.prototype.handle_resize = function(fig, msg) {\n",
       "    var size = msg['size'];\n",
       "    if (size[0] != fig.canvas.width || size[1] != fig.canvas.height) {\n",
       "        fig._resize_canvas(size[0], size[1]);\n",
       "        fig.send_message(\"refresh\", {});\n",
       "    };\n",
       "}\n",
       "\n",
       "mpl.figure.prototype.handle_rubberband = function(fig, msg) {\n",
       "    var x0 = msg['x0'] / mpl.ratio;\n",
       "    var y0 = (fig.canvas.height - msg['y0']) / mpl.ratio;\n",
       "    var x1 = msg['x1'] / mpl.ratio;\n",
       "    var y1 = (fig.canvas.height - msg['y1']) / mpl.ratio;\n",
       "    x0 = Math.floor(x0) + 0.5;\n",
       "    y0 = Math.floor(y0) + 0.5;\n",
       "    x1 = Math.floor(x1) + 0.5;\n",
       "    y1 = Math.floor(y1) + 0.5;\n",
       "    var min_x = Math.min(x0, x1);\n",
       "    var min_y = Math.min(y0, y1);\n",
       "    var width = Math.abs(x1 - x0);\n",
       "    var height = Math.abs(y1 - y0);\n",
       "\n",
       "    fig.rubberband_context.clearRect(\n",
       "        0, 0, fig.canvas.width, fig.canvas.height);\n",
       "\n",
       "    fig.rubberband_context.strokeRect(min_x, min_y, width, height);\n",
       "}\n",
       "\n",
       "mpl.figure.prototype.handle_figure_label = function(fig, msg) {\n",
       "    // Updates the figure title.\n",
       "    fig.header.textContent = msg['label'];\n",
       "}\n",
       "\n",
       "mpl.figure.prototype.handle_cursor = function(fig, msg) {\n",
       "    var cursor = msg['cursor'];\n",
       "    switch(cursor)\n",
       "    {\n",
       "    case 0:\n",
       "        cursor = 'pointer';\n",
       "        break;\n",
       "    case 1:\n",
       "        cursor = 'default';\n",
       "        break;\n",
       "    case 2:\n",
       "        cursor = 'crosshair';\n",
       "        break;\n",
       "    case 3:\n",
       "        cursor = 'move';\n",
       "        break;\n",
       "    }\n",
       "    fig.rubberband_canvas.style.cursor = cursor;\n",
       "}\n",
       "\n",
       "mpl.figure.prototype.handle_message = function(fig, msg) {\n",
       "    fig.message.textContent = msg['message'];\n",
       "}\n",
       "\n",
       "mpl.figure.prototype.handle_draw = function(fig, msg) {\n",
       "    // Request the server to send over a new figure.\n",
       "    fig.send_draw_message();\n",
       "}\n",
       "\n",
       "mpl.figure.prototype.handle_image_mode = function(fig, msg) {\n",
       "    fig.image_mode = msg['mode'];\n",
       "}\n",
       "\n",
       "mpl.figure.prototype.updated_canvas_event = function() {\n",
       "    // Called whenever the canvas gets updated.\n",
       "    this.send_message(\"ack\", {});\n",
       "}\n",
       "\n",
       "// A function to construct a web socket function for onmessage handling.\n",
       "// Called in the figure constructor.\n",
       "mpl.figure.prototype._make_on_message_function = function(fig) {\n",
       "    return function socket_on_message(evt) {\n",
       "        if (evt.data instanceof Blob) {\n",
       "            /* FIXME: We get \"Resource interpreted as Image but\n",
       "             * transferred with MIME type text/plain:\" errors on\n",
       "             * Chrome.  But how to set the MIME type?  It doesn't seem\n",
       "             * to be part of the websocket stream */\n",
       "            evt.data.type = \"image/png\";\n",
       "\n",
       "            /* Free the memory for the previous frames */\n",
       "            if (fig.imageObj.src) {\n",
       "                (window.URL || window.webkitURL).revokeObjectURL(\n",
       "                    fig.imageObj.src);\n",
       "            }\n",
       "\n",
       "            fig.imageObj.src = (window.URL || window.webkitURL).createObjectURL(\n",
       "                evt.data);\n",
       "            fig.updated_canvas_event();\n",
       "            fig.waiting = false;\n",
       "            return;\n",
       "        }\n",
       "        else if (typeof evt.data === 'string' && evt.data.slice(0, 21) == \"data:image/png;base64\") {\n",
       "            fig.imageObj.src = evt.data;\n",
       "            fig.updated_canvas_event();\n",
       "            fig.waiting = false;\n",
       "            return;\n",
       "        }\n",
       "\n",
       "        var msg = JSON.parse(evt.data);\n",
       "        var msg_type = msg['type'];\n",
       "\n",
       "        // Call the  \"handle_{type}\" callback, which takes\n",
       "        // the figure and JSON message as its only arguments.\n",
       "        try {\n",
       "            var callback = fig[\"handle_\" + msg_type];\n",
       "        } catch (e) {\n",
       "            console.log(\"No handler for the '\" + msg_type + \"' message type: \", msg);\n",
       "            return;\n",
       "        }\n",
       "\n",
       "        if (callback) {\n",
       "            try {\n",
       "                // console.log(\"Handling '\" + msg_type + \"' message: \", msg);\n",
       "                callback(fig, msg);\n",
       "            } catch (e) {\n",
       "                console.log(\"Exception inside the 'handler_\" + msg_type + \"' callback:\", e, e.stack, msg);\n",
       "            }\n",
       "        }\n",
       "    };\n",
       "}\n",
       "\n",
       "// from http://stackoverflow.com/questions/1114465/getting-mouse-location-in-canvas\n",
       "mpl.findpos = function(e) {\n",
       "    //this section is from http://www.quirksmode.org/js/events_properties.html\n",
       "    var targ;\n",
       "    if (!e)\n",
       "        e = window.event;\n",
       "    if (e.target)\n",
       "        targ = e.target;\n",
       "    else if (e.srcElement)\n",
       "        targ = e.srcElement;\n",
       "    if (targ.nodeType == 3) // defeat Safari bug\n",
       "        targ = targ.parentNode;\n",
       "\n",
       "    // jQuery normalizes the pageX and pageY\n",
       "    // pageX,Y are the mouse positions relative to the document\n",
       "    // offset() returns the position of the element relative to the document\n",
       "    var x = e.pageX - $(targ).offset().left;\n",
       "    var y = e.pageY - $(targ).offset().top;\n",
       "\n",
       "    return {\"x\": x, \"y\": y};\n",
       "};\n",
       "\n",
       "/*\n",
       " * return a copy of an object with only non-object keys\n",
       " * we need this to avoid circular references\n",
       " * http://stackoverflow.com/a/24161582/3208463\n",
       " */\n",
       "function simpleKeys (original) {\n",
       "  return Object.keys(original).reduce(function (obj, key) {\n",
       "    if (typeof original[key] !== 'object')\n",
       "        obj[key] = original[key]\n",
       "    return obj;\n",
       "  }, {});\n",
       "}\n",
       "\n",
       "mpl.figure.prototype.mouse_event = function(event, name) {\n",
       "    var canvas_pos = mpl.findpos(event)\n",
       "\n",
       "    if (name === 'button_press')\n",
       "    {\n",
       "        this.canvas.focus();\n",
       "        this.canvas_div.focus();\n",
       "    }\n",
       "\n",
       "    var x = canvas_pos.x * mpl.ratio;\n",
       "    var y = canvas_pos.y * mpl.ratio;\n",
       "\n",
       "    this.send_message(name, {x: x, y: y, button: event.button,\n",
       "                             step: event.step,\n",
       "                             guiEvent: simpleKeys(event)});\n",
       "\n",
       "    /* This prevents the web browser from automatically changing to\n",
       "     * the text insertion cursor when the button is pressed.  We want\n",
       "     * to control all of the cursor setting manually through the\n",
       "     * 'cursor' event from matplotlib */\n",
       "    event.preventDefault();\n",
       "    return false;\n",
       "}\n",
       "\n",
       "mpl.figure.prototype._key_event_extra = function(event, name) {\n",
       "    // Handle any extra behaviour associated with a key event\n",
       "}\n",
       "\n",
       "mpl.figure.prototype.key_event = function(event, name) {\n",
       "\n",
       "    // Prevent repeat events\n",
       "    if (name == 'key_press')\n",
       "    {\n",
       "        if (event.which === this._key)\n",
       "            return;\n",
       "        else\n",
       "            this._key = event.which;\n",
       "    }\n",
       "    if (name == 'key_release')\n",
       "        this._key = null;\n",
       "\n",
       "    var value = '';\n",
       "    if (event.ctrlKey && event.which != 17)\n",
       "        value += \"ctrl+\";\n",
       "    if (event.altKey && event.which != 18)\n",
       "        value += \"alt+\";\n",
       "    if (event.shiftKey && event.which != 16)\n",
       "        value += \"shift+\";\n",
       "\n",
       "    value += 'k';\n",
       "    value += event.which.toString();\n",
       "\n",
       "    this._key_event_extra(event, name);\n",
       "\n",
       "    this.send_message(name, {key: value,\n",
       "                             guiEvent: simpleKeys(event)});\n",
       "    return false;\n",
       "}\n",
       "\n",
       "mpl.figure.prototype.toolbar_button_onclick = function(name) {\n",
       "    if (name == 'download') {\n",
       "        this.handle_save(this, null);\n",
       "    } else {\n",
       "        this.send_message(\"toolbar_button\", {name: name});\n",
       "    }\n",
       "};\n",
       "\n",
       "mpl.figure.prototype.toolbar_button_onmouseover = function(tooltip) {\n",
       "    this.message.textContent = tooltip;\n",
       "};\n",
       "mpl.toolbar_items = [[\"Home\", \"Reset original view\", \"fa fa-home icon-home\", \"home\"], [\"Back\", \"Back to  previous view\", \"fa fa-arrow-left icon-arrow-left\", \"back\"], [\"Forward\", \"Forward to next view\", \"fa fa-arrow-right icon-arrow-right\", \"forward\"], [\"\", \"\", \"\", \"\"], [\"Pan\", \"Pan axes with left mouse, zoom with right\", \"fa fa-arrows icon-move\", \"pan\"], [\"Zoom\", \"Zoom to rectangle\", \"fa fa-square-o icon-check-empty\", \"zoom\"], [\"\", \"\", \"\", \"\"], [\"Download\", \"Download plot\", \"fa fa-floppy-o icon-save\", \"download\"]];\n",
       "\n",
       "mpl.extensions = [\"eps\", \"jpeg\", \"pdf\", \"png\", \"ps\", \"raw\", \"svg\", \"tif\"];\n",
       "\n",
       "mpl.default_extension = \"png\";var comm_websocket_adapter = function(comm) {\n",
       "    // Create a \"websocket\"-like object which calls the given IPython comm\n",
       "    // object with the appropriate methods. Currently this is a non binary\n",
       "    // socket, so there is still some room for performance tuning.\n",
       "    var ws = {};\n",
       "\n",
       "    ws.close = function() {\n",
       "        comm.close()\n",
       "    };\n",
       "    ws.send = function(m) {\n",
       "        //console.log('sending', m);\n",
       "        comm.send(m);\n",
       "    };\n",
       "    // Register the callback with on_msg.\n",
       "    comm.on_msg(function(msg) {\n",
       "        //console.log('receiving', msg['content']['data'], msg);\n",
       "        // Pass the mpl event to the overriden (by mpl) onmessage function.\n",
       "        ws.onmessage(msg['content']['data'])\n",
       "    });\n",
       "    return ws;\n",
       "}\n",
       "\n",
       "mpl.mpl_figure_comm = function(comm, msg) {\n",
       "    // This is the function which gets called when the mpl process\n",
       "    // starts-up an IPython Comm through the \"matplotlib\" channel.\n",
       "\n",
       "    var id = msg.content.data.id;\n",
       "    // Get hold of the div created by the display call when the Comm\n",
       "    // socket was opened in Python.\n",
       "    var element = $(\"#\" + id);\n",
       "    var ws_proxy = comm_websocket_adapter(comm)\n",
       "\n",
       "    function ondownload(figure, format) {\n",
       "        window.open(figure.imageObj.src);\n",
       "    }\n",
       "\n",
       "    var fig = new mpl.figure(id, ws_proxy,\n",
       "                           ondownload,\n",
       "                           element.get(0));\n",
       "\n",
       "    // Call onopen now - mpl needs it, as it is assuming we've passed it a real\n",
       "    // web socket which is closed, not our websocket->open comm proxy.\n",
       "    ws_proxy.onopen();\n",
       "\n",
       "    fig.parent_element = element.get(0);\n",
       "    fig.cell_info = mpl.find_output_cell(\"<div id='\" + id + \"'></div>\");\n",
       "    if (!fig.cell_info) {\n",
       "        console.error(\"Failed to find cell for figure\", id, fig);\n",
       "        return;\n",
       "    }\n",
       "\n",
       "    var output_index = fig.cell_info[2]\n",
       "    var cell = fig.cell_info[0];\n",
       "\n",
       "};\n",
       "\n",
       "mpl.figure.prototype.handle_close = function(fig, msg) {\n",
       "    var width = fig.canvas.width/mpl.ratio\n",
       "    fig.root.unbind('remove')\n",
       "\n",
       "    // Update the output cell to use the data from the current canvas.\n",
       "    fig.push_to_output();\n",
       "    var dataURL = fig.canvas.toDataURL();\n",
       "    // Re-enable the keyboard manager in IPython - without this line, in FF,\n",
       "    // the notebook keyboard shortcuts fail.\n",
       "    IPython.keyboard_manager.enable()\n",
       "    $(fig.parent_element).html('<img src=\"' + dataURL + '\" width=\"' + width + '\">');\n",
       "    fig.close_ws(fig, msg);\n",
       "}\n",
       "\n",
       "mpl.figure.prototype.close_ws = function(fig, msg){\n",
       "    fig.send_message('closing', msg);\n",
       "    // fig.ws.close()\n",
       "}\n",
       "\n",
       "mpl.figure.prototype.push_to_output = function(remove_interactive) {\n",
       "    // Turn the data on the canvas into data in the output cell.\n",
       "    var width = this.canvas.width/mpl.ratio\n",
       "    var dataURL = this.canvas.toDataURL();\n",
       "    this.cell_info[1]['text/html'] = '<img src=\"' + dataURL + '\" width=\"' + width + '\">';\n",
       "}\n",
       "\n",
       "mpl.figure.prototype.updated_canvas_event = function() {\n",
       "    // Tell IPython that the notebook contents must change.\n",
       "    IPython.notebook.set_dirty(true);\n",
       "    this.send_message(\"ack\", {});\n",
       "    var fig = this;\n",
       "    // Wait a second, then push the new image to the DOM so\n",
       "    // that it is saved nicely (might be nice to debounce this).\n",
       "    setTimeout(function () { fig.push_to_output() }, 1000);\n",
       "}\n",
       "\n",
       "mpl.figure.prototype._init_toolbar = function() {\n",
       "    var fig = this;\n",
       "\n",
       "    var nav_element = $('<div/>')\n",
       "    nav_element.attr('style', 'width: 100%');\n",
       "    this.root.append(nav_element);\n",
       "\n",
       "    // Define a callback function for later on.\n",
       "    function toolbar_event(event) {\n",
       "        return fig.toolbar_button_onclick(event['data']);\n",
       "    }\n",
       "    function toolbar_mouse_event(event) {\n",
       "        return fig.toolbar_button_onmouseover(event['data']);\n",
       "    }\n",
       "\n",
       "    for(var toolbar_ind in mpl.toolbar_items){\n",
       "        var name = mpl.toolbar_items[toolbar_ind][0];\n",
       "        var tooltip = mpl.toolbar_items[toolbar_ind][1];\n",
       "        var image = mpl.toolbar_items[toolbar_ind][2];\n",
       "        var method_name = mpl.toolbar_items[toolbar_ind][3];\n",
       "\n",
       "        if (!name) { continue; };\n",
       "\n",
       "        var button = $('<button class=\"btn btn-default\" href=\"#\" title=\"' + name + '\"><i class=\"fa ' + image + ' fa-lg\"></i></button>');\n",
       "        button.click(method_name, toolbar_event);\n",
       "        button.mouseover(tooltip, toolbar_mouse_event);\n",
       "        nav_element.append(button);\n",
       "    }\n",
       "\n",
       "    // Add the status bar.\n",
       "    var status_bar = $('<span class=\"mpl-message\" style=\"text-align:right; float: right;\"/>');\n",
       "    nav_element.append(status_bar);\n",
       "    this.message = status_bar[0];\n",
       "\n",
       "    // Add the close button to the window.\n",
       "    var buttongrp = $('<div class=\"btn-group inline pull-right\"></div>');\n",
       "    var button = $('<button class=\"btn btn-mini btn-primary\" href=\"#\" title=\"Stop Interaction\"><i class=\"fa fa-power-off icon-remove icon-large\"></i></button>');\n",
       "    button.click(function (evt) { fig.handle_close(fig, {}); } );\n",
       "    button.mouseover('Stop Interaction', toolbar_mouse_event);\n",
       "    buttongrp.append(button);\n",
       "    var titlebar = this.root.find($('.ui-dialog-titlebar'));\n",
       "    titlebar.prepend(buttongrp);\n",
       "}\n",
       "\n",
       "mpl.figure.prototype._root_extra_style = function(el){\n",
       "    var fig = this\n",
       "    el.on(\"remove\", function(){\n",
       "\tfig.close_ws(fig, {});\n",
       "    });\n",
       "}\n",
       "\n",
       "mpl.figure.prototype._canvas_extra_style = function(el){\n",
       "    // this is important to make the div 'focusable\n",
       "    el.attr('tabindex', 0)\n",
       "    // reach out to IPython and tell the keyboard manager to turn it's self\n",
       "    // off when our div gets focus\n",
       "\n",
       "    // location in version 3\n",
       "    if (IPython.notebook.keyboard_manager) {\n",
       "        IPython.notebook.keyboard_manager.register_events(el);\n",
       "    }\n",
       "    else {\n",
       "        // location in version 2\n",
       "        IPython.keyboard_manager.register_events(el);\n",
       "    }\n",
       "\n",
       "}\n",
       "\n",
       "mpl.figure.prototype._key_event_extra = function(event, name) {\n",
       "    var manager = IPython.notebook.keyboard_manager;\n",
       "    if (!manager)\n",
       "        manager = IPython.keyboard_manager;\n",
       "\n",
       "    // Check for shift+enter\n",
       "    if (event.shiftKey && event.which == 13) {\n",
       "        this.canvas_div.blur();\n",
       "        event.shiftKey = false;\n",
       "        // Send a \"J\" for go to next cell\n",
       "        event.which = 74;\n",
       "        event.keyCode = 74;\n",
       "        manager.command_mode();\n",
       "        manager.handle_keydown(event);\n",
       "    }\n",
       "}\n",
       "\n",
       "mpl.figure.prototype.handle_save = function(fig, msg) {\n",
       "    fig.ondownload(fig, null);\n",
       "}\n",
       "\n",
       "\n",
       "mpl.find_output_cell = function(html_output) {\n",
       "    // Return the cell and output element which can be found *uniquely* in the notebook.\n",
       "    // Note - this is a bit hacky, but it is done because the \"notebook_saving.Notebook\"\n",
       "    // IPython event is triggered only after the cells have been serialised, which for\n",
       "    // our purposes (turning an active figure into a static one), is too late.\n",
       "    var cells = IPython.notebook.get_cells();\n",
       "    var ncells = cells.length;\n",
       "    for (var i=0; i<ncells; i++) {\n",
       "        var cell = cells[i];\n",
       "        if (cell.cell_type === 'code'){\n",
       "            for (var j=0; j<cell.output_area.outputs.length; j++) {\n",
       "                var data = cell.output_area.outputs[j];\n",
       "                if (data.data) {\n",
       "                    // IPython >= 3 moved mimebundle to data attribute of output\n",
       "                    data = data.data;\n",
       "                }\n",
       "                if (data['text/html'] == html_output) {\n",
       "                    return [cell, data, j];\n",
       "                }\n",
       "            }\n",
       "        }\n",
       "    }\n",
       "}\n",
       "\n",
       "// Register the function which deals with the matplotlib target/channel.\n",
       "// The kernel may be null if the page has been refreshed.\n",
       "if (IPython.notebook.kernel != null) {\n",
       "    IPython.notebook.kernel.comm_manager.register_target('matplotlib', mpl.mpl_figure_comm);\n",
       "}\n"
      ],
      "text/plain": [
       "<IPython.core.display.Javascript object>"
      ]
     },
     "metadata": {},
     "output_type": "display_data"
    },
    {
     "data": {
      "text/html": [
       "<img src=\"data:image/png;base64,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\" width=\"640\">"
      ],
      "text/plain": [
       "<IPython.core.display.HTML object>"
      ]
     },
     "metadata": {},
     "output_type": "display_data"
    },
    {
     "data": {
      "text/plain": [
       "<matplotlib.axes._subplots.AxesSubplot at 0x7fd5e070bba8>"
      ]
     },
     "execution_count": 45,
     "metadata": {},
     "output_type": "execute_result"
    }
   ],
   "source": [
    "%matplotlib notebook\n",
    "import matplotlib.pyplot as plt\n",
    "plt.style.use('ggplot')\n",
    "df_out.ix[0].plot.bar()"
   ]
  },
  {
   "cell_type": "code",
   "execution_count": null,
   "metadata": {
    "collapsed": true
   },
   "outputs": [],
   "source": []
  }
 ],
 "metadata": {
  "kernelspec": {
   "display_name": "Python 3",
   "language": "python",
   "name": "python3"
  },
  "language_info": {
   "codemirror_mode": {
    "name": "ipython",
    "version": 3
   },
   "file_extension": ".py",
   "mimetype": "text/x-python",
   "name": "python",
   "nbconvert_exporter": "python",
   "pygments_lexer": "ipython3",
   "version": "3.6.3"
  }
 },
 "nbformat": 4,
 "nbformat_minor": 2
}
