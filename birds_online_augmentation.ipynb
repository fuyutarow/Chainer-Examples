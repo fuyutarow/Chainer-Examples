{
 "cells": [
  {
   "cell_type": "code",
   "execution_count": 1,
   "metadata": {},
   "outputs": [
    {
     "name": "stderr",
     "output_type": "stream",
     "text": [
      "/home/fytroo/anaconda3/lib/python3.6/importlib/_bootstrap.py:219: RuntimeWarning: compiletime version 3.5 of module 'tensorflow.python.framework.fast_tensor_util' does not match runtime version 3.6\n",
      "  return f(*args, **kwds)\n",
      "Using TensorFlow backend.\n"
     ]
    }
   ],
   "source": [
    "import os\n",
    "import shutil\n",
    "import random\n",
    "import pickle\n",
    "\n",
    "from PIL import Image\n",
    "import numpy as np\n",
    "import matplotlib.pyplot as plt\n",
    "import pandas as pd\n",
    "\n",
    "import chainer\n",
    "from chainer.dataset import convert\n",
    "import chainer.links as L\n",
    "import chainer.functions as F\n",
    "import chainer.initializers as I\n",
    "from chainer import serializers\n",
    "\n",
    "from tuner.dataset import ClassificationDataset, AugmentDataset\n",
    "from tuner import net\n",
    "from tuner import utils\n",
    "from tuner.utils import maxmin_normalize\n",
    "from tuner.load_data import arr2img "
   ]
  },
  {
   "cell_type": "markdown",
   "metadata": {},
   "source": [
    "### ハイパーパラメータ"
   ]
  },
  {
   "cell_type": "code",
   "execution_count": 2,
   "metadata": {},
   "outputs": [
    {
     "name": "stdout",
     "output_type": "stream",
     "text": [
      "no argsparse\n"
     ]
    }
   ],
   "source": [
    "from easydict import EasyDict\n",
    "args = EasyDict({\n",
    "    'src_dir' : 'datasets/birds-dataset',\n",
    "    'bs': 32, \n",
    "    'epoch' : 100,\n",
    "    'lr' : 0.001,\n",
    "    'gpu': 0,\n",
    "    'out': 'result',\n",
    "    'resume': '',\n",
    "    'img_size': 128,\n",
    "})\n",
    "try:\n",
    "    __file__.endswith('py')\n",
    "    import argparse\n",
    "    parser = argparse.ArgumentParser(description='Chainer example: MNIST')\n",
    "    parser.add_argument('--batchsize', '-b', dest='bs', type=int, default=args.bs,\n",
    "                        help='Number of images in each mini-batch')\n",
    "    parser.add_argument('--epoch', '-e', type=int, default=args.epoch,\n",
    "                        help='Number of sweeps over the dataset to train')\n",
    "    parser.add_argument('--learningrate', '-l', dest='lr', type=float, default=args.lr,\n",
    "                        help='Number of sweeps over the dataset to train')\n",
    "    parser.add_argument('--frequency', '-f', type=int, default=-1,\n",
    "                        help='Frequency of taking a snapshot')\n",
    "    parser.add_argument('--gpu', '-g', type=int, default=args.gpu,\n",
    "                        help='GPU ID (negative value indicates CPU)')\n",
    "    parser.add_argument('--out', '-o', default=args.out,\n",
    "                        help='Directory to output the result')\n",
    "    parser.add_argument('--resume', '-r', default=args.resume,\n",
    "                        help='Resume the training from snapshot')\n",
    "    parser.add_argument('--unit', '-u', dest='n_in', type=int, default=args.n_in,\n",
    "                        help='Number of units')\n",
    "    parser.add_argument('--noplot', dest='plot', action='store_false',\n",
    "                        help='Disable PlotReport extension')\n",
    "    args = parser.parse_args()\n",
    "except:\n",
    "    print('no argsparse')\n",
    "    pass"
   ]
  },
  {
   "cell_type": "code",
   "execution_count": 3,
   "metadata": {
    "scrolled": true
   },
   "outputs": [
    {
     "name": "stderr",
     "output_type": "stream",
     "text": [
      "/home/fytroo/anaconda3/lib/python3.6/site-packages/ipykernel_launcher.py:5: SettingWithCopyWarning: \n",
      "A value is trying to be set on a copy of a slice from a DataFrame.\n",
      "Try using .loc[row_indexer,col_indexer] = value instead\n",
      "\n",
      "See the caveats in the documentation: http://pandas.pydata.org/pandas-docs/stable/indexing.html#indexing-view-versus-copy\n",
      "  \"\"\"\n",
      "/home/fytroo/anaconda3/lib/python3.6/site-packages/ipykernel_launcher.py:6: SettingWithCopyWarning: \n",
      "A value is trying to be set on a copy of a slice from a DataFrame.\n",
      "Try using .loc[row_indexer,col_indexer] = value instead\n",
      "\n",
      "See the caveats in the documentation: http://pandas.pydata.org/pandas-docs/stable/indexing.html#indexing-view-versus-copy\n",
      "  \n",
      "/home/fytroo/anaconda3/lib/python3.6/site-packages/ipykernel_launcher.py:9: SettingWithCopyWarning: \n",
      "A value is trying to be set on a copy of a slice from a DataFrame.\n",
      "Try using .loc[row_indexer,col_indexer] = value instead\n",
      "\n",
      "See the caveats in the documentation: http://pandas.pydata.org/pandas-docs/stable/indexing.html#indexing-view-versus-copy\n",
      "  if __name__ == '__main__':\n",
      "/home/fytroo/anaconda3/lib/python3.6/site-packages/ipykernel_launcher.py:10: SettingWithCopyWarning: \n",
      "A value is trying to be set on a copy of a slice from a DataFrame.\n",
      "Try using .loc[row_indexer,col_indexer] = value instead\n",
      "\n",
      "See the caveats in the documentation: http://pandas.pydata.org/pandas-docs/stable/indexing.html#indexing-view-versus-copy\n",
      "  # Remove the CWD from sys.path while we load stuff.\n"
     ]
    }
   ],
   "source": [
    "birds_dataset = ClassificationDataset(args.src_dir)\n",
    "\n",
    "df = birds_dataset.df\n",
    "df_finch = df[df['label'].str.contains('finch')]\n",
    "df_finch['length'] = np.random.normal(25.5, 3, len(df_finch))\n",
    "df_finch['weight'] = np.random.normal(85, 10, len(df_finch))\n",
    "\n",
    "df_parrot = df[df['label'].str.contains('parrot')]\n",
    "df_parrot['length'] = np.random.normal(55.5, 1, len(df_parrot))\n",
    "df_parrot['weight'] = np.random.normal(850, 100, len(df_parrot))\n",
    "\n",
    "df = pd.concat([df_finch, df_parrot])\n",
    "df = df[['handle', 'length', 'weight']]\n",
    "\n",
    "df.to_csv(os.path.join(args.src_dir, 'numeric_data.csv'), index=False)"
   ]
  },
  {
   "cell_type": "markdown",
   "metadata": {},
   "source": [
    "## ここまで画像に紐づく数値データを生成，ここからデータセット読み込み，学習をはじめる"
   ]
  },
  {
   "cell_type": "markdown",
   "metadata": {},
   "source": [
    "### モデルを定義"
   ]
  },
  {
   "cell_type": "code",
   "execution_count": 4,
   "metadata": {
    "collapsed": true
   },
   "outputs": [],
   "source": [
    "class LeNet(chainer.Chain):\n",
    "    def __init__(self, n_out=10):\n",
    "        super(LeNet, self).__init__()\n",
    "        \n",
    "        initialW= I.HeNormal()\n",
    "        with self.init_scope():\n",
    "            self.conv0 = L.Convolution2D(None, 16, 1, 1, 0, initialW=initialW, nobias=True)\n",
    "            \n",
    "            self.bn11 = L.BatchNormalization(16)\n",
    "            self.conv11 = L.Convolution2D(None, 32, 3, 1, 1, initialW=initialW, nobias=True)\n",
    "            self.bn12 = L.BatchNormalization(32)\n",
    "            self.conv12 = L.Convolution2D(None, 32, 3, 1, 1, initialW=initialW, nobias=True)\n",
    "            \n",
    "            self.bn21 = L.BatchNormalization(32)\n",
    "            self.conv21 = L.Convolution2D(None, 64, 3, 1, 1, initialW=initialW, nobias=True)\n",
    "            self.bn22 = L.BatchNormalization(64)\n",
    "            self.conv22 = L.Convolution2D(None, 64, 3, 1, 1, initialW=initialW, nobias=True)\n",
    "            \n",
    "            self.conv_out = L.Convolution2D(None, n_out)\n",
    "            self.fc = L.Linear(None, n_out)\n",
    "    \n",
    "    def __call__(self, x):\n",
    "        h = x\n",
    "        h = self.conv0(h)\n",
    "        \n",
    "        h = self.bn11(h)\n",
    "        h = F.relu(h)\n",
    "        h = self.conv11(h)\n",
    "        h = self.bn12(h)\n",
    "        h = F.relu(h)\n",
    "        h = self.conv12(h)\n",
    "        h = F.average_pooling_2d(h, ksize=2, stride=2)\n",
    "        \n",
    "        h = self.bn21(h)\n",
    "        h = F.relu(h)\n",
    "        h = self.conv21(h)\n",
    "        h = self.bn22(h)\n",
    "        h = F.relu(h)\n",
    "        h = self.conv22(h)\n",
    "        \n",
    "        print('#1', h.shape)\n",
    "        h = self.conv_out(h)\n",
    "        print('#2', h.shape)\n",
    "        h = F.squeeze(F.average_ppoling_2d(h,4))\n",
    "        print('#3', h.shape)\n",
    "        h = F.average_pooling_2d(h, ksize=2, stride=2)\n",
    "        print('#4', h.shape)\n",
    "        h = self.fc(h)\n",
    "        \n",
    "        return h"
   ]
  },
  {
   "cell_type": "code",
   "execution_count": 5,
   "metadata": {
    "collapsed": true
   },
   "outputs": [],
   "source": [
    "class LeNet(chainer.Chain):\n",
    "    def __init__(self, n_out=10):\n",
    "        super(LeNet, self).__init__()\n",
    "        \n",
    "        initialW= I.HeNormal()\n",
    "        with self.init_scope():\n",
    "            self.conv0 = L.Convolution2D(None, 16, 1, 1, 0, initialW=initialW, nobias=True)\n",
    "            \n",
    "            self.bn11 = L.BatchNormalization(16)\n",
    "            self.conv11 = L.Convolution2D(None, 32, 3, 1, 1, initialW=initialW, nobias=True)\n",
    "            self.bn12 = L.BatchNormalization(32)\n",
    "            self.conv12 = L.Convolution2D(None, 32, 3, 1, 1, initialW=initialW, nobias=True)\n",
    "            \n",
    "            self.bn21 = L.BatchNormalization(32)\n",
    "            self.conv21 = L.Convolution2D(None, 64, 3, 1, 1, initialW=initialW, nobias=True)\n",
    "            self.bn22 = L.BatchNormalization(64)\n",
    "            self.conv22 = L.Convolution2D(None, 64, 3, 1, 1, initialW=initialW, nobias=True)\n",
    "            \n",
    "            self.conv_out = L.Convolution2D(None, n_out)\n",
    "            self.fc = L.Linear(None, 20)\n",
    "            self.l1 = L.Linear(None, 20)\n",
    "            self.l2 = L.Linear(None, n_out)\n",
    "    \n",
    "    def __call__(self, x, u):\n",
    "        h = x\n",
    "        h = self.conv0(h)\n",
    "        \n",
    "        h = self.bn11(h)\n",
    "        h = F.relu(h)\n",
    "        h = self.conv11(h)\n",
    "        h = self.bn12(h)\n",
    "        h = F.relu(h)\n",
    "        h = self.conv12(h)\n",
    "        h = F.average_pooling_2d(h, ksize=2, stride=2)\n",
    "        h = F.dropout(h, ratio=0.4)\n",
    "        \n",
    "        h = self.bn21(h)\n",
    "        h = F.relu(h)\n",
    "        h = self.conv21(h)\n",
    "        h = self.bn22(h)\n",
    "        h = F.relu(h)\n",
    "        h = self.conv22(h)\n",
    "        h = F.average_pooling_2d(h, ksize=2, stride=2)\n",
    "        h = F.dropout(h, ratio=0.5)\n",
    "        \n",
    "        h = self.fc(h)\n",
    "        #h = F.relu(h)\n",
    "        h = F.dropout(h, ratio=0.5)\n",
    "        h = F.concat((h, u), axis=1)\n",
    "        h = F.dropout(h, ratio=0.8)\n",
    "        h = self.l1(h)\n",
    "        h = F.relu(h)\n",
    "        h = F.dropout(h, ratio=0.6)\n",
    "        h = self.l2(h)\n",
    "        \n",
    "        return h"
   ]
  },
  {
   "cell_type": "code",
   "execution_count": 6,
   "metadata": {
    "collapsed": true,
    "scrolled": true
   },
   "outputs": [],
   "source": [
    "birds_dataset = ClassificationDataset(args.src_dir)"
   ]
  },
  {
   "cell_type": "markdown",
   "metadata": {},
   "source": [
    "### build model"
   ]
  },
  {
   "cell_type": "code",
   "execution_count": 7,
   "metadata": {
    "collapsed": true
   },
   "outputs": [],
   "source": [
    "n_label = birds_dataset.n_label \n",
    "model = L.Classifier(LeNet(n_label),\n",
    "                    lossfun=F.softmax_cross_entropy,\n",
    "                    accfun=F.accuracy)\n",
    "xp = np\n",
    "if args.gpu >= 0:\n",
    "    import cupy as cp\n",
    "    xp = cp\n",
    "    chainer.cuda.get_device_from_id(args.gpu).use()\n",
    "    model.to_gpu()  # Copy the model to the GPU\n",
    "optimizer = chainer.optimizers.Adam(args.lr)\n",
    "optimizer.setup(model)"
   ]
  },
  {
   "cell_type": "markdown",
   "metadata": {},
   "source": [
    "### load dataset"
   ]
  },
  {
   "cell_type": "code",
   "execution_count": 8,
   "metadata": {
    "scrolled": true
   },
   "outputs": [],
   "source": [
    "df_num = pd.read_csv(os.path.join(args.src_dir, 'numeric_data.csv'))\n",
    "df_train = pd.concat([birds_dataset.df_train, df_num,], axis=1, join='inner')\n",
    "df_validation = pd.concat([birds_dataset.df_validation, df_num,], axis=1, join='inner')\n",
    "u_train = df_train[['length','length']].values\n",
    "u_val = df_validation[['length','length']].values\n",
    "\n",
    "birds_dataset.load_data(resize=args.img_size, rescale=1)\n",
    "x_train, y_train = birds_dataset.train_data\n",
    "x_val, y_val = birds_dataset.validation_data"
   ]
  },
  {
   "cell_type": "markdown",
   "metadata": {},
   "source": [
    "### data augmentation"
   ]
  },
  {
   "cell_type": "code",
   "execution_count": 9,
   "metadata": {
    "collapsed": true
   },
   "outputs": [],
   "source": [
    "import Augmentor\n",
    "p = Augmentor.Pipeline()\n",
    "p.crop_random(probability=1, percentage_area=0.8)\n",
    "p.resize(probability=1, width=args.img_size, height=args.img_size)\n",
    "p.flip_left_right(probability=0.5)\n",
    "p.random_erasing(probability=0.5, rectangle_area=0.5)\n",
    "p.shear(probability=0.3, max_shear_left=2, max_shear_right=2)"
   ]
  },
  {
   "cell_type": "code",
   "execution_count": 10,
   "metadata": {
    "collapsed": true
   },
   "outputs": [],
   "source": [
    "def unique_value_counts(df):\n",
    "    for col in df.columns:\n",
    "        c = df[col].value_counts().count()\n",
    "        res[col] =c \n",
    "    return res"
   ]
  },
  {
   "cell_type": "code",
   "execution_count": 11,
   "metadata": {},
   "outputs": [
    {
     "data": {
      "text/plain": [
       "{'red_finch': 183,\n",
       " 'red_parrot': 128,\n",
       " 'white_finch': 141,\n",
       " 'white_parrot': 105,\n",
       " 'yellow_finch': 169,\n",
       " 'yellow_parrot': 113}"
      ]
     },
     "execution_count": 11,
     "metadata": {},
     "output_type": "execute_result"
    }
   ],
   "source": [
    "birds_dataset.counts_train_data()"
   ]
  },
  {
   "cell_type": "code",
   "execution_count": 12,
   "metadata": {},
   "outputs": [
    {
     "data": {
      "text/plain": [
       "{'red_finch': 11,\n",
       " 'red_parrot': 11,\n",
       " 'white_finch': 11,\n",
       " 'white_parrot': 11,\n",
       " 'yellow_finch': 11,\n",
       " 'yellow_parrot': 11}"
      ]
     },
     "execution_count": 12,
     "metadata": {},
     "output_type": "execute_result"
    }
   ],
   "source": [
    "birds_dataset.counts_validation_data()"
   ]
  },
  {
   "cell_type": "markdown",
   "metadata": {},
   "source": [
    "### process data"
   ]
  },
  {
   "cell_type": "code",
   "execution_count": 28,
   "metadata": {
    "collapsed": true
   },
   "outputs": [],
   "source": [
    "def normalized_data(xs, us, ys):\n",
    "    return (\n",
    "        np.swapaxes(xs/255., 1, 3).astype(np.float32),\n",
    "        maxmin_normalize(us).astype(np.float32),\n",
    "        ys.astype(np.int8))\n",
    "\n",
    "def dot_array(*args, xp=np):\n",
    "    \"\"\"convert to xp.array from each arg\"\"\"\n",
    "    return tuple( xp.array(arg) for arg in args )\n",
    "\n",
    "def dot_variable(*args):\n",
    "    \"\"\"convert to chainer.Variable from each arg\"\"\"\n",
    "    return tuple( chainer.Variable(arg) for arg in args)\n",
    "\n",
    "def chunk_array(array, batchsize=2):\n",
    "    \"\"\"get n-batch cyclicaly from Array(batchsize, data)\"\"\"\n",
    "    index = idx = 0\n",
    "    bs = batchsize\n",
    "    while True:\n",
    "        end = idx + bs\n",
    "        yield np.take(array, range(idx, end) , axis=0, mode='wrap')\n",
    "        idx = end\n",
    "\n",
    "def get_batch(*arrays, batchsize=None):\n",
    "    \"\"\"apply each arg to cunck_array\"\"\"\n",
    "    batchsize = batchsize if batchsize else len(arrays[0])\n",
    "    gs = [ chunk_array(arr, batchsize) for arr in arrays]\n",
    "    while True:\n",
    "        yield tuple([ next(g) for g in gs])\n",
    "\n",
    "def augment(xs, us, ys, p=None, batchsize=None):\n",
    "    \"\"\"execute data augmentaion\"\"\"\n",
    "    batchsize = batchsize if batchsize else len(xs[0])\n",
    "    g = p.keras_generator_from_array(xs.astype(np.uint8), ys.astype(np.uint8), batchsize)\n",
    "    xs, ys = next(g)\n",
    "    return (xs, us, ys)\n",
    "\n",
    "def shuffled(*args):\n",
    "    \"\"\"shuffle list of arg with same order\"\"\"\n",
    "    batch = list(zip(*args ))\n",
    "    random.shuffle(batch)\n",
    "    return zip(*batch)"
   ]
  },
  {
   "cell_type": "code",
   "execution_count": 29,
   "metadata": {
    "collapsed": true
   },
   "outputs": [],
   "source": [
    "x_train, u_train, y_train = shuffled(x_train, u_train, y_train)\n",
    "\n",
    "bs = args.bs\n",
    "g = get_batch(x_train, u_train, y_train, batchsize=bs)\n",
    "g = (augment(*args, p=p, batchsize=bs) for args in g)\n",
    "g = (normalized_data(xs, us, ys) for (xs, us, ys) in g)\n",
    "g = (dot_array(*args, xp=cp) for args in g)\n",
    "g = (dot_variable(*args) for args in g)\n",
    "g_train = g"
   ]
  },
  {
   "cell_type": "code",
   "execution_count": 30,
   "metadata": {
    "collapsed": true
   },
   "outputs": [],
   "source": [
    "g = get_batch(x_val, u_val, y_val)\n",
    "g = (normalized_data(xs, us, ys) for (xs, us, ys) in g)\n",
    "g = (dot_array(*args, xp=cp) for args in g)\n",
    "g = (dot_variable(*args) for args in g)\n",
    "g_val = g"
   ]
  },
  {
   "cell_type": "code",
   "execution_count": 31,
   "metadata": {
    "scrolled": true
   },
   "outputs": [
    {
     "name": "stdout",
     "output_type": "stream",
     "text": [
      "variable([3 1 4 1 3 5 4 5 0 4 1 3 3 4 0 0 3 0 0 4 4 0 3 5 0 4 5 0 1 4 3 3])\n"
     ]
    },
    {
     "data": {
      "image/png": "[encoded data removed]",
      "text/plain": [
       "<PIL.Image.Image image mode=RGB size=128x128 at 0x7F6EAB9C9AC8>"
      ]
     },
     "execution_count": 31,
     "metadata": {},
     "output_type": "execute_result"
    }
   ],
   "source": [
    "xs, us, ys = next(g_train)\n",
    "print(ys)\n",
    "a = xs[2].data\n",
    "a = cp.asnumpy(a)\n",
    "a = np.swapaxes(a*255., 0, 2).astype(np.uint8)\n",
    "arr2img(a)"
   ]
  },
  {
   "cell_type": "code",
   "execution_count": 32,
   "metadata": {
    "scrolled": false
   },
   "outputs": [
    {
     "name": "stdout",
     "output_type": "stream",
     "text": [
      "variable([4 4 4 4 4 4 4 4 4 4 4 5 5 5 5 5 5 5 5 5 5 5 0 0 0 0 0 0 0 0 0 0 0\n",
      "          3 3 3 3 3 3 3 3 3 3 3 1 1 1 1 1 1 1 1 1 1 1 2 2 2 2 2 2 2 2 2 2 2])\n"
     ]
    },
    {
     "data": {
      "image/png": "[encoded data removed]",
      "text/plain": [
       "<PIL.Image.Image image mode=RGB size=128x128 at 0x7F6EAB9C9550>"
      ]
     },
     "execution_count": 32,
     "metadata": {},
     "output_type": "execute_result"
    }
   ],
   "source": [
    "xs, us, ys = next(g_val)\n",
    "print(ys)\n",
    "a = xs[2].data\n",
    "a = cp.asnumpy(a)\n",
    "a = np.swapaxes(a*255., 0, 2).astype(np.uint8)\n",
    "arr2img(a)"
   ]
  },
  {
   "cell_type": "markdown",
   "metadata": {},
   "source": [
    "### 訓練と検証"
   ]
  },
  {
   "cell_type": "code",
   "execution_count": 34,
   "metadata": {
    "scrolled": true
   },
   "outputs": [
    {
     "name": "stdout",
     "output_type": "stream",
     "text": [
      "step:0\n",
      "loss: 31.4226\t acc: 0.1562\n",
      "val_loss: 145.0843\t val_acc: 0.1667\n",
      "step:100\n",
      "loss: 7.0132\t acc: 0.2812\n",
      "step:200\n",
      "loss: 4.5289\t acc: 0.2812\n",
      "step:300\n",
      "loss: 2.9197\t acc: 0.2500\n",
      "step:400\n",
      "loss: 1.9867\t acc: 0.1875\n",
      "step:500\n",
      "loss: 2.1580\t acc: 0.2812\n",
      "step:600\n",
      "loss: 1.8927\t acc: 0.1875\n",
      "step:700\n",
      "loss: 1.8102\t acc: 0.2188\n",
      "step:800\n",
      "loss: 1.8142\t acc: 0.0625\n",
      "step:900\n",
      "loss: 1.8103\t acc: 0.1250\n",
      "step:1000\n",
      "loss: 1.8347\t acc: 0.2188\n",
      "val_loss: 1.7801\t val_acc: 0.1970\n",
      "step:1100\n",
      "loss: 1.8343\t acc: 0.2188\n",
      "step:1200\n",
      "loss: 1.6380\t acc: 0.3438\n",
      "step:1300\n",
      "loss: 1.8201\t acc: 0.0938\n",
      "step:1400\n",
      "loss: 1.5940\t acc: 0.4062\n",
      "step:1500\n",
      "loss: 1.7971\t acc: 0.1562\n",
      "step:1600\n",
      "loss: 1.5864\t acc: 0.3438\n",
      "step:1700\n",
      "loss: 1.6564\t acc: 0.3125\n",
      "step:1800\n",
      "loss: 1.6502\t acc: 0.2500\n",
      "step:1900\n",
      "loss: 1.8105\t acc: 0.1562\n",
      "step:2000\n",
      "loss: 1.9714\t acc: 0.1875\n",
      "val_loss: 1.7253\t val_acc: 0.2273\n",
      "step:2100\n",
      "loss: 1.4823\t acc: 0.3438\n",
      "step:2200\n",
      "loss: 1.8841\t acc: 0.1562\n",
      "step:2300\n",
      "loss: 1.6308\t acc: 0.3438\n",
      "step:2400\n",
      "loss: 1.6170\t acc: 0.2500\n",
      "step:2500\n",
      "loss: 1.5140\t acc: 0.3125\n",
      "step:2600\n",
      "loss: 1.6094\t acc: 0.3438\n",
      "step:2700\n",
      "loss: 1.4640\t acc: 0.4375\n",
      "step:2800\n",
      "loss: 1.5393\t acc: 0.4688\n",
      "step:2900\n",
      "loss: 1.7590\t acc: 0.2188\n",
      "step:3000\n",
      "loss: 1.6457\t acc: 0.3125\n",
      "val_loss: 1.5530\t val_acc: 0.3030\n",
      "step:3100\n",
      "loss: 1.9234\t acc: 0.2500\n",
      "step:3200\n",
      "loss: 1.6438\t acc: 0.1875\n",
      "step:3300\n",
      "loss: 1.6204\t acc: 0.2188\n",
      "step:3400\n",
      "loss: 1.5547\t acc: 0.4375\n",
      "step:3500\n",
      "loss: 1.5631\t acc: 0.2812\n",
      "step:3600\n",
      "loss: 1.6796\t acc: 0.1875\n",
      "step:3700\n",
      "loss: 1.3734\t acc: 0.4375\n",
      "step:3800\n",
      "loss: 1.4762\t acc: 0.4375\n",
      "step:3900\n",
      "loss: 1.3690\t acc: 0.5938\n",
      "step:4000\n",
      "loss: 1.2844\t acc: 0.4375\n",
      "val_loss: 1.3152\t val_acc: 0.3939\n",
      "step:4100\n",
      "loss: 1.4311\t acc: 0.5312\n",
      "step:4200\n",
      "loss: 1.5086\t acc: 0.2188\n",
      "step:4300\n",
      "loss: 1.3687\t acc: 0.3438\n",
      "step:4400\n",
      "loss: 1.3916\t acc: 0.3438\n",
      "step:4500\n",
      "loss: 1.3636\t acc: 0.4688\n",
      "step:4600\n",
      "loss: 1.3956\t acc: 0.3438\n",
      "step:4700\n",
      "loss: 1.2744\t acc: 0.4688\n",
      "step:4800\n",
      "loss: 1.3175\t acc: 0.4062\n",
      "step:4900\n",
      "loss: 2.3548\t acc: 0.4062\n",
      "step:5000\n",
      "loss: 1.0291\t acc: 0.4688\n",
      "val_loss: 1.2267\t val_acc: 0.3788\n",
      "step:5100\n",
      "loss: 1.1406\t acc: 0.5938\n",
      "step:5200\n",
      "loss: 1.1884\t acc: 0.5938\n",
      "step:5300\n",
      "loss: 1.1776\t acc: 0.5625\n",
      "step:5400\n",
      "loss: 1.5734\t acc: 0.4062\n",
      "step:5500\n",
      "loss: 1.2595\t acc: 0.5312\n",
      "step:5600\n",
      "loss: 1.4879\t acc: 0.4062\n",
      "step:5700\n",
      "loss: 1.2141\t acc: 0.5312\n",
      "step:5800\n",
      "loss: 1.2584\t acc: 0.2812\n",
      "step:5900\n",
      "loss: 1.3633\t acc: 0.3438\n",
      "step:6000\n",
      "loss: 1.2209\t acc: 0.5000\n",
      "val_loss: 1.2829\t val_acc: 0.4091\n",
      "step:6100\n",
      "loss: 1.1155\t acc: 0.6875\n",
      "step:6200\n",
      "loss: 1.2778\t acc: 0.4062\n",
      "step:6300\n",
      "loss: 1.8501\t acc: 0.3125\n",
      "step:6400\n",
      "loss: 0.9460\t acc: 0.5625\n",
      "step:6500\n",
      "loss: 1.2028\t acc: 0.4375\n",
      "step:6600\n",
      "loss: 1.3053\t acc: 0.4688\n",
      "step:6700\n",
      "loss: 1.2784\t acc: 0.4062\n",
      "step:6800\n",
      "loss: 1.5183\t acc: 0.5000\n",
      "step:6900\n",
      "loss: 1.3192\t acc: 0.5312\n",
      "step:7000\n",
      "loss: 1.2080\t acc: 0.5625\n",
      "val_loss: 1.2071\t val_acc: 0.4848\n",
      "step:7100\n",
      "loss: 1.0872\t acc: 0.4375\n",
      "step:7200\n",
      "loss: 1.4524\t acc: 0.4062\n",
      "step:7300\n",
      "loss: 1.4839\t acc: 0.3438\n",
      "step:7400\n",
      "loss: 2.5580\t acc: 0.4375\n",
      "step:7500\n",
      "loss: 1.1694\t acc: 0.3750\n",
      "step:7600\n",
      "loss: 1.4974\t acc: 0.3438\n",
      "step:7700\n",
      "loss: 1.3798\t acc: 0.3125\n",
      "step:7800\n",
      "loss: 1.2194\t acc: 0.5312\n",
      "step:7900\n",
      "loss: 1.1562\t acc: 0.5000\n",
      "step:8000\n",
      "loss: 1.3504\t acc: 0.3438\n",
      "val_loss: 1.2904\t val_acc: 0.4697\n",
      "step:8100\n",
      "loss: 1.4005\t acc: 0.3438\n",
      "step:8200\n",
      "loss: 1.2588\t acc: 0.5938\n",
      "step:8300\n",
      "loss: 1.0865\t acc: 0.4688\n",
      "step:8400\n",
      "loss: 1.1331\t acc: 0.5938\n",
      "step:8500\n",
      "loss: 1.3258\t acc: 0.3750\n",
      "step:8600\n",
      "loss: 1.4417\t acc: 0.3438\n",
      "step:8700\n",
      "loss: 0.9617\t acc: 0.5938\n",
      "step:8800\n",
      "loss: 1.4236\t acc: 0.4062\n",
      "step:8900\n",
      "loss: 0.9952\t acc: 0.5312\n",
      "step:9000\n",
      "loss: 1.2593\t acc: 0.4375\n",
      "val_loss: 1.1979\t val_acc: 0.5000\n",
      "step:9100\n",
      "loss: 1.0618\t acc: 0.6562\n",
      "step:9200\n",
      "loss: 1.3418\t acc: 0.3125\n",
      "step:9300\n",
      "loss: 1.0908\t acc: 0.5000\n",
      "step:9400\n",
      "loss: 1.2987\t acc: 0.5312\n",
      "step:9500\n",
      "loss: 1.3679\t acc: 0.4688\n",
      "step:9600\n",
      "loss: 1.2067\t acc: 0.5625\n",
      "step:9700\n",
      "loss: 1.1217\t acc: 0.6250\n",
      "step:9800\n",
      "loss: 1.1766\t acc: 0.5625\n",
      "step:9900\n",
      "loss: 1.0908\t acc: 0.5938\n",
      "step:10000\n",
      "loss: 1.4524\t acc: 0.5000\n",
      "val_loss: 1.2105\t val_acc: 0.5152\n",
      "step:10100\n",
      "loss: 1.3749\t acc: 0.4062\n",
      "step:10200\n",
      "loss: 1.0229\t acc: 0.5000\n",
      "step:10300\n",
      "loss: 1.1064\t acc: 0.5000\n",
      "step:10400\n",
      "loss: 1.3856\t acc: 0.4375\n",
      "step:10500\n",
      "loss: 1.1298\t acc: 0.4062\n",
      "step:10600\n",
      "loss: 1.2376\t acc: 0.5000\n",
      "step:10700\n",
      "loss: 1.1447\t acc: 0.6250\n",
      "step:10800\n",
      "loss: 1.3989\t acc: 0.2500\n",
      "step:10900\n",
      "loss: 1.2708\t acc: 0.4375\n",
      "step:11000\n",
      "loss: 1.2608\t acc: 0.5000\n",
      "val_loss: 1.2075\t val_acc: 0.5303\n",
      "step:11100\n",
      "loss: 0.8900\t acc: 0.6562\n",
      "step:11200\n",
      "loss: 1.2009\t acc: 0.5312\n",
      "step:11300\n",
      "loss: 1.2474\t acc: 0.4062\n",
      "step:11400\n",
      "loss: 1.3150\t acc: 0.3750\n",
      "step:11500\n",
      "loss: 1.2835\t acc: 0.4375\n",
      "step:11600\n",
      "loss: 1.1394\t acc: 0.5938\n",
      "step:11700\n",
      "loss: 1.1780\t acc: 0.6562\n",
      "step:11800\n",
      "loss: 1.3286\t acc: 0.5000\n",
      "step:11900\n",
      "loss: 1.2394\t acc: 0.4688\n",
      "step:12000\n",
      "loss: 1.1923\t acc: 0.3750\n",
      "val_loss: 1.2419\t val_acc: 0.4394\n",
      "step:12100\n",
      "loss: 1.3433\t acc: 0.3438\n",
      "step:12200\n",
      "loss: 1.2879\t acc: 0.6250\n",
      "step:12300\n",
      "loss: 1.2291\t acc: 0.4062\n",
      "step:12400\n",
      "loss: 1.2036\t acc: 0.4688\n",
      "step:12500\n",
      "loss: 1.3031\t acc: 0.5312\n",
      "step:12600\n",
      "loss: 1.1513\t acc: 0.5312\n",
      "step:12700\n",
      "loss: 1.2632\t acc: 0.3125\n",
      "step:12800\n",
      "loss: 1.1765\t acc: 0.5312\n",
      "step:12900\n",
      "loss: 1.1901\t acc: 0.5000\n",
      "step:13000\n",
      "loss: 1.0421\t acc: 0.5312\n",
      "val_loss: 1.2357\t val_acc: 0.4394\n",
      "step:13100\n",
      "loss: 1.7462\t acc: 0.3125\n",
      "step:13200\n",
      "loss: 0.9940\t acc: 0.5625\n",
      "step:13300\n",
      "loss: 0.9917\t acc: 0.5938\n",
      "step:13400\n",
      "loss: 1.1813\t acc: 0.5625\n",
      "step:13500\n",
      "loss: 1.2231\t acc: 0.3125\n",
      "step:13600\n",
      "loss: 0.9666\t acc: 0.4375\n",
      "step:13700\n",
      "loss: 1.0482\t acc: 0.5938\n",
      "step:13800\n",
      "loss: 1.1066\t acc: 0.5000\n",
      "step:13900\n",
      "loss: 1.1501\t acc: 0.5312\n",
      "step:14000\n",
      "loss: 1.0083\t acc: 0.5312\n",
      "val_loss: 1.2271\t val_acc: 0.4848\n",
      "step:14100\n",
      "loss: 1.0745\t acc: 0.6250\n",
      "step:14200\n",
      "loss: 1.1113\t acc: 0.5312\n",
      "step:14300\n",
      "loss: 1.0895\t acc: 0.4688\n",
      "step:14400\n",
      "loss: 1.1960\t acc: 0.4688\n",
      "step:14500\n",
      "loss: 0.9555\t acc: 0.5000\n",
      "step:14600\n",
      "loss: 0.9366\t acc: 0.5625\n",
      "step:14700\n",
      "loss: 1.1043\t acc: 0.4375\n",
      "step:14800\n",
      "loss: 1.1147\t acc: 0.4688\n",
      "step:14900\n",
      "loss: 1.3123\t acc: 0.4688\n",
      "step:15000\n",
      "loss: 1.0062\t acc: 0.5000\n",
      "val_loss: 1.3035\t val_acc: 0.4091\n",
      "step:15100\n",
      "loss: 1.2935\t acc: 0.3750\n",
      "step:15200\n",
      "loss: 0.9277\t acc: 0.4688\n",
      "step:15300\n",
      "loss: 1.2952\t acc: 0.4688\n",
      "step:15400\n",
      "loss: 1.0215\t acc: 0.5000\n",
      "step:15500\n",
      "loss: 1.2282\t acc: 0.5000\n",
      "step:15600\n",
      "loss: 1.0433\t acc: 0.5938\n",
      "step:15700\n",
      "loss: 0.9729\t acc: 0.5312\n",
      "step:15800\n",
      "loss: 1.1096\t acc: 0.6562\n",
      "step:15900\n",
      "loss: 0.9393\t acc: 0.6562\n",
      "step:16000\n",
      "loss: 1.1730\t acc: 0.3750\n",
      "val_loss: 1.3464\t val_acc: 0.5303\n",
      "step:16100\n",
      "loss: 1.3065\t acc: 0.3125\n",
      "step:16200\n",
      "loss: 1.4690\t acc: 0.4062\n",
      "step:16300\n",
      "loss: 0.9122\t acc: 0.6562\n",
      "step:16400\n",
      "loss: 0.9323\t acc: 0.7500\n",
      "step:16500\n",
      "loss: 1.1586\t acc: 0.3750\n",
      "step:16600\n",
      "loss: 1.2193\t acc: 0.4375\n",
      "step:16700\n",
      "loss: 1.1776\t acc: 0.5312\n",
      "step:16800\n",
      "loss: 1.3123\t acc: 0.3438\n",
      "step:16900\n",
      "loss: 1.4291\t acc: 0.4688\n",
      "step:17000\n",
      "loss: 0.8870\t acc: 0.6875\n",
      "val_loss: 1.3110\t val_acc: 0.4545\n",
      "step:17100\n",
      "loss: 1.1678\t acc: 0.4375\n",
      "step:17200\n",
      "loss: 1.1078\t acc: 0.6875\n",
      "step:17300\n",
      "loss: 0.8671\t acc: 0.6562\n",
      "step:17400\n",
      "loss: 1.0817\t acc: 0.4688\n",
      "step:17500\n",
      "loss: 1.3374\t acc: 0.4062\n",
      "step:17600\n",
      "loss: 1.4728\t acc: 0.3438\n",
      "step:17700\n",
      "loss: 0.9762\t acc: 0.5938\n",
      "step:17800\n",
      "loss: 1.1179\t acc: 0.5312\n",
      "step:17900\n",
      "loss: 1.0085\t acc: 0.5938\n",
      "step:18000\n",
      "loss: 1.2609\t acc: 0.5312\n",
      "val_loss: 1.3487\t val_acc: 0.4394\n",
      "step:18100\n",
      "loss: 1.3987\t acc: 0.3438\n",
      "step:18200\n",
      "loss: 0.9584\t acc: 0.5938\n",
      "step:18300\n",
      "loss: 1.3733\t acc: 0.4375\n",
      "step:18400\n",
      "loss: 0.9405\t acc: 0.5312\n",
      "step:18500\n",
      "loss: 1.0924\t acc: 0.4688\n",
      "step:18600\n",
      "loss: 1.0354\t acc: 0.5312\n",
      "step:18700\n",
      "loss: 1.1292\t acc: 0.5938\n",
      "step:18800\n",
      "loss: 1.3790\t acc: 0.4062\n",
      "step:18900\n",
      "loss: 1.4403\t acc: 0.5000\n",
      "step:19000\n",
      "loss: 1.4740\t acc: 0.3750\n",
      "val_loss: 1.3592\t val_acc: 0.5152\n",
      "step:19100\n",
      "loss: 1.0953\t acc: 0.5312\n",
      "step:19200\n",
      "loss: 1.2385\t acc: 0.6250\n",
      "step:19300\n",
      "loss: 1.1669\t acc: 0.3750\n",
      "step:19400\n",
      "loss: 1.1958\t acc: 0.5312\n",
      "step:19500\n",
      "loss: 1.3680\t acc: 0.6250\n",
      "step:19600\n",
      "loss: 1.3826\t acc: 0.5312\n",
      "step:19700\n",
      "loss: 0.9557\t acc: 0.5625\n",
      "step:19800\n",
      "loss: 1.3198\t acc: 0.4375\n",
      "step:19900\n",
      "loss: 1.0788\t acc: 0.5625\n"
     ]
    }
   ],
   "source": [
    "def train(step=None, step_per_print=100):\n",
    "    x, u, t = next(g_train) \n",
    "    optimizer.update(model, x, u, t)\n",
    "    with chainer.using_config('train', True):\n",
    "        loss = model(x,u,t)\n",
    "\n",
    "    loss = float(loss.data)\n",
    "    acc = float(model.accuracy.data)\n",
    "\n",
    "    if step%step_per_print==0:\n",
    "        print('step:{}'.format(step))\n",
    "        print('loss: {:.4f}\\t acc: {:.4f}'.format(loss, acc))\n",
    "\n",
    "def validation(step=None):\n",
    "    x, u, t = next(g_val) \n",
    "    with chainer.using_config('train', False):\n",
    "        loss = model(x, u, t)\n",
    "\n",
    "    loss = float(loss.data)\n",
    "    acc = float(model.accuracy.data)\n",
    "\n",
    "    print('val_loss: {:.4f}\\t val_acc: {:.4f}'.format(loss, acc))\n",
    "\n",
    "#for step in range(args.epoch):\n",
    "for step in range(int(2e4)):\n",
    "    train(step)\n",
    "    if step%1000==0:\n",
    "        validation(step)"
   ]
  },
  {
   "cell_type": "code",
   "execution_count": 35,
   "metadata": {
    "collapsed": true
   },
   "outputs": [],
   "source": [
    "from datetime import datetime"
   ]
  },
  {
   "cell_type": "code",
   "execution_count": 36,
   "metadata": {
    "collapsed": true
   },
   "outputs": [],
   "source": [
    "model.to_cpu()\n",
    "\n",
    "serializers.save_hdf5(f'models/birds_online.20180125.hdf5', model)\n",
    "\n",
    "with open('models/birds_online.20180125.model.pkl', 'wb') as f:\n",
    "    pickle.dump(model, f)"
   ]
  },
  {
   "cell_type": "code",
   "execution_count": 37,
   "metadata": {},
   "outputs": [],
   "source": [
    "with open('models/birds_online.20180125.model.pkl', 'rb') as f:\n",
    "    m = pickle.load(f)"
   ]
  },
  {
   "cell_type": "code",
   "execution_count": 42,
   "metadata": {
    "collapsed": true
   },
   "outputs": [],
   "source": [
    "def get_bar(arr):\n",
    "    plt.style.use('ggplot')\n",
    "    plt.bar(np.arange(arr.size), arr)\n",
    "    plt.show()"
   ]
  },
  {
   "cell_type": "markdown",
   "metadata": {},
   "source": [
    "### 0,3 -> red finch "
   ]
  },
  {
   "cell_type": "code",
   "execution_count": 43,
   "metadata": {},
   "outputs": [],
   "source": [
    "xs, us, ys = normalized_data(x_val, u_val, y_val)\n",
    "out = F.softmax(m.predictor(xs, us))"
   ]
  },
  {
   "cell_type": "code",
   "execution_count": 44,
   "metadata": {},
   "outputs": [
    {
     "data": {
      "image/png": "[encoded data removed]",
      "text/plain": [
       "<matplotlib.figure.Figure at 0x7f6eab9c9d30>"
      ]
     },
     "metadata": {},
     "output_type": "display_data"
    }
   ],
   "source": [
    "get_bar(out[6].data)"
   ]
  }
 ],
 "metadata": {
  "kernelspec": {
   "display_name": "Python 3",
   "language": "python",
   "name": "python3"
  },
  "language_info": {
   "codemirror_mode": {
    "name": "ipython",
    "version": 3
   },
   "file_extension": ".py",
   "mimetype": "text/x-python",
   "name": "python",
   "nbconvert_exporter": "python",
   "pygments_lexer": "ipython3",
   "version": "3.6.3"
  }
 },
 "nbformat": 4,
 "nbformat_minor": 2
}
