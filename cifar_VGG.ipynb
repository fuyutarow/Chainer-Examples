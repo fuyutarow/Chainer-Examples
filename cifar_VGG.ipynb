{
 "cells": [
  {
   "cell_type": "code",
   "execution_count": 1,
   "metadata": {
    "collapsed": true
   },
   "outputs": [],
   "source": [
    "from __future__ import print_function\n",
    "import argparse\n",
    "\n",
    "import chainer\n",
    "from chainer.dataset import convert\n",
    "import chainer.links as L\n",
    "import chainer.functions as F\n",
    "from chainer import serializers\n",
    "\n",
    "from chainer.datasets import get_cifar10\n",
    "from chainer.datasets import get_cifar100\n",
    "\n",
    "import models.VGG"
   ]
  },
  {
   "cell_type": "code",
   "execution_count": 2,
   "metadata": {
    "collapsed": true
   },
   "outputs": [],
   "source": [
    "dataset = 'cifar10'\n",
    "bs = 64\n",
    "lr = 0.05\n",
    "epochs = 10\n",
    "gpu = -1\n",
    "out = 'result'\n",
    "resume = ''\n",
    "n_label = 10"
   ]
  },
  {
   "cell_type": "code",
   "execution_count": 3,
   "metadata": {
    "collapsed": true
   },
   "outputs": [],
   "source": [
    "class Fire(chainer.Chain):\n",
    "    def __init__(self, n_in=None, n_out=32):\n",
    "        super(Fire, self).__init__()\n",
    "        with self.init_scope():\n",
    "            self.bn = L.BatchNormalization(None)\n",
    "            self.conv1 = L.Convolution2D(n_in, 32, 3)\n",
    "            self.conv2 = L.Convolution2D(None, n_out, 3)\n",
    "    \n",
    "    def __call__(self, x):\n",
    "        x = self.conv1(x)\n",
    "        x = self.conv2(x)\n",
    "        x = self.bn(x)\n",
    "        return x    "
   ]
  },
  {
   "cell_type": "code",
   "execution_count": 4,
   "metadata": {
    "collapsed": true
   },
   "outputs": [],
   "source": [
    "class LeNet(chainer.Chain):\n",
    "    def __init__(self, n_out=10):\n",
    "        super(LeNet, self).__init__()\n",
    "        with self.init_scope():\n",
    "            self.fire1 = Fire(None, 32)\n",
    "            self.fire2 = Fire(None, 32)\n",
    "            self.conv1 = L.Convolution2D(None, 32, 3)\n",
    "            self.conv2 = L.Convolution2D(None, 10, 3)\n",
    "            self.fc = L.Linear(None, n_out)\n",
    "    \n",
    "    def __call__(self, x):\n",
    "        x = self.conv1(x)\n",
    "        x = F.max_pooling_2d(x, ksize=2, stride=2)\n",
    "        #x = self.fire1(x)\n",
    "        #x = self.fire2(x)\n",
    "        #x = F.max_pooling_2d(x, ksize=2, stride=2)\n",
    "        x = self.conv2(x)\n",
    "        x = F.average_pooling_2d(x, ksize=2, stride=2)\n",
    "        x = self.fc(x)\n",
    "        return x    "
   ]
  },
  {
   "cell_type": "code",
   "execution_count": 5,
   "metadata": {
    "collapsed": true
   },
   "outputs": [],
   "source": [
    "class compute_loss(chainer.Chain):\n",
    "    def __init__(self, model, lossfun=F.softmax_cross_entropy):\n",
    "        super(LeNet, self).__init__()\n",
    "        with self.init_scope():\n",
    "            self.model = model\n",
    "            self.lossfun = lossfun\n",
    "    \n",
    "    def __call__(self, x, t):\n",
    "        y = self.forward(x)\n",
    "        loss = self.lossfun(y, t)\n",
    "        self.accuracy = F.accuracy(y, t)\n",
    "        chainer.report({'loss': loss, 'accuracy': self.accuracy}, self)\n",
    "        return loss"
   ]
  },
  {
   "cell_type": "code",
   "execution_count": 6,
   "metadata": {
    "collapsed": true
   },
   "outputs": [],
   "source": [
    "model = L.Classifier(LeNet(n_label),\n",
    "                    lossfun=F.softmax_cross_entropy,\n",
    "                    accfun=F.accuracy)\n",
    "optimizer = chainer.optimizers.MomentumSGD(lr)\n",
    "optimizer.setup(model)"
   ]
  },
  {
   "cell_type": "code",
   "execution_count": 7,
   "metadata": {
    "collapsed": true
   },
   "outputs": [],
   "source": [
    "train, test = get_cifar10()\n",
    "\n",
    "train_iter = chainer.iterators.SerialIterator(train, bs)\n",
    "test_iter = chainer.iterators.SerialIterator(test, bs, repeat=False, shuffle=False)"
   ]
  },
  {
   "cell_type": "code",
   "execution_count": 8,
   "metadata": {
    "collapsed": true
   },
   "outputs": [],
   "source": [
    "batch = train_iter.next()\n",
    "xs, ts = chainer.dataset.convert.concat_examples(batch, gpu)"
   ]
  },
  {
   "cell_type": "markdown",
   "metadata": {},
   "source": [
    "chainer.trainingを使わず，訓練ループをかく\n",
    "chainer.trainingでは，自前のデータのイテレータを使うことができないため．\n",
    "Augmentorを使いたい"
   ]
  },
  {
   "cell_type": "code",
   "execution_count": 9,
   "metadata": {},
   "outputs": [
    {
     "name": "stdout",
     "output_type": "stream",
     "text": [
      "loss: 2.0856882091611624\t acc: 0.24658203125\n"
     ]
    }
   ],
   "source": [
    "total_loss = 0\n",
    "total_acc = 0\n",
    "cnt = 0\n",
    "for _ in range(bs):\n",
    "\n",
    "    batch = train_iter.next()\n",
    "    xs, ts = chainer.dataset.convert.concat_examples(batch, gpu)\n",
    "    x = chainer.Variable(xs)\n",
    "    t = chainer.Variable(ts)\n",
    "    optimizer.update(model, x, t)\n",
    "    loss = model(x,t)\n",
    "    cnt += len(t.data)\n",
    "    total_loss += float(loss.data) * len(t.data)\n",
    "    total_acc += float(model.accuracy.data) * len(t.data)\n",
    "    \n",
    "print('loss: {}\\t acc: {}'.format(total_loss/cnt, total_acc/cnt))"
   ]
  },
  {
   "cell_type": "code",
   "execution_count": 10,
   "metadata": {},
   "outputs": [
    {
     "name": "stdout",
     "output_type": "stream",
     "text": [
      "val_loss: 1.8626055344939232\t val_acc: 0.347900390625\n"
     ]
    }
   ],
   "source": [
    "total_loss = 0\n",
    "total_acc = 0\n",
    "cnt = 0\n",
    "for _ in range(bs):\n",
    "\n",
    "    batch = test_iter.next()\n",
    "    xs, ts = chainer.dataset.convert.concat_examples(batch, gpu)\n",
    "    x = chainer.Variable(xs)\n",
    "    t = chainer.Variable(ts)\n",
    "    optimizer.update(model, x, t)\n",
    "    loss = model(x,t)\n",
    "    cnt += len(t.data)\n",
    "    total_loss += float(loss.data) * len(t.data)\n",
    "    total_acc += float(model.accuracy.data) * len(t.data)\n",
    "    \n",
    "print('val_loss: {}\\t val_acc: {}'.format(total_loss/cnt, total_acc/cnt))"
   ]
  },
  {
   "cell_type": "code",
   "execution_count": null,
   "metadata": {
    "collapsed": true
   },
   "outputs": [],
   "source": []
  }
 ],
 "metadata": {
  "kernelspec": {
   "display_name": "Python 3",
   "language": "python",
   "name": "python3"
  },
  "language_info": {
   "codemirror_mode": {
    "name": "ipython",
    "version": 3
   },
   "file_extension": ".py",
   "mimetype": "text/x-python",
   "name": "python",
   "nbconvert_exporter": "python",
   "pygments_lexer": "ipython3",
   "version": "3.6.3"
  }
 },
 "nbformat": 4,
 "nbformat_minor": 2
}
