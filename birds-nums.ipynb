{
 "cells": [
  {
   "cell_type": "code",
   "execution_count": 1,
   "metadata": {
    "scrolled": true
   },
   "outputs": [
    {
     "name": "stderr",
     "output_type": "stream",
     "text": [
      "Using TensorFlow backend.\n",
      "/home/fytroo/anaconda3/lib/python3.6/importlib/_bootstrap.py:219: RuntimeWarning: compiletime version 3.5 of module 'tensorflow.python.framework.fast_tensor_util' does not match runtime version 3.6\n",
      "  return f(*args, **kwds)\n"
     ]
    }
   ],
   "source": [
    "from __future__ import print_function\n",
    "import os\n",
    "\n",
    "import pandas as pd\n",
    "from PIL import Image\n",
    "import numpy as np\n",
    "\n",
    "import chainer\n",
    "from chainer.dataset import convert\n",
    "import chainer.links as L\n",
    "import chainer.functions as F\n",
    "import chainer.initializers as I\n",
    "from chainer import serializers\n",
    "\n",
    "import utils"
   ]
  },
  {
   "cell_type": "markdown",
   "metadata": {},
   "source": [
    "### ハイパーパラメータ"
   ]
  },
  {
   "cell_type": "code",
   "execution_count": 2,
   "metadata": {},
   "outputs": [
    {
     "name": "stdout",
     "output_type": "stream",
     "text": [
      "no argsparse\n"
     ]
    }
   ],
   "source": [
    "from easydict import EasyDict\n",
    "args = EasyDict({\n",
    "    'bs': 16, \n",
    "    'epoch' : 100,\n",
    "    'lr' : 0.001,\n",
    "    'gpu': 0,\n",
    "    'out': 'result',\n",
    "    'resume': '',\n",
    "})\n",
    "try:\n",
    "    __file__.endswith('py')\n",
    "    import argparse\n",
    "    parser = argparse.ArgumentParser(description='Chainer example: MNIST')\n",
    "    parser.add_argument('--batchsize', '-b', dest='bs', type=int, default=args.bs,\n",
    "                        help='Number of images in each mini-batch')\n",
    "    parser.add_argument('--epoch', '-e', type=int, default=args.epoch,\n",
    "                        help='Number of sweeps over the dataset to train')\n",
    "    parser.add_argument('--learningrate', '-l', dest='lr', type=float, default=args.lr,\n",
    "                        help='Number of sweeps over the dataset to train')\n",
    "    parser.add_argument('--frequency', '-f', type=int, default=-1,\n",
    "                        help='Frequency of taking a snapshot')\n",
    "    parser.add_argument('--gpu', '-g', type=int, default=args.gpu,\n",
    "                        help='GPU ID (negative value indicates CPU)')\n",
    "    parser.add_argument('--out', '-o', default=args.out,\n",
    "                        help='Directory to output the result')\n",
    "    parser.add_argument('--resume', '-r', default=args.resume,\n",
    "                        help='Resume the training from snapshot')\n",
    "    parser.add_argument('--unit', '-u', dest='n_in', type=int, default=args.n_in,\n",
    "                        help='Number of units')\n",
    "    parser.add_argument('--noplot', dest='plot', action='store_false',\n",
    "                        help='Disable PlotReport extension')\n",
    "    args = parser.parse_args()\n",
    "except:\n",
    "    print('no argsparse')\n",
    "    pass"
   ]
  },
  {
   "cell_type": "markdown",
   "metadata": {},
   "source": [
    "### データセット読み込み"
   ]
  },
  {
   "cell_type": "code",
   "execution_count": 3,
   "metadata": {
    "collapsed": true
   },
   "outputs": [],
   "source": [
    "from tuner import load_data"
   ]
  },
  {
   "cell_type": "code",
   "execution_count": 5,
   "metadata": {
    "collapsed": true
   },
   "outputs": [],
   "source": [
    "dataset_dir = 'datasets/birds-datasets'\n",
    "resize = 128"
   ]
  },
  {
   "cell_type": "code",
   "execution_count": 6,
   "metadata": {},
   "outputs": [
    {
     "name": "stderr",
     "output_type": "stream",
     "text": [
      "/home/fytroo/anaconda3/lib/python3.6/site-packages/ipykernel_launcher.py:3: SettingWithCopyWarning: \n",
      "A value is trying to be set on a copy of a slice from a DataFrame.\n",
      "Try using .loc[row_indexer,col_indexer] = value instead\n",
      "\n",
      "See the caveats in the documentation: http://pandas.pydata.org/pandas-docs/stable/indexing.html#indexing-view-versus-copy\n",
      "  This is separate from the ipykernel package so we can avoid doing imports until\n",
      "/home/fytroo/anaconda3/lib/python3.6/site-packages/ipykernel_launcher.py:4: SettingWithCopyWarning: \n",
      "A value is trying to be set on a copy of a slice from a DataFrame.\n",
      "Try using .loc[row_indexer,col_indexer] = value instead\n",
      "\n",
      "See the caveats in the documentation: http://pandas.pydata.org/pandas-docs/stable/indexing.html#indexing-view-versus-copy\n",
      "  after removing the cwd from sys.path.\n",
      "/home/fytroo/anaconda3/lib/python3.6/site-packages/ipykernel_launcher.py:7: SettingWithCopyWarning: \n",
      "A value is trying to be set on a copy of a slice from a DataFrame.\n",
      "Try using .loc[row_indexer,col_indexer] = value instead\n",
      "\n",
      "See the caveats in the documentation: http://pandas.pydata.org/pandas-docs/stable/indexing.html#indexing-view-versus-copy\n",
      "  import sys\n",
      "/home/fytroo/anaconda3/lib/python3.6/site-packages/ipykernel_launcher.py:8: SettingWithCopyWarning: \n",
      "A value is trying to be set on a copy of a slice from a DataFrame.\n",
      "Try using .loc[row_indexer,col_indexer] = value instead\n",
      "\n",
      "See the caveats in the documentation: http://pandas.pydata.org/pandas-docs/stable/indexing.html#indexing-view-versus-copy\n",
      "  \n",
      "/home/fytroo/anaconda3/lib/python3.6/site-packages/PIL/Image.py:914: UserWarning: Palette images with Transparency   expressed in bytes should be converted to RGBA images\n",
      "  'to RGBA images')\n"
     ]
    }
   ],
   "source": [
    "df = load_data.df_fromdir(dataset_dir)\n",
    "df1 = df[df['label'].str.contains('finch')]\n",
    "df1['length'] = np.random.normal(25.5, 3, len(df1))\n",
    "df1['weight'] = np.random.normal(85, 10, len(df1))\n",
    "\n",
    "df2 = df[df['label'].str.contains('parro')]\n",
    "df2['length'] = np.random.normal(55.5, 1, len(df2))\n",
    "df2['weight'] = np.random.normal(850, 100, len(df2))\n",
    "\n",
    "df = pd.concat([df1, df2])\n",
    "\n",
    "df_train, df_val = load_data.train_val_split_df(df)\n",
    "x_train, y_train = load_data.load_fromdf(df_train, resize=resize, rescale=1) \n",
    "x_val, y_val = load_data.load_fromdf(df_val, resize=resize, rescale=1) \n",
    "u_train = df_train[['length','length']].values\n",
    "u_val = df_val[['length','length']].values"
   ]
  },
  {
   "cell_type": "code",
   "execution_count": 7,
   "metadata": {},
   "outputs": [
    {
     "data": {
      "text/plain": [
       "((30, 128, 128, 3), (30,))"
      ]
     },
     "execution_count": 7,
     "metadata": {},
     "output_type": "execute_result"
    }
   ],
   "source": [
    "x_val.shape, y_val.shape"
   ]
  },
  {
   "cell_type": "markdown",
   "metadata": {},
   "source": [
    "### モデルを定義"
   ]
  },
  {
   "cell_type": "code",
   "execution_count": 8,
   "metadata": {
    "collapsed": true
   },
   "outputs": [],
   "source": [
    "class LeNet(chainer.Chain):\n",
    "    def __init__(self, n_out=10):\n",
    "        super(LeNet, self).__init__()\n",
    "        \n",
    "        initialW= I.HeNormal()\n",
    "        with self.init_scope():\n",
    "            self.conv0 = L.Convolution2D(None, 16, 1, 1, 0, initialW=initialW, nobias=True)\n",
    "            \n",
    "            self.bn11 = L.BatchNormalization(16)\n",
    "            self.conv11 = L.Convolution2D(None, 32, 3, 1, 1, initialW=initialW, nobias=True)\n",
    "            self.bn12 = L.BatchNormalization(32)\n",
    "            self.conv12 = L.Convolution2D(None, 32, 3, 1, 1, initialW=initialW, nobias=True)\n",
    "            \n",
    "            self.bn21 = L.BatchNormalization(32)\n",
    "            self.conv21 = L.Convolution2D(None, 64, 3, 1, 1, initialW=initialW, nobias=True)\n",
    "            self.bn22 = L.BatchNormalization(64)\n",
    "            self.conv22 = L.Convolution2D(None, 64, 3, 1, 1, initialW=initialW, nobias=True)\n",
    "            \n",
    "            self.conv_out = L.Convolution2D(None, n_out)\n",
    "            self.fc = L.Linear(None, n_out)\n",
    "    \n",
    "    def __call__(self, x):\n",
    "        h = x\n",
    "        h = self.conv0(h)\n",
    "        \n",
    "        h = self.bn11(h)\n",
    "        h = F.relu(h)\n",
    "        h = self.conv11(h)\n",
    "        h = self.bn12(h)\n",
    "        h = F.relu(h)\n",
    "        h = self.conv12(h)\n",
    "        h = F.average_pooling_2d(h, ksize=2, stride=2)\n",
    "        \n",
    "        h = self.bn21(h)\n",
    "        h = F.relu(h)\n",
    "        h = self.conv21(h)\n",
    "        h = self.bn22(h)\n",
    "        h = F.relu(h)\n",
    "        h = self.conv22(h)\n",
    "        \n",
    "        print('#1', h.shape)\n",
    "        h = self.conv_out(h)\n",
    "        print('#2', h.shape)\n",
    "        h = F.squeeze(F.average_ppoling_2d(h,4))\n",
    "        print('#3', h.shape)\n",
    "        h = F.average_pooling_2d(h, ksize=2, stride=2)\n",
    "        print('#4', h.shape)\n",
    "        h = self.fc(h)\n",
    "        \n",
    "        return h"
   ]
  },
  {
   "cell_type": "code",
   "execution_count": 22,
   "metadata": {
    "collapsed": true
   },
   "outputs": [],
   "source": [
    "class LeNet(chainer.Chain):\n",
    "    def __init__(self, n_out=10):\n",
    "        super(LeNet, self).__init__()\n",
    "        \n",
    "        initialW= I.HeNormal()\n",
    "        with self.init_scope():\n",
    "            self.conv0 = L.Convolution2D(None, 16, 1, 1, 0, initialW=initialW, nobias=True)\n",
    "            \n",
    "            self.bn11 = L.BatchNormalization(16)\n",
    "            self.conv11 = L.Convolution2D(None, 32, 3, 1, 1, initialW=initialW, nobias=True)\n",
    "            self.bn12 = L.BatchNormalization(32)\n",
    "            self.conv12 = L.Convolution2D(None, 32, 3, 1, 1, initialW=initialW, nobias=True)\n",
    "            \n",
    "            self.bn21 = L.BatchNormalization(32)\n",
    "            self.conv21 = L.Convolution2D(None, 64, 3, 1, 1, initialW=initialW, nobias=True)\n",
    "            self.bn22 = L.BatchNormalization(64)\n",
    "            self.conv22 = L.Convolution2D(None, 64, 3, 1, 1, initialW=initialW, nobias=True)\n",
    "            \n",
    "            self.conv_out = L.Convolution2D(None, n_out)\n",
    "            self.fc = L.Linear(None, n_out)\n",
    "    \n",
    "    def __call__(self, x, u):\n",
    "        h = x\n",
    "        h = self.conv0(h)\n",
    "        \n",
    "        h = self.bn11(h)\n",
    "        h = F.relu(h)\n",
    "        h = self.conv11(h)\n",
    "        h = self.bn12(h)\n",
    "        h = F.relu(h)\n",
    "        h = self.conv12(h)\n",
    "        h = F.average_pooling_2d(h, ksize=2, stride=2)\n",
    "        h = F.dropout(h, ratio=0.4)\n",
    "        \n",
    "        h = self.bn21(h)\n",
    "        h = F.relu(h)\n",
    "        h = self.conv21(h)\n",
    "        h = self.bn22(h)\n",
    "        h = F.relu(h)\n",
    "        h = self.conv22(h)\n",
    "        h = F.average_pooling_2d(h, ksize=2, stride=2)\n",
    "        h = F.dropout(h, ratio=0.4)\n",
    "        \n",
    "        h = self.fc(h)\n",
    "        #h = F.concat((h, u), axis=1)\n",
    "        \n",
    "        return h"
   ]
  },
  {
   "cell_type": "code",
   "execution_count": 23,
   "metadata": {
    "collapsed": true
   },
   "outputs": [],
   "source": [
    "n_label = np.unique(y_train).size\n",
    "model = L.Classifier(LeNet(n_label),\n",
    "                    lossfun=F.softmax_cross_entropy,\n",
    "                    accfun=F.accuracy)\n",
    "xp = np\n",
    "if args.gpu >= 0:\n",
    "    import cupy as cp\n",
    "    xp = cp\n",
    "    chainer.cuda.get_device_from_id(args.gpu).use()\n",
    "    model.to_gpu()  # Copy the model to the GPU\n",
    "optimizer = chainer.optimizers.Adam(args.lr)\n",
    "optimizer.setup(model)"
   ]
  },
  {
   "cell_type": "code",
   "execution_count": 24,
   "metadata": {
    "collapsed": true
   },
   "outputs": [],
   "source": [
    "from PIL import Image\n",
    "x = ( load_data.arr2img(x) for x in x_train)"
   ]
  },
  {
   "cell_type": "code",
   "execution_count": 25,
   "metadata": {},
   "outputs": [
    {
     "data": {
      "image/png": "[encoded data removed]",
      "text/plain": [
       "<PIL.Image.Image image mode=RGB size=128x128 at 0x7F2EE59830B8>"
      ]
     },
     "execution_count": 25,
     "metadata": {},
     "output_type": "execute_result"
    }
   ],
   "source": [
    "next(x)"
   ]
  },
  {
   "cell_type": "markdown",
   "metadata": {},
   "source": [
    "### data augmentation"
   ]
  },
  {
   "cell_type": "code",
   "execution_count": 26,
   "metadata": {
    "collapsed": true
   },
   "outputs": [],
   "source": [
    "import Augmentor\n",
    "p = Augmentor.Pipeline()\n",
    "p.crop_random(probability=1, percentage_area=0.8)\n",
    "p.resize(probability=1, width=resize, height=resize)\n",
    "p.flip_left_right(probability=0.5)\n",
    "p.random_erasing(probability=0.5, rectangle_area=0.5)\n",
    "p.shear(probability=0.3, max_shear_left=2, max_shear_right=2)\n",
    "\n",
    "g = p.keras_generator_from_array(x_train, y_train, batch_size=args.bs)"
   ]
  },
  {
   "cell_type": "code",
   "execution_count": 27,
   "metadata": {},
   "outputs": [
    {
     "data": {
      "image/png": "[encoded data removed]",
      "text/plain": [
       "<PIL.Image.Image image mode=RGB size=128x128 at 0x7F2EE5A80780>"
      ]
     },
     "execution_count": 27,
     "metadata": {},
     "output_type": "execute_result"
    }
   ],
   "source": [
    "xs, ys = next(g)\n",
    "load_data.arr2img(xs[1])"
   ]
  },
  {
   "cell_type": "code",
   "execution_count": 28,
   "metadata": {
    "collapsed": true
   },
   "outputs": [],
   "source": [
    "g = ((\n",
    "    xp.array(np.swapaxes((x/255.), 1, 3)).astype(np.float32),\n",
    "    xp.array(y.astype(np.int8))\n",
    "    ) for (x,y) in g)"
   ]
  },
  {
   "cell_type": "code",
   "execution_count": 29,
   "metadata": {
    "collapsed": true
   },
   "outputs": [],
   "source": [
    "def normlize(x, axis=None):\n",
    "    min = x.min(axis=axis, keepdims=True)\n",
    "    max = x.max(axis=axis, keepdims=True)\n",
    "    result = (x-min)/(max-min)\n",
    "    return result "
   ]
  },
  {
   "cell_type": "code",
   "execution_count": 30,
   "metadata": {},
   "outputs": [
    {
     "data": {
      "text/plain": [
       "(303, 2)"
      ]
     },
     "execution_count": 30,
     "metadata": {},
     "output_type": "execute_result"
    }
   ],
   "source": [
    "u_train = normlize(u_train, axis=0)\n",
    "u_train.shape"
   ]
  },
  {
   "cell_type": "code",
   "execution_count": 31,
   "metadata": {},
   "outputs": [],
   "source": [
    "def g(bs):\n",
    "    _g = ((x,u,y) for (x,u,y) in zip(\n",
    "        np.swapaxes(x_train/255., 1, 3).astype(np.float32),\n",
    "        normlize(u_train).astype(np.float32),\n",
    "        y_train.astype(np.int8)))\n",
    "    while True:\n",
    "        xs = []\n",
    "        us = []\n",
    "        ys = []\n",
    "\n",
    "        for _ in range(bs):\n",
    "            x, u, y = next(_g)\n",
    "            xs.append(x)\n",
    "            us.append(u)\n",
    "            ys.append(y)\n",
    "        xs = xp.array(xs)\n",
    "        us = xp.array(us)\n",
    "        ys = xp.array(ys)\n",
    "        yield xs, us, ys "
   ]
  },
  {
   "cell_type": "code",
   "execution_count": 32,
   "metadata": {
    "scrolled": true
   },
   "outputs": [
    {
     "data": {
      "text/plain": [
       "((16, 3, 128, 128), (16, 2), (16,))"
      ]
     },
     "execution_count": 32,
     "metadata": {},
     "output_type": "execute_result"
    }
   ],
   "source": [
    "xs, us, ys = next(g(args.bs)) \n",
    "xs.shape, us.shape, ys.shape"
   ]
  },
  {
   "cell_type": "markdown",
   "metadata": {},
   "source": [
    "### 訓練と検証"
   ]
  },
  {
   "cell_type": "code",
   "execution_count": 33,
   "metadata": {
    "collapsed": true
   },
   "outputs": [],
   "source": [
    "def train(step=None):\n",
    "    xs, us, ts = next(g(args.bs)) \n",
    "    x = chainer.Variable(xs)\n",
    "    u = chainer.Variable(us)\n",
    "    t = chainer.Variable(ts)\n",
    "    optimizer.update(model, x, u, t)\n",
    "    with chainer.using_config('train', True):\n",
    "        loss = model(x,u,t)\n",
    "\n",
    "    loss = float(loss.data)\n",
    "    acc = float(model.accuracy.data)\n",
    "\n",
    "    if step%100==0:\n",
    "        print('step:{}'.format(step))\n",
    "        print('loss: {:.4f}\\t acc: {:.4f}'.format(loss, acc))\n",
    "    \n",
    "def validation(step=None):\n",
    "    xs = xp.array(np.swapaxes(x_val/255., 1, 3).astype(np.float32))\n",
    "    us = xp.array(normlize(u_val).astype(np.float32))\n",
    "    ts = xp.array(y_val.astype(np.int8))\n",
    "    x = chainer.Variable(xs)\n",
    "    u = chainer.Variable(us)\n",
    "    t = chainer.Variable(ts)\n",
    "    with chainer.using_config('train', True):\n",
    "        loss = model(x,u,t)\n",
    "\n",
    "    loss = float(loss.data)\n",
    "    acc = float(model.accuracy.data)\n",
    "    \n",
    "    print('val_loss: {:.4f}\\t val_acc: {:.4f}'.format(loss, acc))"
   ]
  },
  {
   "cell_type": "code",
   "execution_count": 34,
   "metadata": {
    "scrolled": true
   },
   "outputs": [
    {
     "name": "stdout",
     "output_type": "stream",
     "text": [
      "step:0\n",
      "loss: -0.0000\t acc: 1.0000\n",
      "val_loss: 43.7169\t val_acc: 0.1667\n"
     ]
    },
    {
     "ename": "KeyboardInterrupt",
     "evalue": "",
     "output_type": "error",
     "traceback": [
      "\u001b[0;31m---------------------------------------------------------------------------\u001b[0m",
      "\u001b[0;31mKeyboardInterrupt\u001b[0m                         Traceback (most recent call last)",
      "\u001b[0;32m<ipython-input-34-03a30646673e>\u001b[0m in \u001b[0;36m<module>\u001b[0;34m()\u001b[0m\n\u001b[1;32m      2\u001b[0m     \u001b[0;31m#for step in range(args.epoch):\u001b[0m\u001b[0;34m\u001b[0m\u001b[0;34m\u001b[0m\u001b[0m\n\u001b[1;32m      3\u001b[0m     \u001b[0;32mfor\u001b[0m \u001b[0mstep\u001b[0m \u001b[0;32min\u001b[0m \u001b[0mrange\u001b[0m\u001b[0;34m(\u001b[0m\u001b[0;36m10\u001b[0m\u001b[0;34m**\u001b[0m\u001b[0;36m5\u001b[0m\u001b[0;34m)\u001b[0m\u001b[0;34m:\u001b[0m\u001b[0;34m\u001b[0m\u001b[0m\n\u001b[0;32m----> 4\u001b[0;31m         \u001b[0mtrain\u001b[0m\u001b[0;34m(\u001b[0m\u001b[0mstep\u001b[0m\u001b[0;34m)\u001b[0m\u001b[0;34m\u001b[0m\u001b[0m\n\u001b[0m\u001b[1;32m      5\u001b[0m         \u001b[0;32mif\u001b[0m \u001b[0mstep\u001b[0m\u001b[0;34m%\u001b[0m\u001b[0;36m200\u001b[0m\u001b[0;34m==\u001b[0m\u001b[0;36m0\u001b[0m\u001b[0;34m:\u001b[0m\u001b[0;34m\u001b[0m\u001b[0m\n\u001b[1;32m      6\u001b[0m             \u001b[0mvalidation\u001b[0m\u001b[0;34m(\u001b[0m\u001b[0mstep\u001b[0m\u001b[0;34m)\u001b[0m\u001b[0;34m\u001b[0m\u001b[0m\n",
      "\u001b[0;32m<ipython-input-33-20e4ed0c9abf>\u001b[0m in \u001b[0;36mtrain\u001b[0;34m(step)\u001b[0m\n\u001b[1;32m      8\u001b[0m         \u001b[0mloss\u001b[0m \u001b[0;34m=\u001b[0m \u001b[0mmodel\u001b[0m\u001b[0;34m(\u001b[0m\u001b[0mx\u001b[0m\u001b[0;34m,\u001b[0m\u001b[0mu\u001b[0m\u001b[0;34m,\u001b[0m\u001b[0mt\u001b[0m\u001b[0;34m)\u001b[0m\u001b[0;34m\u001b[0m\u001b[0m\n\u001b[1;32m      9\u001b[0m \u001b[0;34m\u001b[0m\u001b[0m\n\u001b[0;32m---> 10\u001b[0;31m     \u001b[0mloss\u001b[0m \u001b[0;34m=\u001b[0m \u001b[0mfloat\u001b[0m\u001b[0;34m(\u001b[0m\u001b[0mloss\u001b[0m\u001b[0;34m.\u001b[0m\u001b[0mdata\u001b[0m\u001b[0;34m)\u001b[0m\u001b[0;34m\u001b[0m\u001b[0m\n\u001b[0m\u001b[1;32m     11\u001b[0m     \u001b[0macc\u001b[0m \u001b[0;34m=\u001b[0m \u001b[0mfloat\u001b[0m\u001b[0;34m(\u001b[0m\u001b[0mmodel\u001b[0m\u001b[0;34m.\u001b[0m\u001b[0maccuracy\u001b[0m\u001b[0;34m.\u001b[0m\u001b[0mdata\u001b[0m\u001b[0;34m)\u001b[0m\u001b[0;34m\u001b[0m\u001b[0m\n\u001b[1;32m     12\u001b[0m \u001b[0;34m\u001b[0m\u001b[0m\n",
      "\u001b[0;31mKeyboardInterrupt\u001b[0m: "
     ]
    }
   ],
   "source": [
    "if __name__ == '__main__':\n",
    "    #for step in range(args.epoch):\n",
    "    for step in range(10**5):\n",
    "        train(step)\n",
    "        if step%200==0:\n",
    "            validation(step)"
   ]
  },
  {
   "cell_type": "code",
   "execution_count": null,
   "metadata": {
    "collapsed": true
   },
   "outputs": [],
   "source": []
  }
 ],
 "metadata": {
  "kernelspec": {
   "display_name": "Python 3",
   "language": "python",
   "name": "python3"
  },
  "language_info": {
   "codemirror_mode": {
    "name": "ipython",
    "version": 3
   },
   "file_extension": ".py",
   "mimetype": "text/x-python",
   "name": "python",
   "nbconvert_exporter": "python",
   "pygments_lexer": "ipython3",
   "version": "3.6.3"
  }
 },
 "nbformat": 4,
 "nbformat_minor": 2
}
