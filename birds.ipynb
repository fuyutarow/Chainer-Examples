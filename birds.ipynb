{
 "cells": [
  {
   "cell_type": "code",
   "execution_count": 1,
   "metadata": {
    "scrolled": true
   },
   "outputs": [
    {
     "name": "stderr",
     "output_type": "stream",
     "text": [
      "Using TensorFlow backend.\n",
      "/home/fytroo/anaconda3/lib/python3.6/importlib/_bootstrap.py:219: RuntimeWarning: compiletime version 3.5 of module 'tensorflow.python.framework.fast_tensor_util' does not match runtime version 3.6\n",
      "  return f(*args, **kwds)\n"
     ]
    }
   ],
   "source": [
    "from __future__ import print_function\n",
    "import os\n",
    "\n",
    "import pandas as pd\n",
    "from PIL import Image\n",
    "import numpy as np\n",
    "\n",
    "import chainer\n",
    "from chainer.dataset import convert\n",
    "import chainer.links as L\n",
    "import chainer.functions as F\n",
    "import chainer.initializers as I\n",
    "from chainer import serializers\n",
    "\n",
    "import utils"
   ]
  },
  {
   "cell_type": "markdown",
   "metadata": {},
   "source": [
    "### ハイパーパラメータ"
   ]
  },
  {
   "cell_type": "code",
   "execution_count": 2,
   "metadata": {},
   "outputs": [
    {
     "name": "stdout",
     "output_type": "stream",
     "text": [
      "no argsparse\n"
     ]
    }
   ],
   "source": [
    "from easydict import EasyDict\n",
    "args = EasyDict({\n",
    "    'bs': 16, \n",
    "    'epoch' : 100,\n",
    "    'lr' : 0.001,\n",
    "    'gpu': 0,\n",
    "    'out': 'result',\n",
    "    'resume': '',\n",
    "})\n",
    "try:\n",
    "    __file__.endswith('py')\n",
    "    import argparse\n",
    "    parser = argparse.ArgumentParser(description='Chainer example: MNIST')\n",
    "    parser.add_argument('--batchsize', '-b', dest='bs', type=int, default=args.bs,\n",
    "                        help='Number of images in each mini-batch')\n",
    "    parser.add_argument('--epoch', '-e', type=int, default=args.epoch,\n",
    "                        help='Number of sweeps over the dataset to train')\n",
    "    parser.add_argument('--learningrate', '-l', dest='lr', type=float, default=args.lr,\n",
    "                        help='Number of sweeps over the dataset to train')\n",
    "    parser.add_argument('--frequency', '-f', type=int, default=-1,\n",
    "                        help='Frequency of taking a snapshot')\n",
    "    parser.add_argument('--gpu', '-g', type=int, default=args.gpu,\n",
    "                        help='GPU ID (negative value indicates CPU)')\n",
    "    parser.add_argument('--out', '-o', default=args.out,\n",
    "                        help='Directory to output the result')\n",
    "    parser.add_argument('--resume', '-r', default=args.resume,\n",
    "                        help='Resume the training from snapshot')\n",
    "    parser.add_argument('--unit', '-u', dest='n_in', type=int, default=args.n_in,\n",
    "                        help='Number of units')\n",
    "    parser.add_argument('--noplot', dest='plot', action='store_false',\n",
    "                        help='Disable PlotReport extension')\n",
    "    args = parser.parse_args()\n",
    "except:\n",
    "    print('no argsparse')\n",
    "    pass"
   ]
  },
  {
   "cell_type": "markdown",
   "metadata": {},
   "source": [
    "### データセット読み込み"
   ]
  },
  {
   "cell_type": "code",
   "execution_count": 3,
   "metadata": {
    "collapsed": true
   },
   "outputs": [],
   "source": [
    "from tuner import load_data"
   ]
  },
  {
   "cell_type": "code",
   "execution_count": 4,
   "metadata": {
    "collapsed": true
   },
   "outputs": [],
   "source": [
    "import os"
   ]
  },
  {
   "cell_type": "code",
   "execution_count": 5,
   "metadata": {
    "collapsed": true
   },
   "outputs": [],
   "source": [
    "dataset_dir = 'datasets/birds-datasets'\n",
    "resize = 128"
   ]
  },
  {
   "cell_type": "code",
   "execution_count": 6,
   "metadata": {},
   "outputs": [
    {
     "name": "stderr",
     "output_type": "stream",
     "text": [
      "/home/fytroo/anaconda3/lib/python3.6/site-packages/PIL/Image.py:914: UserWarning: Palette images with Transparency   expressed in bytes should be converted to RGBA images\n",
      "  'to RGBA images')\n"
     ]
    }
   ],
   "source": [
    "df = load_data.df_fromdir(dataset_dir)\n",
    "df_train, df_val = load_data.train_val_split_df(df)\n",
    "x_train, y_train = load_data.load_fromdf(df_train, resize=resize, rescale=1) \n",
    "x_val, y_val = load_data.load_fromdf(df_val, resize=resize, rescale=1) "
   ]
  },
  {
   "cell_type": "code",
   "execution_count": 7,
   "metadata": {},
   "outputs": [
    {
     "data": {
      "text/plain": [
       "((30, 128, 128, 3), (30,))"
      ]
     },
     "execution_count": 7,
     "metadata": {},
     "output_type": "execute_result"
    }
   ],
   "source": [
    "x_val.shape, y_val.shape"
   ]
  },
  {
   "cell_type": "code",
   "execution_count": 8,
   "metadata": {
    "collapsed": true
   },
   "outputs": [],
   "source": [
    "if len(y_val) < args.bs:\n",
    "    raise 'oops!'"
   ]
  },
  {
   "cell_type": "markdown",
   "metadata": {},
   "source": [
    "### モデルを定義"
   ]
  },
  {
   "cell_type": "code",
   "execution_count": 9,
   "metadata": {
    "collapsed": true
   },
   "outputs": [],
   "source": [
    "class LeNet(chainer.Chain):\n",
    "    def __init__(self, n_out=10):\n",
    "        super(LeNet, self).__init__()\n",
    "        \n",
    "        initialW= I.HeNormal()\n",
    "        with self.init_scope():\n",
    "            self.conv0 = L.Convolution2D(None, 16, 1, 1, 0, initialW=initialW, nobias=True)\n",
    "            \n",
    "            self.bn11 = L.BatchNormalization(16)\n",
    "            self.conv11 = L.Convolution2D(None, 32, 3, 1, 1, initialW=initialW, nobias=True)\n",
    "            self.bn12 = L.BatchNormalization(32)\n",
    "            self.conv12 = L.Convolution2D(None, 32, 3, 1, 1, initialW=initialW, nobias=True)\n",
    "            \n",
    "            self.bn21 = L.BatchNormalization(32)\n",
    "            self.conv21 = L.Convolution2D(None, 64, 3, 1, 1, initialW=initialW, nobias=True)\n",
    "            self.bn22 = L.BatchNormalization(64)\n",
    "            self.conv22 = L.Convolution2D(None, 64, 3, 1, 1, initialW=initialW, nobias=True)\n",
    "            \n",
    "            self.conv_out = L.Convolution2D(None, n_out)\n",
    "            self.fc = L.Linear(None, n_out)\n",
    "    \n",
    "    def __call__(self, x):\n",
    "        h = x\n",
    "        h = self.conv0(h)\n",
    "        \n",
    "        h = self.bn11(h)\n",
    "        h = F.relu(h)\n",
    "        h = self.conv11(h)\n",
    "        h = self.bn12(h)\n",
    "        h = F.relu(h)\n",
    "        h = self.conv12(h)\n",
    "        h = F.average_pooling_2d(h, ksize=2, stride=2)\n",
    "        \n",
    "        h = self.bn21(h)\n",
    "        h = F.relu(h)\n",
    "        h = self.conv21(h)\n",
    "        h = self.bn22(h)\n",
    "        h = F.relu(h)\n",
    "        h = self.conv22(h)\n",
    "        \n",
    "        print('#1', h.shape)\n",
    "        h = self.conv_out(h)\n",
    "        print('#2', h.shape)\n",
    "        h = F.squeeze(F.average_ppoling_2d(h,4))\n",
    "        print('#3', h.shape)\n",
    "        h = F.average_pooling_2d(h, ksize=2, stride=2)\n",
    "        print('#4', h.shape)\n",
    "        h = self.fc(h)\n",
    "        \n",
    "        return h"
   ]
  },
  {
   "cell_type": "code",
   "execution_count": 10,
   "metadata": {
    "collapsed": true
   },
   "outputs": [],
   "source": [
    "class LeNet(chainer.Chain):\n",
    "    def __init__(self, n_out=10):\n",
    "        super(LeNet, self).__init__()\n",
    "        \n",
    "        initialW= I.HeNormal()\n",
    "        with self.init_scope():\n",
    "            self.conv0 = L.Convolution2D(None, 16, 1, 1, 0, initialW=initialW, nobias=True)\n",
    "            \n",
    "            self.bn11 = L.BatchNormalization(16)\n",
    "            self.conv11 = L.Convolution2D(None, 32, 3, 1, 1, initialW=initialW, nobias=True)\n",
    "            self.bn12 = L.BatchNormalization(32)\n",
    "            self.conv12 = L.Convolution2D(None, 32, 3, 1, 1, initialW=initialW, nobias=True)\n",
    "            \n",
    "            self.bn21 = L.BatchNormalization(32)\n",
    "            self.conv21 = L.Convolution2D(None, 64, 3, 1, 1, initialW=initialW, nobias=True)\n",
    "            self.bn22 = L.BatchNormalization(64)\n",
    "            self.conv22 = L.Convolution2D(None, 64, 3, 1, 1, initialW=initialW, nobias=True)\n",
    "            \n",
    "            self.conv_out = L.Convolution2D(None, n_out)\n",
    "            self.fc = L.Linear(None, n_out)\n",
    "    \n",
    "    def __call__(self, x):\n",
    "        h = x\n",
    "        h = self.conv0(h)\n",
    "        \n",
    "        h = self.bn11(h)\n",
    "        h = F.relu(h)\n",
    "        h = self.conv11(h)\n",
    "        h = self.bn12(h)\n",
    "        h = F.relu(h)\n",
    "        h = self.conv12(h)\n",
    "        h = F.average_pooling_2d(h, ksize=2, stride=2)\n",
    "        h = F.dropout(h, ratio=0.4)\n",
    "        \n",
    "        h = self.bn21(h)\n",
    "        h = F.relu(h)\n",
    "        h = self.conv21(h)\n",
    "        h = self.bn22(h)\n",
    "        h = F.relu(h)\n",
    "        h = self.conv22(h)\n",
    "        h = F.average_pooling_2d(h, ksize=2, stride=2)\n",
    "        h = F.dropout(h, ratio=0.4)\n",
    "        \n",
    "        h = self.fc(h)\n",
    "        \n",
    "        return h"
   ]
  },
  {
   "cell_type": "code",
   "execution_count": 11,
   "metadata": {
    "collapsed": true
   },
   "outputs": [],
   "source": [
    "n_label = np.unique(y_train).size\n",
    "model = L.Classifier(LeNet(n_label),\n",
    "                    lossfun=F.softmax_cross_entropy,\n",
    "                    accfun=F.accuracy)\n",
    "xp = np\n",
    "if args.gpu >= 0:\n",
    "    import cupy as cp\n",
    "    xp = cp\n",
    "    chainer.cuda.get_device_from_id(args.gpu).use()\n",
    "    model.to_gpu()  # Copy the model to the GPU\n",
    "optimizer = chainer.optimizers.Adam(args.lr)\n",
    "optimizer.setup(model)"
   ]
  },
  {
   "cell_type": "code",
   "execution_count": 12,
   "metadata": {
    "collapsed": true
   },
   "outputs": [],
   "source": [
    "from PIL import Image\n",
    "x = ( load_data.arr2img(x) for x in x_train)"
   ]
  },
  {
   "cell_type": "code",
   "execution_count": 13,
   "metadata": {},
   "outputs": [
    {
     "data": {
      "image/png": "[encoded data removed]",
      "text/plain": [
       "<PIL.Image.Image image mode=RGB size=128x128 at 0x7F261071DDA0>"
      ]
     },
     "execution_count": 13,
     "metadata": {},
     "output_type": "execute_result"
    }
   ],
   "source": [
    "next(x)"
   ]
  },
  {
   "cell_type": "markdown",
   "metadata": {},
   "source": [
    "### data augmentation"
   ]
  },
  {
   "cell_type": "code",
   "execution_count": 14,
   "metadata": {
    "collapsed": true
   },
   "outputs": [],
   "source": [
    "import Augmentor\n",
    "p = Augmentor.Pipeline()\n",
    "#p.crop_random(probability=1, percentage_area=0.8)\n",
    "#p.resize(probability=1, width=resize, height=resize)\n",
    "#p.flip_left_right(probability=0.5)\n",
    "#p.random_erasing(probability=0.5, rectangle_area=0.5)\n",
    "#p.shear(probability=0.3, max_shear_left=2, max_shear_right=2)\n",
    "#\n",
    "g = p.keras_generator_from_array(x_train, y_train, batch_size=args.bs)"
   ]
  },
  {
   "cell_type": "code",
   "execution_count": 15,
   "metadata": {},
   "outputs": [
    {
     "data": {
      "image/png": "[encoded data removed]",
      "text/plain": [
       "<PIL.Image.Image image mode=RGB size=128x128 at 0x7F260E252C18>"
      ]
     },
     "execution_count": 15,
     "metadata": {},
     "output_type": "execute_result"
    }
   ],
   "source": [
    "xs, ys = next(g)\n",
    "load_data.arr2img(xs[1])"
   ]
  },
  {
   "cell_type": "code",
   "execution_count": 16,
   "metadata": {
    "collapsed": true
   },
   "outputs": [],
   "source": [
    "g = ((\n",
    "    xp.array(np.swapaxes((x/255.), 1, 3)).astype(np.float32),\n",
    "    xp.array(y.astype(np.int8))\n",
    "    ) for (x,y) in g)"
   ]
  },
  {
   "cell_type": "markdown",
   "metadata": {},
   "source": [
    "### 訓練と検証"
   ]
  },
  {
   "cell_type": "code",
   "execution_count": 17,
   "metadata": {
    "collapsed": true
   },
   "outputs": [],
   "source": [
    "def train(step=None):\n",
    "    xs, ts = next(g) \n",
    "    x = chainer.Variable(xs)\n",
    "    t = chainer.Variable(ts)\n",
    "    optimizer.update(model, x, t)\n",
    "    with chainer.using_config('train', True):\n",
    "        loss = model(x,t)\n",
    "\n",
    "    loss = float(loss.data)\n",
    "    acc = float(model.accuracy.data)\n",
    "\n",
    "    if step%100==0:\n",
    "        print('step:{}'.format(step))\n",
    "        print('loss: {:.4f}\\t acc: {:.4f}'.format(loss, acc))\n",
    "    \n",
    "def validation(step=None):\n",
    "    xs = xp.array(np.swapaxes((x_val), 1, 3)).astype(np.float32)\n",
    "    ts = xp.array(y_val).astype(np.int8)\n",
    "    x = chainer.Variable(xs)\n",
    "    t = chainer.Variable(ts)\n",
    "    with chainer.using_config('train', True):\n",
    "        loss = model(x,t)\n",
    "\n",
    "    loss = float(loss.data)\n",
    "    acc = float(model.accuracy.data)\n",
    "    \n",
    "    print('val_loss: {:.4f}\\t val_acc: {:.4f}'.format(loss, acc))"
   ]
  },
  {
   "cell_type": "code",
   "execution_count": null,
   "metadata": {
    "scrolled": true
   },
   "outputs": [
    {
     "name": "stdout",
     "output_type": "stream",
     "text": [
      "step:0\n",
      "loss: 2.5109\t acc: 0.6250\n",
      "val_loss: 9.4848\t val_acc: 0.2667\n",
      "step:100\n",
      "loss: 0.7799\t acc: 0.7500\n",
      "step:200\n",
      "loss: 1.4645\t acc: 0.4375\n",
      "step:300\n",
      "loss: 1.1670\t acc: 0.5000\n",
      "step:400\n",
      "loss: 0.7642\t acc: 0.8125\n",
      "step:500\n",
      "loss: 0.4218\t acc: 0.8125\n",
      "step:600\n",
      "loss: 0.7333\t acc: 0.7500\n",
      "step:700\n",
      "loss: 0.6420\t acc: 0.8750\n",
      "step:800\n",
      "loss: 0.5815\t acc: 0.7500\n",
      "step:900\n",
      "loss: 0.3048\t acc: 0.8125\n",
      "step:1000\n",
      "loss: 0.8428\t acc: 0.7500\n",
      "step:1100\n",
      "loss: 0.3939\t acc: 0.8125\n",
      "step:1200\n",
      "loss: 0.4331\t acc: 0.8125\n",
      "step:1300\n",
      "loss: 0.3374\t acc: 0.8750\n",
      "step:1400\n",
      "loss: 0.8814\t acc: 0.7500\n",
      "step:1500\n",
      "loss: 0.5372\t acc: 0.7500\n",
      "step:1600\n",
      "loss: 0.4241\t acc: 0.9375\n",
      "step:1700\n",
      "loss: 0.2854\t acc: 0.8750\n",
      "step:1800\n",
      "loss: 0.2099\t acc: 0.8750\n",
      "step:1900\n",
      "loss: 0.4200\t acc: 0.7500\n",
      "step:2000\n",
      "loss: 0.2006\t acc: 0.9375\n",
      "val_loss: 0.6679\t val_acc: 0.7667\n",
      "step:2100\n",
      "loss: 0.2522\t acc: 0.9375\n",
      "step:2200\n",
      "loss: 0.1932\t acc: 0.9375\n",
      "step:2300\n",
      "loss: 0.2278\t acc: 0.9375\n",
      "step:2400\n",
      "loss: 0.2275\t acc: 0.8750\n",
      "step:2500\n",
      "loss: 0.7115\t acc: 0.6875\n",
      "step:2600\n",
      "loss: 0.1918\t acc: 0.8750\n",
      "step:2700\n",
      "loss: 0.2889\t acc: 0.8125\n",
      "step:2800\n",
      "loss: 0.1752\t acc: 0.9375\n",
      "step:2900\n",
      "loss: 0.2292\t acc: 0.9375\n",
      "step:3000\n",
      "loss: 0.3911\t acc: 0.8125\n",
      "step:3100\n",
      "loss: 0.4851\t acc: 0.8125\n",
      "step:3200\n",
      "loss: 0.1542\t acc: 0.8750\n",
      "step:3300\n",
      "loss: 0.0256\t acc: 1.0000\n",
      "step:3400\n",
      "loss: 0.3867\t acc: 0.7500\n",
      "step:3500\n",
      "loss: 0.1587\t acc: 0.9375\n",
      "step:3600\n",
      "loss: 0.2663\t acc: 0.8750\n",
      "step:3700\n",
      "loss: 0.2302\t acc: 0.8750\n",
      "step:3800\n",
      "loss: 0.4391\t acc: 0.8125\n",
      "step:3900\n",
      "loss: 0.0682\t acc: 1.0000\n",
      "step:4000\n",
      "loss: 0.1154\t acc: 0.9375\n",
      "val_loss: 0.5980\t val_acc: 0.7000\n",
      "step:4100\n",
      "loss: 0.1209\t acc: 0.9375\n",
      "step:4200\n",
      "loss: 0.4482\t acc: 0.8125\n",
      "step:4300\n",
      "loss: 0.1678\t acc: 0.9375\n",
      "step:4400\n",
      "loss: 0.3271\t acc: 0.8750\n",
      "step:4500\n",
      "loss: 0.1241\t acc: 0.9375\n",
      "step:4600\n",
      "loss: 0.0947\t acc: 0.9375\n",
      "step:4700\n",
      "loss: 0.1832\t acc: 0.9375\n",
      "step:4800\n",
      "loss: 0.1459\t acc: 0.9375\n",
      "step:4900\n",
      "loss: 0.0542\t acc: 1.0000\n",
      "step:5000\n",
      "loss: 0.6037\t acc: 0.8125\n",
      "step:5100\n",
      "loss: 0.1284\t acc: 1.0000\n",
      "step:5200\n",
      "loss: 0.0953\t acc: 0.9375\n",
      "step:5300\n",
      "loss: 0.1581\t acc: 0.9375\n",
      "step:5400\n",
      "loss: 0.2502\t acc: 0.8750\n",
      "step:5500\n",
      "loss: 0.1621\t acc: 0.8750\n",
      "step:5600\n",
      "loss: 0.1416\t acc: 0.9375\n",
      "step:5700\n",
      "loss: 0.0231\t acc: 1.0000\n",
      "step:5800\n",
      "loss: 0.3686\t acc: 0.8750\n",
      "step:5900\n",
      "loss: 0.1083\t acc: 0.9375\n",
      "step:6000\n",
      "loss: 0.1614\t acc: 0.9375\n",
      "val_loss: 1.1218\t val_acc: 0.6333\n",
      "step:6100\n",
      "loss: 0.0687\t acc: 1.0000\n",
      "step:6200\n",
      "loss: 0.0214\t acc: 1.0000\n",
      "step:6300\n",
      "loss: 0.1267\t acc: 0.9375\n",
      "step:6400\n",
      "loss: 0.1482\t acc: 1.0000\n",
      "step:6500\n",
      "loss: 0.0155\t acc: 1.0000\n",
      "step:6600\n",
      "loss: 0.0908\t acc: 0.9375\n",
      "step:6700\n",
      "loss: 0.3273\t acc: 0.8125\n",
      "step:6800\n",
      "loss: 0.0694\t acc: 1.0000\n",
      "step:6900\n",
      "loss: 0.3311\t acc: 0.7500\n",
      "step:7000\n",
      "loss: 0.0512\t acc: 1.0000\n",
      "step:7100\n",
      "loss: 0.0095\t acc: 1.0000\n",
      "step:7200\n",
      "loss: 0.1225\t acc: 0.9375\n",
      "step:7300\n",
      "loss: 0.1094\t acc: 0.9375\n",
      "step:7400\n",
      "loss: 0.0329\t acc: 1.0000\n",
      "step:7500\n",
      "loss: 0.1719\t acc: 0.9375\n",
      "step:7600\n",
      "loss: 0.0706\t acc: 1.0000\n",
      "step:7700\n",
      "loss: 0.0536\t acc: 1.0000\n",
      "step:7800\n",
      "loss: 0.0714\t acc: 1.0000\n",
      "step:7900\n",
      "loss: 0.0174\t acc: 1.0000\n",
      "step:8000\n",
      "loss: 0.0526\t acc: 1.0000\n",
      "val_loss: 1.3525\t val_acc: 0.6000\n",
      "step:8100\n",
      "loss: 0.1042\t acc: 0.9375\n",
      "step:8200\n",
      "loss: 0.0682\t acc: 0.9375\n",
      "step:8300\n",
      "loss: 0.1765\t acc: 0.8750\n",
      "step:8400\n",
      "loss: 0.0079\t acc: 1.0000\n",
      "step:8500\n",
      "loss: 0.0201\t acc: 1.0000\n",
      "step:8600\n",
      "loss: 0.4121\t acc: 0.7500\n",
      "step:8700\n",
      "loss: 0.0520\t acc: 1.0000\n",
      "step:8800\n",
      "loss: 0.0009\t acc: 1.0000\n",
      "step:8900\n",
      "loss: 0.5034\t acc: 0.8750\n",
      "step:9000\n",
      "loss: 0.0059\t acc: 1.0000\n",
      "step:9100\n",
      "loss: 0.2577\t acc: 0.9375\n",
      "step:9200\n",
      "loss: 0.0133\t acc: 1.0000\n",
      "step:9300\n",
      "loss: 0.0612\t acc: 1.0000\n",
      "step:9400\n",
      "loss: 0.0655\t acc: 0.9375\n",
      "step:9500\n",
      "loss: 0.0770\t acc: 0.9375\n",
      "step:9600\n",
      "loss: 0.0720\t acc: 0.9375\n",
      "step:9700\n",
      "loss: 0.1022\t acc: 1.0000\n",
      "step:9800\n",
      "loss: 0.0066\t acc: 1.0000\n",
      "step:9900\n",
      "loss: 0.0175\t acc: 1.0000\n",
      "step:10000\n",
      "loss: 0.1261\t acc: 0.9375\n",
      "val_loss: 0.9843\t val_acc: 0.7000\n",
      "step:10100\n",
      "loss: 0.0529\t acc: 1.0000\n",
      "step:10200\n",
      "loss: 0.0223\t acc: 1.0000\n",
      "step:10300\n",
      "loss: 0.0031\t acc: 1.0000\n",
      "step:10400\n",
      "loss: 0.2353\t acc: 0.8750\n",
      "step:10500\n",
      "loss: 0.0787\t acc: 0.9375\n",
      "step:10600\n",
      "loss: 0.0013\t acc: 1.0000\n",
      "step:10700\n",
      "loss: 0.5998\t acc: 0.8750\n",
      "step:10800\n",
      "loss: 0.0666\t acc: 1.0000\n",
      "step:10900\n",
      "loss: 0.5948\t acc: 0.8750\n",
      "step:11000\n",
      "loss: 0.3691\t acc: 0.8750\n",
      "step:11100\n",
      "loss: 0.0970\t acc: 0.9375\n",
      "step:11200\n",
      "loss: 0.0070\t acc: 1.0000\n",
      "step:11300\n",
      "loss: 0.0988\t acc: 0.9375\n",
      "step:11400\n",
      "loss: 0.1722\t acc: 0.9375\n",
      "step:11500\n",
      "loss: 0.0213\t acc: 1.0000\n",
      "step:11600\n",
      "loss: 0.1093\t acc: 0.9375\n",
      "step:11700\n",
      "loss: 0.0050\t acc: 1.0000\n",
      "step:11800\n",
      "loss: 0.2569\t acc: 0.9375\n",
      "step:11900\n",
      "loss: 0.0381\t acc: 1.0000\n",
      "step:12000\n",
      "loss: 0.2260\t acc: 0.9375\n",
      "val_loss: 0.9958\t val_acc: 0.6667\n",
      "step:12100\n",
      "loss: 0.0116\t acc: 1.0000\n",
      "step:12200\n",
      "loss: 0.0084\t acc: 1.0000\n",
      "step:12300\n",
      "loss: 0.2318\t acc: 0.9375\n",
      "step:12400\n",
      "loss: 0.0101\t acc: 1.0000\n",
      "step:12500\n",
      "loss: 0.1359\t acc: 0.9375\n",
      "step:12600\n",
      "loss: 0.0363\t acc: 1.0000\n",
      "step:12700\n",
      "loss: 0.1198\t acc: 0.9375\n",
      "step:12800\n",
      "loss: 0.3655\t acc: 0.9375\n",
      "step:12900\n",
      "loss: 0.0146\t acc: 1.0000\n",
      "step:13000\n",
      "loss: 0.0138\t acc: 1.0000\n",
      "step:13100\n",
      "loss: 0.0425\t acc: 1.0000\n",
      "step:13200\n",
      "loss: 0.0539\t acc: 1.0000\n",
      "step:13300\n",
      "loss: 0.0442\t acc: 1.0000\n",
      "step:13400\n",
      "loss: 0.0687\t acc: 0.9375\n",
      "step:13500\n",
      "loss: 0.1208\t acc: 1.0000\n",
      "step:13600\n",
      "loss: 0.0003\t acc: 1.0000\n",
      "step:13700\n",
      "loss: 0.0082\t acc: 1.0000\n",
      "step:13800\n",
      "loss: 0.1523\t acc: 0.9375\n",
      "step:13900\n",
      "loss: 0.0186\t acc: 1.0000\n",
      "step:14000\n",
      "loss: 0.0028\t acc: 1.0000\n",
      "val_loss: 0.8090\t val_acc: 0.8000\n",
      "step:14100\n",
      "loss: 0.0269\t acc: 1.0000\n",
      "step:14200\n",
      "loss: 0.1520\t acc: 0.8750\n",
      "step:14300\n",
      "loss: 0.0042\t acc: 1.0000\n",
      "step:14400\n",
      "loss: 0.0642\t acc: 0.9375\n",
      "step:14500\n",
      "loss: 0.2263\t acc: 0.9375\n",
      "step:14600\n",
      "loss: 0.0206\t acc: 1.0000\n",
      "step:14700\n",
      "loss: 0.0026\t acc: 1.0000\n",
      "step:14800\n",
      "loss: 0.1460\t acc: 0.9375\n",
      "step:14900\n",
      "loss: 0.0065\t acc: 1.0000\n",
      "step:15000\n",
      "loss: 0.2452\t acc: 0.8750\n",
      "step:15100\n",
      "loss: 0.1142\t acc: 0.9375\n",
      "step:15200\n",
      "loss: 0.1544\t acc: 0.8750\n",
      "step:15300\n",
      "loss: 0.0013\t acc: 1.0000\n",
      "step:15400\n",
      "loss: 0.0791\t acc: 0.9375\n",
      "step:15500\n",
      "loss: 0.0757\t acc: 1.0000\n",
      "step:15600\n",
      "loss: 0.0176\t acc: 1.0000\n"
     ]
    }
   ],
   "source": [
    "if __name__ == '__main__':\n",
    "    #for step in range(args.epoch):\n",
    "    for step in range(10**5):\n",
    "        train(step)\n",
    "        if step%2000==0:\n",
    "            validation(step)"
   ]
  },
  {
   "cell_type": "code",
   "execution_count": null,
   "metadata": {
    "collapsed": true
   },
   "outputs": [],
   "source": [
    "model.predict(x_test)"
   ]
  }
 ],
 "metadata": {
  "kernelspec": {
   "display_name": "Python 3",
   "language": "python",
   "name": "python3"
  },
  "language_info": {
   "codemirror_mode": {
    "name": "ipython",
    "version": 3
   },
   "file_extension": ".py",
   "mimetype": "text/x-python",
   "name": "python",
   "nbconvert_exporter": "python",
   "pygments_lexer": "ipython3",
   "version": "3.6.3"
  }
 },
 "nbformat": 4,
 "nbformat_minor": 2
}
