{
 "cells": [
  {
   "cell_type": "code",
   "execution_count": 47,
   "metadata": {},
   "outputs": [],
   "source": [
    "import numpy as np \n",
    "from numpy.random import choice\n",
    "from tuner.dataset import ClassificationDataset\n",
    "from tuner import load_data\n",
    "from tuner import utils\n",
    "import pickle\n",
    "import chainer\n",
    "import pandas as pd\n",
    "import os"
   ]
  },
  {
   "cell_type": "code",
   "execution_count": 2,
   "metadata": {},
   "outputs": [
    {
     "name": "stdout",
     "output_type": "stream",
     "text": [
      "VGG.py\t     birds_online.180110.hdf5\t      birds_online.model.pkl\r\n",
      "__init__.py  birds_online.20180125.hdf5\r\n",
      "__pycache__  birds_online.20180125.model.pkl\r\n"
     ]
    }
   ],
   "source": [
    "!ls models "
   ]
  },
  {
   "cell_type": "code",
   "execution_count": 9,
   "metadata": {},
   "outputs": [],
   "source": [
    "class LeNet(chainer.Chain):\n",
    "    def __init__(self, n_out=10):\n",
    "        super(LeNet, self).__init__()\n",
    "        \n",
    "        initialW= I.HeNormal()\n",
    "        with self.init_scope():\n",
    "            self.conv0 = L.Convolution2D(None, 16, 1, 1, 0, initialW=initialW, nobias=True)\n",
    "            \n",
    "            self.bn11 = L.BatchNormalization(16)\n",
    "            self.conv11 = L.Convolution2D(None, 32, 3, 1, 1, initialW=initialW, nobias=True)\n",
    "            self.bn12 = L.BatchNormalization(32)\n",
    "            self.conv12 = L.Convolution2D(None, 32, 3, 1, 1, initialW=initialW, nobias=True)\n",
    "            \n",
    "            self.bn21 = L.BatchNormalization(32)\n",
    "            self.conv21 = L.Convolution2D(None, 64, 3, 1, 1, initialW=initialW, nobias=True)\n",
    "            self.bn22 = L.BatchNormalization(64)\n",
    "            self.conv22 = L.Convolution2D(None, 64, 3, 1, 1, initialW=initialW, nobias=True)\n",
    "            \n",
    "            self.conv_out = L.Convolution2D(None, n_out)\n",
    "            self.fc = L.Linear(None, 20)\n",
    "            self.l1 = L.Linear(None, 20)\n",
    "            self.l2 = L.Linear(None, n_out)\n",
    "    \n",
    "    def __call__(self, x, u):\n",
    "        h = x\n",
    "        h = self.conv0(h)\n",
    "        \n",
    "        h = self.bn11(h)\n",
    "        h = F.relu(h)\n",
    "        h = self.conv11(h)\n",
    "        h = self.bn12(h)\n",
    "        h = F.relu(h)\n",
    "        h = self.conv12(h)\n",
    "        h = F.average_pooling_2d(h, ksize=2, stride=2)\n",
    "        h = F.dropout(h, ratio=0.4)\n",
    "        \n",
    "        h = self.bn21(h)\n",
    "        h = F.relu(h)\n",
    "        h = self.conv21(h)\n",
    "        h = self.bn22(h)\n",
    "        h = F.relu(h)\n",
    "        h = self.conv22(h)\n",
    "        h = F.average_pooling_2d(h, ksize=2, stride=2)\n",
    "        h = F.dropout(h, ratio=0.5)\n",
    "        \n",
    "        h = self.fc(h)\n",
    "        #h = F.relu(h)\n",
    "        h = F.dropout(h, ratio=0.5)\n",
    "        h = F.concat((h, u), axis=1)\n",
    "        h = F.dropout(h, ratio=0.8)\n",
    "        h = self.l1(h)\n",
    "        h = F.relu(h)\n",
    "        h = F.dropout(h, ratio=0.6)\n",
    "        h = self.l2(h)\n",
    "        \n",
    "        return h"
   ]
  },
  {
   "cell_type": "code",
   "execution_count": 10,
   "metadata": {},
   "outputs": [],
   "source": [
    "with open('models/birds_online.20180125.model.pkl', 'rb') as f:\n",
    "    m = pickle.load(f)"
   ]
  },
  {
   "cell_type": "code",
   "execution_count": 11,
   "metadata": {
    "collapsed": true
   },
   "outputs": [],
   "source": [
    "birds = ClassificationDataset('datasets/birds-dataset')"
   ]
  },
  {
   "cell_type": "code",
   "execution_count": null,
   "metadata": {
    "collapsed": true
   },
   "outputs": [],
   "source": [
    "val_data = '5a606243b037cb270b56c29c/"
   ]
  },
  {
   "cell_type": "code",
   "execution_count": 16,
   "metadata": {},
   "outputs": [
    {
     "name": "stdout",
     "output_type": "stream",
     "text": [
      "ls: 'standard_datasets/5a606243b037cb270' にアクセスできません: そのようなファイルやディレクトリはありません\r\n"
     ]
    }
   ],
   "source": [
    "!ls standard_datasets/5a6062430"
   ]
  },
  {
   "cell_type": "code",
   "execution_count": 17,
   "metadata": {
    "collapsed": true
   },
   "outputs": [],
   "source": [
    "val_data = ClassificationDataset('standard_datasets/5a606243b037cb270b56c29c/validation/')"
   ]
  },
  {
   "cell_type": "code",
   "execution_count": 25,
   "metadata": {},
   "outputs": [],
   "source": [
    "df_num = pd.read_csv(os.path.join('datasets/birds-dataset', 'numeric_data.csv'))\n",
    "df = pd.concat([val_data.df, df_num,], axis=1, join='inner')\n",
    "u = df[['length','length']].values"
   ]
  },
  {
   "cell_type": "code",
   "execution_count": 96,
   "metadata": {
    "scrolled": true
   },
   "outputs": [],
   "source": [
    "df = load_data.df_fromdir_classed('standard_datasets/5a606243b037cb270b56c29c/validation/')\n",
    "\n",
    "df_num = pd.read_csv(os.path.join('datasets/birds-dataset', 'numeric_data.csv'))\n",
    "\n",
    "df = pd.concat([df, df_num,], axis=1, join='inner')\n",
    "\n",
    "labels = sorted(list(set(df['label'])))\n",
    "l2i = {l:i for i, l in enumerate(labels)}\n",
    "\n",
    "def normalized_data(xs, us, ys):\n",
    "    return (\n",
    "        np.swapaxes(xs/255., 1, 3).astype(np.float32),\n",
    "        utils.maxmin_normalize(us).astype(np.float32),\n",
    "        ys.astype(np.int8))\n",
    "\n",
    "x_val, y_val = load_data.load_fromdf(df, label2id=l2i, resize=128, rescale=1)\n",
    "\n",
    "u_val = df[['length','weight']].values\n",
    "\n",
    "xs, us, ys = normalized_data(x_val, u_val, y_val)"
   ]
  },
  {
   "cell_type": "code",
   "execution_count": 88,
   "metadata": {
    "collapsed": true
   },
   "outputs": [],
   "source": [
    "with open('models/birds_online.20180126.model.pkl', 'rb') as f:\n",
    "    m = pickle.load(f)"
   ]
  },
  {
   "cell_type": "code",
   "execution_count": 84,
   "metadata": {},
   "outputs": [],
   "source": [
    "import chainer.functions as F"
   ]
  },
  {
   "cell_type": "code",
   "execution_count": 91,
   "metadata": {},
   "outputs": [
    {
     "data": {
      "text/plain": [
       "(66, 6)"
      ]
     },
     "execution_count": 91,
     "metadata": {},
     "output_type": "execute_result"
    }
   ],
   "source": [
    "out.data.shape"
   ]
  },
  {
   "cell_type": "code",
   "execution_count": 93,
   "metadata": {
    "scrolled": true
   },
   "outputs": [],
   "source": [
    "xs, us, ys = normalized_data(x_val, u_val, y_val)\n",
    "out = F.softmax(m.predictor(xs, us))"
   ]
  },
  {
   "cell_type": "code",
   "execution_count": 94,
   "metadata": {},
   "outputs": [
    {
     "ename": "ValueError",
     "evalue": "Shape of passed values is (6, 66), indices imply (1, 66)",
     "output_type": "error",
     "traceback": [
      "\u001b[0;31m---------------------------------------------------------------------------\u001b[0m",
      "\u001b[0;31mValueError\u001b[0m                                Traceback (most recent call last)",
      "\u001b[0;32m~/anaconda3/lib/python3.6/site-packages/pandas/core/internals.py\u001b[0m in \u001b[0;36mcreate_block_manager_from_blocks\u001b[0;34m(blocks, axes)\u001b[0m\n\u001b[1;32m   4616\u001b[0m                 blocks = [make_block(values=blocks[0],\n\u001b[0;32m-> 4617\u001b[0;31m                                      placement=slice(0, len(axes[0])))]\n\u001b[0m\u001b[1;32m   4618\u001b[0m \u001b[0;34m\u001b[0m\u001b[0m\n",
      "\u001b[0;32m~/anaconda3/lib/python3.6/site-packages/pandas/core/internals.py\u001b[0m in \u001b[0;36mmake_block\u001b[0;34m(values, placement, klass, ndim, dtype, fastpath)\u001b[0m\n\u001b[1;32m   2951\u001b[0m \u001b[0;34m\u001b[0m\u001b[0m\n\u001b[0;32m-> 2952\u001b[0;31m     \u001b[0;32mreturn\u001b[0m \u001b[0mklass\u001b[0m\u001b[0;34m(\u001b[0m\u001b[0mvalues\u001b[0m\u001b[0;34m,\u001b[0m \u001b[0mndim\u001b[0m\u001b[0;34m=\u001b[0m\u001b[0mndim\u001b[0m\u001b[0;34m,\u001b[0m \u001b[0mfastpath\u001b[0m\u001b[0;34m=\u001b[0m\u001b[0mfastpath\u001b[0m\u001b[0;34m,\u001b[0m \u001b[0mplacement\u001b[0m\u001b[0;34m=\u001b[0m\u001b[0mplacement\u001b[0m\u001b[0;34m)\u001b[0m\u001b[0;34m\u001b[0m\u001b[0m\n\u001b[0m\u001b[1;32m   2953\u001b[0m \u001b[0;34m\u001b[0m\u001b[0m\n",
      "\u001b[0;32m~/anaconda3/lib/python3.6/site-packages/pandas/core/internals.py\u001b[0m in \u001b[0;36m__init__\u001b[0;34m(self, values, placement, ndim, fastpath)\u001b[0m\n\u001b[1;32m    119\u001b[0m                              'implies %d' % (len(self.values),\n\u001b[0;32m--> 120\u001b[0;31m                                              len(self.mgr_locs)))\n\u001b[0m\u001b[1;32m    121\u001b[0m \u001b[0;34m\u001b[0m\u001b[0m\n",
      "\u001b[0;31mValueError\u001b[0m: Wrong number of items passed 6, placement implies 1",
      "\nDuring handling of the above exception, another exception occurred:\n",
      "\u001b[0;31mValueError\u001b[0m                                Traceback (most recent call last)",
      "\u001b[0;32m<ipython-input-94-5e36ca48f893>\u001b[0m in \u001b[0;36m<module>\u001b[0;34m()\u001b[0m\n\u001b[0;32m----> 1\u001b[0;31m \u001b[0mdf_out\u001b[0m \u001b[0;34m=\u001b[0m \u001b[0mpd\u001b[0m\u001b[0;34m.\u001b[0m\u001b[0mDataFrame\u001b[0m\u001b[0;34m(\u001b[0m\u001b[0mout\u001b[0m\u001b[0;34m.\u001b[0m\u001b[0mdata\u001b[0m\u001b[0;34m,\u001b[0m \u001b[0mcolumns\u001b[0m\u001b[0;34m=\u001b[0m\u001b[0mlabels\u001b[0m\u001b[0;34m)\u001b[0m\u001b[0;34m\u001b[0m\u001b[0m\n\u001b[0m",
      "\u001b[0;32m~/anaconda3/lib/python3.6/site-packages/pandas/core/frame.py\u001b[0m in \u001b[0;36m__init__\u001b[0;34m(self, data, index, columns, dtype, copy)\u001b[0m\n\u001b[1;32m    359\u001b[0m             \u001b[0;32melse\u001b[0m\u001b[0;34m:\u001b[0m\u001b[0;34m\u001b[0m\u001b[0m\n\u001b[1;32m    360\u001b[0m                 mgr = self._init_ndarray(data, index, columns, dtype=dtype,\n\u001b[0;32m--> 361\u001b[0;31m                                          copy=copy)\n\u001b[0m\u001b[1;32m    362\u001b[0m         \u001b[0;32melif\u001b[0m \u001b[0misinstance\u001b[0m\u001b[0;34m(\u001b[0m\u001b[0mdata\u001b[0m\u001b[0;34m,\u001b[0m \u001b[0;34m(\u001b[0m\u001b[0mlist\u001b[0m\u001b[0;34m,\u001b[0m \u001b[0mtypes\u001b[0m\u001b[0;34m.\u001b[0m\u001b[0mGeneratorType\u001b[0m\u001b[0;34m)\u001b[0m\u001b[0;34m)\u001b[0m\u001b[0;34m:\u001b[0m\u001b[0;34m\u001b[0m\u001b[0m\n\u001b[1;32m    363\u001b[0m             \u001b[0;32mif\u001b[0m \u001b[0misinstance\u001b[0m\u001b[0;34m(\u001b[0m\u001b[0mdata\u001b[0m\u001b[0;34m,\u001b[0m \u001b[0mtypes\u001b[0m\u001b[0;34m.\u001b[0m\u001b[0mGeneratorType\u001b[0m\u001b[0;34m)\u001b[0m\u001b[0;34m:\u001b[0m\u001b[0;34m\u001b[0m\u001b[0m\n",
      "\u001b[0;32m~/anaconda3/lib/python3.6/site-packages/pandas/core/frame.py\u001b[0m in \u001b[0;36m_init_ndarray\u001b[0;34m(self, values, index, columns, dtype, copy)\u001b[0m\n\u001b[1;32m    531\u001b[0m             \u001b[0mvalues\u001b[0m \u001b[0;34m=\u001b[0m \u001b[0mmaybe_infer_to_datetimelike\u001b[0m\u001b[0;34m(\u001b[0m\u001b[0mvalues\u001b[0m\u001b[0;34m)\u001b[0m\u001b[0;34m\u001b[0m\u001b[0m\n\u001b[1;32m    532\u001b[0m \u001b[0;34m\u001b[0m\u001b[0m\n\u001b[0;32m--> 533\u001b[0;31m         \u001b[0;32mreturn\u001b[0m \u001b[0mcreate_block_manager_from_blocks\u001b[0m\u001b[0;34m(\u001b[0m\u001b[0;34m[\u001b[0m\u001b[0mvalues\u001b[0m\u001b[0;34m]\u001b[0m\u001b[0;34m,\u001b[0m \u001b[0;34m[\u001b[0m\u001b[0mcolumns\u001b[0m\u001b[0;34m,\u001b[0m \u001b[0mindex\u001b[0m\u001b[0;34m]\u001b[0m\u001b[0;34m)\u001b[0m\u001b[0;34m\u001b[0m\u001b[0m\n\u001b[0m\u001b[1;32m    534\u001b[0m \u001b[0;34m\u001b[0m\u001b[0m\n\u001b[1;32m    535\u001b[0m     \u001b[0;34m@\u001b[0m\u001b[0mproperty\u001b[0m\u001b[0;34m\u001b[0m\u001b[0m\n",
      "\u001b[0;32m~/anaconda3/lib/python3.6/site-packages/pandas/core/internals.py\u001b[0m in \u001b[0;36mcreate_block_manager_from_blocks\u001b[0;34m(blocks, axes)\u001b[0m\n\u001b[1;32m   4624\u001b[0m         \u001b[0mblocks\u001b[0m \u001b[0;34m=\u001b[0m \u001b[0;34m[\u001b[0m\u001b[0mgetattr\u001b[0m\u001b[0;34m(\u001b[0m\u001b[0mb\u001b[0m\u001b[0;34m,\u001b[0m \u001b[0;34m'values'\u001b[0m\u001b[0;34m,\u001b[0m \u001b[0mb\u001b[0m\u001b[0;34m)\u001b[0m \u001b[0;32mfor\u001b[0m \u001b[0mb\u001b[0m \u001b[0;32min\u001b[0m \u001b[0mblocks\u001b[0m\u001b[0;34m]\u001b[0m\u001b[0;34m\u001b[0m\u001b[0m\n\u001b[1;32m   4625\u001b[0m         \u001b[0mtot_items\u001b[0m \u001b[0;34m=\u001b[0m \u001b[0msum\u001b[0m\u001b[0;34m(\u001b[0m\u001b[0mb\u001b[0m\u001b[0;34m.\u001b[0m\u001b[0mshape\u001b[0m\u001b[0;34m[\u001b[0m\u001b[0;36m0\u001b[0m\u001b[0;34m]\u001b[0m \u001b[0;32mfor\u001b[0m \u001b[0mb\u001b[0m \u001b[0;32min\u001b[0m \u001b[0mblocks\u001b[0m\u001b[0;34m)\u001b[0m\u001b[0;34m\u001b[0m\u001b[0m\n\u001b[0;32m-> 4626\u001b[0;31m         \u001b[0mconstruction_error\u001b[0m\u001b[0;34m(\u001b[0m\u001b[0mtot_items\u001b[0m\u001b[0;34m,\u001b[0m \u001b[0mblocks\u001b[0m\u001b[0;34m[\u001b[0m\u001b[0;36m0\u001b[0m\u001b[0;34m]\u001b[0m\u001b[0;34m.\u001b[0m\u001b[0mshape\u001b[0m\u001b[0;34m[\u001b[0m\u001b[0;36m1\u001b[0m\u001b[0;34m:\u001b[0m\u001b[0;34m]\u001b[0m\u001b[0;34m,\u001b[0m \u001b[0maxes\u001b[0m\u001b[0;34m,\u001b[0m \u001b[0me\u001b[0m\u001b[0;34m)\u001b[0m\u001b[0;34m\u001b[0m\u001b[0m\n\u001b[0m\u001b[1;32m   4627\u001b[0m \u001b[0;34m\u001b[0m\u001b[0m\n\u001b[1;32m   4628\u001b[0m \u001b[0;34m\u001b[0m\u001b[0m\n",
      "\u001b[0;32m~/anaconda3/lib/python3.6/site-packages/pandas/core/internals.py\u001b[0m in \u001b[0;36mconstruction_error\u001b[0;34m(tot_items, block_shape, axes, e)\u001b[0m\n\u001b[1;32m   4601\u001b[0m         \u001b[0;32mraise\u001b[0m \u001b[0mValueError\u001b[0m\u001b[0;34m(\u001b[0m\u001b[0;34m\"Empty data passed with indices specified.\"\u001b[0m\u001b[0;34m)\u001b[0m\u001b[0;34m\u001b[0m\u001b[0m\n\u001b[1;32m   4602\u001b[0m     raise ValueError(\"Shape of passed values is {0}, indices imply {1}\".format(\n\u001b[0;32m-> 4603\u001b[0;31m         passed, implied))\n\u001b[0m\u001b[1;32m   4604\u001b[0m \u001b[0;34m\u001b[0m\u001b[0m\n\u001b[1;32m   4605\u001b[0m \u001b[0;34m\u001b[0m\u001b[0m\n",
      "\u001b[0;31mValueError\u001b[0m: Shape of passed values is (6, 66), indices imply (1, 66)"
     ]
    }
   ],
   "source": [
    "df_out = pd.DataFrame(out.data, columns=labels)"
   ]
  },
  {
   "cell_type": "code",
   "execution_count": 80,
   "metadata": {},
   "outputs": [
    {
     "ename": "NameError",
     "evalue": "name 'df_out' is not defined",
     "output_type": "error",
     "traceback": [
      "\u001b[0;31m---------------------------------------------------------------------------\u001b[0m",
      "\u001b[0;31mNameError\u001b[0m                                 Traceback (most recent call last)",
      "\u001b[0;32m<ipython-input-80-06cc2bc742eb>\u001b[0m in \u001b[0;36m<module>\u001b[0;34m()\u001b[0m\n\u001b[1;32m      1\u001b[0m \u001b[0;32mimport\u001b[0m \u001b[0mmatplotlib\u001b[0m\u001b[0;34m.\u001b[0m\u001b[0mpyplot\u001b[0m \u001b[0;32mas\u001b[0m \u001b[0mplt\u001b[0m\u001b[0;34m\u001b[0m\u001b[0m\n\u001b[1;32m      2\u001b[0m \u001b[0mplt\u001b[0m\u001b[0;34m.\u001b[0m\u001b[0mstyle\u001b[0m\u001b[0;34m.\u001b[0m\u001b[0muse\u001b[0m\u001b[0;34m(\u001b[0m\u001b[0;34m'ggplot'\u001b[0m\u001b[0;34m)\u001b[0m\u001b[0;34m\u001b[0m\u001b[0m\n\u001b[0;32m----> 3\u001b[0;31m \u001b[0mdf_out\u001b[0m\u001b[0;34m.\u001b[0m\u001b[0mix\u001b[0m\u001b[0;34m[\u001b[0m\u001b[0;36m0\u001b[0m\u001b[0;34m]\u001b[0m\u001b[0;34m.\u001b[0m\u001b[0mplot\u001b[0m\u001b[0;34m.\u001b[0m\u001b[0mbar\u001b[0m\u001b[0;34m(\u001b[0m\u001b[0;34m)\u001b[0m\u001b[0;34m\u001b[0m\u001b[0m\n\u001b[0m",
      "\u001b[0;31mNameError\u001b[0m: name 'df_out' is not defined"
     ]
    }
   ],
   "source": [
    "import matplotlib.pyplot as plt\n",
    "plt.style.use('ggplot')\n",
    "df_out.ix[0].plot.bar()"
   ]
  },
  {
   "cell_type": "code",
   "execution_count": 5,
   "metadata": {
    "collapsed": true
   },
   "outputs": [],
   "source": [
    "def undersampling_df(data_frame, sampling_size=None):\n",
    "    df = data_frame\n",
    "    labels = set(df['label'])\n",
    "\n",
    "    sampling_size =\\\n",
    "        sampling_size if sampling_size else\\\n",
    "        min(df['label'].value_counts())\n",
    "    sampling_idx = np.array([\n",
    "        choice(df[df.label == label].index, sampling_size, replace=False) for label in labels\n",
    "    ]).flatten()\n",
    "    sampling_data = df.loc[sampling_idx].reset_index()\n",
    "    return sampling_data"
   ]
  },
  {
   "cell_type": "code",
   "execution_count": 6,
   "metadata": {
    "collapsed": true
   },
   "outputs": [],
   "source": [
    "df = undersampling_df(birds.df_train)"
   ]
  },
  {
   "cell_type": "code",
   "execution_count": 7,
   "metadata": {},
   "outputs": [
    {
     "data": {
      "text/plain": [
       "yellow_finch     105\n",
       "white_parrot     105\n",
       "yellow_parrot    105\n",
       "white_finch      105\n",
       "red_parrot       105\n",
       "red_finch        105\n",
       "Name: label, dtype: int64"
      ]
     },
     "execution_count": 7,
     "metadata": {},
     "output_type": "execute_result"
    }
   ],
   "source": [
    "df.label.value_counts()"
   ]
  },
  {
   "cell_type": "code",
   "execution_count": 8,
   "metadata": {
    "collapsed": true
   },
   "outputs": [],
   "source": [
    "def oversampling_df(data_frame, sampling_size=None):\n",
    "    df = data_frame\n",
    "    labels = set(df['label'])\n",
    "\n",
    "    sampling_size =\\\n",
    "        sampling_size if sampling_size else\\\n",
    "        max(df['label'].value_counts())\n",
    "\n",
    "    def sampling_idx_each_label(label):\n",
    "        idx = df[df.label == label].index\n",
    "        return \\\n",
    "            choice(idx, sampling_size, replace=False) if sampling_size < len(idx) else\\\n",
    "            np.concatenate([idx, choice(idx, sampling_size - len(idx))])\n",
    "\n",
    "    sampling_idx =\\\n",
    "        np.array([sampling_idx_each_label(label)\n",
    "                  for label in labels]).flatten()\n",
    "    sampling_data = df.loc[sampling_idx].reset_index()\n",
    "    return sampling_data"
   ]
  },
  {
   "cell_type": "code",
   "execution_count": 9,
   "metadata": {
    "collapsed": true
   },
   "outputs": [],
   "source": [
    "df = oversampling_df(birds.df_train)"
   ]
  },
  {
   "cell_type": "code",
   "execution_count": 10,
   "metadata": {},
   "outputs": [
    {
     "data": {
      "text/plain": [
       "yellow_parrot    183\n",
       "white_finch      183\n",
       "red_parrot       183\n",
       "red_finch        183\n",
       "yellow_finch     183\n",
       "white_parrot     183\n",
       "Name: label, dtype: int64"
      ]
     },
     "execution_count": 10,
     "metadata": {},
     "output_type": "execute_result"
    }
   ],
   "source": [
    "df.label.value_counts()"
   ]
  },
  {
   "cell_type": "code",
   "execution_count": 12,
   "metadata": {},
   "outputs": [
    {
     "data": {
      "text/plain": [
       "(array([[[[ 148.,  130.,   64.],\n",
       "          [ 145.,  130.,   64.],\n",
       "          [ 143.,  132.,   64.],\n",
       "          ..., \n",
       "          [ 126.,  128.,   69.],\n",
       "          [ 126.,  127.,   70.],\n",
       "          [ 126.,  127.,   70.]],\n",
       " \n",
       "         [[ 142.,  131.,   63.],\n",
       "          [ 140.,  131.,   65.],\n",
       "          [ 138.,  131.,   66.],\n",
       "          ..., \n",
       "          [ 123.,  131.,   68.],\n",
       "          [ 124.,  130.,   69.],\n",
       "          [ 123.,  129.,   69.]],\n",
       " \n",
       "         [[ 136.,  130.,   63.],\n",
       "          [ 135.,  131.,   65.],\n",
       "          [ 134.,  132.,   67.],\n",
       "          ..., \n",
       "          [ 122.,  133.,   67.],\n",
       "          [ 122.,  132.,   66.],\n",
       "          [ 121.,  131.,   67.]],\n",
       " \n",
       "         ..., \n",
       "         [[  40.,   40.,   48.],\n",
       "          [  44.,   43.,   52.],\n",
       "          [  45.,   44.,   52.],\n",
       "          ..., \n",
       "          [  78.,   76.,   77.],\n",
       "          [  59.,   58.,   59.],\n",
       "          [  61.,   61.,   67.]],\n",
       " \n",
       "         [[  66.,   63.,   66.],\n",
       "          [  51.,   50.,   58.],\n",
       "          [  50.,   49.,   60.],\n",
       "          ..., \n",
       "          [  87.,   87.,   90.],\n",
       "          [  65.,   66.,   73.],\n",
       "          [  82.,   82.,   85.]],\n",
       " \n",
       "         [[  78.,   73.,   71.],\n",
       "          [  70.,   66.,   68.],\n",
       "          [  62.,   59.,   63.],\n",
       "          ..., \n",
       "          [  32.,   33.,   42.],\n",
       "          [  45.,   44.,   51.],\n",
       "          [  53.,   50.,   47.]]],\n",
       " \n",
       " \n",
       "        [[[  37.,  150.,    9.],\n",
       "          [  40.,  148.,   33.],\n",
       "          [  54.,  165.,   83.],\n",
       "          ..., \n",
       "          [  72.,  173.,   84.],\n",
       "          [  62.,  161.,   75.],\n",
       "          [  64.,  157.,   72.]],\n",
       " \n",
       "         [[  38.,  139.,   16.],\n",
       "          [  58.,  154.,   67.],\n",
       "          [  66.,  160.,   71.],\n",
       "          ..., \n",
       "          [  87.,  158.,   77.],\n",
       "          [  74.,  167.,   70.],\n",
       "          [  78.,  180.,   78.]],\n",
       " \n",
       "         [[  59.,  168.,   53.],\n",
       "          [  73.,  172.,   71.],\n",
       "          [  61.,  148.,   44.],\n",
       "          ..., \n",
       "          [  92.,  174.,   82.],\n",
       "          [  89.,  191.,   89.],\n",
       "          [  85.,  173.,   79.]],\n",
       " \n",
       "         ..., \n",
       "         [[  86.,   72.,   71.],\n",
       "          [  97.,   77.,   73.],\n",
       "          [  99.,   77.,   70.],\n",
       "          ..., \n",
       "          [  76.,  120.,   66.],\n",
       "          [  67.,   57.,   41.],\n",
       "          [  79.,   44.,   40.]],\n",
       " \n",
       "         [[ 100.,   73.,   68.],\n",
       "          [ 108.,   77.,   69.],\n",
       "          [ 109.,   82.,   74.],\n",
       "          ..., \n",
       "          [ 118.,  146.,  106.],\n",
       "          [ 150.,  131.,  118.],\n",
       "          [ 170.,  104.,  109.]],\n",
       " \n",
       "         [[ 123.,   85.,   76.],\n",
       "          [ 106.,   68.,   56.],\n",
       "          [ 109.,   73.,   60.],\n",
       "          ..., \n",
       "          [ 178.,  136.,  124.],\n",
       "          [ 183.,  144.,  133.],\n",
       "          [ 171.,  140.,  131.]]],\n",
       " \n",
       " \n",
       "        [[[  82.,  189.,   90.],\n",
       "          [  82.,  189.,   90.],\n",
       "          [  99.,  173.,  107.],\n",
       "          ..., \n",
       "          [  99.,  173.,  107.],\n",
       "          [  82.,  189.,   90.],\n",
       "          [  82.,  189.,   90.]],\n",
       " \n",
       "         [[  82.,  189.,   90.],\n",
       "          [  99.,  173.,  107.],\n",
       "          [  82.,  189.,   90.],\n",
       "          ..., \n",
       "          [  82.,  189.,   90.],\n",
       "          [  99.,  189.,  107.],\n",
       "          [  82.,  189.,   90.]],\n",
       " \n",
       "         [[  82.,  165.,   90.],\n",
       "          [  82.,  189.,   90.],\n",
       "          [  99.,  189.,  107.],\n",
       "          ..., \n",
       "          [  82.,  189.,   90.],\n",
       "          [  82.,  189.,   90.],\n",
       "          [  99.,  173.,  107.]],\n",
       " \n",
       "         ..., \n",
       "         [[  82.,  189.,   90.],\n",
       "          [  99.,  189.,  107.],\n",
       "          [  99.,  173.,  107.],\n",
       "          ..., \n",
       "          [  82.,  189.,   90.],\n",
       "          [  82.,  189.,   90.],\n",
       "          [  99.,  189.,  107.]],\n",
       " \n",
       "         [[  82.,  165.,   90.],\n",
       "          [  82.,  189.,   90.],\n",
       "          [  99.,  189.,  107.],\n",
       "          ..., \n",
       "          [  82.,  189.,   90.],\n",
       "          [  99.,  173.,  107.],\n",
       "          [  99.,  189.,  107.]],\n",
       " \n",
       "         [[  82.,  189.,   90.],\n",
       "          [  82.,  189.,   90.],\n",
       "          [  82.,  189.,   90.],\n",
       "          ..., \n",
       "          [  99.,  189.,  107.],\n",
       "          [  99.,  189.,  107.],\n",
       "          [  82.,  189.,   90.]]],\n",
       " \n",
       " \n",
       "        ..., \n",
       "        [[[  40.,   43.,   21.],\n",
       "          [  44.,   37.,   24.],\n",
       "          [  27.,   20.,   14.],\n",
       "          ..., \n",
       "          [ 149.,  158.,   54.],\n",
       "          [ 139.,  153.,   43.],\n",
       "          [ 134.,  150.,   42.]],\n",
       " \n",
       "         [[  44.,   42.,   24.],\n",
       "          [  35.,   24.,   16.],\n",
       "          [  24.,   18.,   10.],\n",
       "          ..., \n",
       "          [ 166.,  175.,   48.],\n",
       "          [ 153.,  166.,   39.],\n",
       "          [ 151.,  166.,   49.]],\n",
       " \n",
       "         [[  44.,   33.,   22.],\n",
       "          [  27.,   19.,   12.],\n",
       "          [  35.,   28.,   16.],\n",
       "          ..., \n",
       "          [ 177.,  188.,   37.],\n",
       "          [ 182.,  193.,   47.],\n",
       "          [ 174.,  185.,   58.]],\n",
       " \n",
       "         ..., \n",
       "         [[  23.,   27.,   15.],\n",
       "          [  25.,   29.,   18.],\n",
       "          [  26.,   30.,   19.],\n",
       "          ..., \n",
       "          [ 160.,  153.,  140.],\n",
       "          [ 174.,  168.,  162.],\n",
       "          [ 211.,  205.,  206.]],\n",
       " \n",
       "         [[  24.,   28.,   14.],\n",
       "          [  45.,   53.,   20.],\n",
       "          [  58.,   67.,   25.],\n",
       "          ..., \n",
       "          [ 153.,  145.,  126.],\n",
       "          [ 157.,  149.,  135.],\n",
       "          [ 169.,  163.,  157.]],\n",
       " \n",
       "         [[  51.,   63.,   19.],\n",
       "          [  72.,   87.,   23.],\n",
       "          [  87.,  100.,   30.],\n",
       "          ..., \n",
       "          [ 165.,  153.,  143.],\n",
       "          [ 167.,  157.,  146.],\n",
       "          [ 161.,  154.,  145.]]],\n",
       " \n",
       " \n",
       "        [[[ 250.,  249.,  253.],\n",
       "          [ 250.,  249.,  253.],\n",
       "          [ 249.,  248.,  253.],\n",
       "          ..., \n",
       "          [ 250.,  249.,  253.],\n",
       "          [ 250.,  249.,  253.],\n",
       "          [ 249.,  248.,  253.]],\n",
       " \n",
       "         [[ 250.,  249.,  253.],\n",
       "          [ 250.,  249.,  254.],\n",
       "          [ 250.,  249.,  254.],\n",
       "          ..., \n",
       "          [ 250.,  249.,  254.],\n",
       "          [ 250.,  249.,  254.],\n",
       "          [ 250.,  249.,  254.]],\n",
       " \n",
       "         [[ 250.,  249.,  254.],\n",
       "          [ 250.,  249.,  254.],\n",
       "          [ 250.,  249.,  253.],\n",
       "          ..., \n",
       "          [ 250.,  249.,  254.],\n",
       "          [ 250.,  249.,  253.],\n",
       "          [ 250.,  249.,  253.]],\n",
       " \n",
       "         ..., \n",
       "         [[ 168.,  187.,  106.],\n",
       "          [ 164.,  188.,   88.],\n",
       "          [ 184.,  196.,  155.],\n",
       "          ..., \n",
       "          [ 185.,  192.,  164.],\n",
       "          [ 193.,  202.,  173.],\n",
       "          [ 199.,  209.,  178.]],\n",
       " \n",
       "         [[ 211.,  232.,  156.],\n",
       "          [ 192.,  218.,  119.],\n",
       "          [ 221.,  219.,  225.],\n",
       "          ..., \n",
       "          [ 255.,  255.,  255.],\n",
       "          [ 255.,  255.,  255.],\n",
       "          [ 255.,  255.,  255.]],\n",
       " \n",
       "         [[ 225.,  236.,  193.],\n",
       "          [ 212.,  228.,  167.],\n",
       "          [ 235.,  235.,  236.],\n",
       "          ..., \n",
       "          [ 237.,  238.,  236.],\n",
       "          [ 236.,  237.,  236.],\n",
       "          [ 245.,  245.,  244.]]],\n",
       " \n",
       " \n",
       "        [[[   0.,    0.,    0.],\n",
       "          [   0.,    0.,    0.],\n",
       "          [   0.,    0.,    0.],\n",
       "          ..., \n",
       "          [   0.,    0.,    0.],\n",
       "          [   0.,    0.,    0.],\n",
       "          [   0.,    0.,    0.]],\n",
       " \n",
       "         [[   0.,    0.,    0.],\n",
       "          [   0.,    0.,    0.],\n",
       "          [   0.,    0.,    0.],\n",
       "          ..., \n",
       "          [   0.,    0.,    0.],\n",
       "          [   0.,    0.,    0.],\n",
       "          [   0.,    0.,    0.]],\n",
       " \n",
       "         [[   0.,    0.,    0.],\n",
       "          [   0.,    0.,    0.],\n",
       "          [   0.,    0.,    0.],\n",
       "          ..., \n",
       "          [   0.,    0.,    0.],\n",
       "          [   0.,    0.,    0.],\n",
       "          [   0.,    0.,    0.]],\n",
       " \n",
       "         ..., \n",
       "         [[   0.,    0.,    0.],\n",
       "          [   0.,    0.,    0.],\n",
       "          [   0.,    0.,    0.],\n",
       "          ..., \n",
       "          [   0.,    0.,    0.],\n",
       "          [   0.,    0.,    0.],\n",
       "          [   0.,    0.,    0.]],\n",
       " \n",
       "         [[   0.,    0.,    0.],\n",
       "          [   0.,    0.,    0.],\n",
       "          [   0.,    0.,    0.],\n",
       "          ..., \n",
       "          [   4.,    4.,    4.],\n",
       "          [   2.,    2.,    2.],\n",
       "          [   2.,    2.,    2.]],\n",
       " \n",
       "         [[   0.,    0.,    0.],\n",
       "          [   0.,    0.,    0.],\n",
       "          [   0.,    0.,    0.],\n",
       "          ..., \n",
       "          [  19.,   19.,   19.],\n",
       "          [  24.,   24.,   24.],\n",
       "          [  16.,   16.,   16.]]]]),\n",
       " array([0, 0, 0, 0, 0, 0, 0, 0, 0, 0, 0, 1, 1, 1, 1, 1, 1, 1, 1, 1, 1, 1, 2,\n",
       "        2, 2, 2, 2, 2, 2, 2, 2, 2, 2, 4, 4, 4, 4, 4, 4, 4, 4, 4, 4, 4, 5, 5,\n",
       "        5, 5, 5, 5, 5, 5, 5, 5, 5, 3, 3, 3, 3, 3, 3, 3, 3, 3, 3, 3]))"
      ]
     },
     "execution_count": 12,
     "metadata": {},
     "output_type": "execute_result"
    }
   ],
   "source": [
    "load_data.load_fromdf(birds.df_val)"
   ]
  },
  {
   "cell_type": "code",
   "execution_count": 15,
   "metadata": {},
   "outputs": [
    {
     "data": {
      "text/plain": [
       "{0: 'red_finch',\n",
       " 1: 'red_parrot',\n",
       " 2: 'white_finch',\n",
       " 3: 'white_parrot',\n",
       " 4: 'yellow_finch',\n",
       " 5: 'yellow_parrot'}"
      ]
     },
     "execution_count": 15,
     "metadata": {},
     "output_type": "execute_result"
    }
   ],
   "source": [
    "birds.i2l"
   ]
  },
  {
   "cell_type": "code",
   "execution_count": 39,
   "metadata": {},
   "outputs": [
    {
     "data": {
      "text/plain": [
       "{'red_finch',\n",
       " 'red_parrot',\n",
       " 'white_finch',\n",
       " 'white_parrot',\n",
       " 'yellow_finch',\n",
       " 'yellow_parrot'}"
      ]
     },
     "execution_count": 39,
     "metadata": {},
     "output_type": "execute_result"
    }
   ],
   "source": [
    "set(labels)"
   ]
  }
 ],
 "metadata": {
  "kernelspec": {
   "display_name": "Python 3",
   "language": "python",
   "name": "python3"
  },
  "language_info": {
   "codemirror_mode": {
    "name": "ipython",
    "version": 3
   },
   "file_extension": ".py",
   "mimetype": "text/x-python",
   "name": "python",
   "nbconvert_exporter": "python",
   "pygments_lexer": "ipython3",
   "version": "3.6.3"
  }
 },
 "nbformat": 4,
 "nbformat_minor": 2
}
