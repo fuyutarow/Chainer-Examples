{
 "cells": [
  {
   "cell_type": "code",
   "execution_count": 1,
   "metadata": {},
   "outputs": [
    {
     "name": "stderr",
     "output_type": "stream",
     "text": [
      "/home/fytroo/anaconda3/lib/python3.6/importlib/_bootstrap.py:219: RuntimeWarning: compiletime version 3.5 of module 'tensorflow.python.framework.fast_tensor_util' does not match runtime version 3.6\n",
      "  return f(*args, **kwds)\n",
      "Using TensorFlow backend.\n"
     ]
    }
   ],
   "source": [
    "import numpy as np \n",
    "from numpy.random import choice\n",
    "from tuner.dataset import ClassificationDataset\n",
    "from tuner import load_data"
   ]
  },
  {
   "cell_type": "code",
   "execution_count": 2,
   "metadata": {},
   "outputs": [
    {
     "name": "stdout",
     "output_type": "stream",
     "text": [
      "birds-dataset  birds-dataset.zip  flower_images  flower_images.zip\r\n"
     ]
    }
   ],
   "source": [
    "!ls datasets"
   ]
  },
  {
   "cell_type": "code",
   "execution_count": 3,
   "metadata": {
    "collapsed": true
   },
   "outputs": [],
   "source": [
    "birds = ClassificationDataset('datasets/birds-dataset')"
   ]
  },
  {
   "cell_type": "code",
   "execution_count": 4,
   "metadata": {},
   "outputs": [
    {
     "data": {
      "text/plain": [
       "{'red_finch': 183,\n",
       " 'red_parrot': 128,\n",
       " 'white_finch': 141,\n",
       " 'white_parrot': 105,\n",
       " 'yellow_finch': 169,\n",
       " 'yellow_parrot': 113}"
      ]
     },
     "execution_count": 4,
     "metadata": {},
     "output_type": "execute_result"
    }
   ],
   "source": [
    "birds.counts_train_data()"
   ]
  },
  {
   "cell_type": "code",
   "execution_count": 5,
   "metadata": {
    "collapsed": true
   },
   "outputs": [],
   "source": [
    "def undersampling_df(data_frame, sampling_size=None):\n",
    "    df = data_frame\n",
    "    labels = set(df['label'])\n",
    "\n",
    "    sampling_size =\\\n",
    "        sampling_size if sampling_size else\\\n",
    "        min(df['label'].value_counts())\n",
    "    sampling_idx = np.array([\n",
    "        choice(df[df.label == label].index, sampling_size, replace=False) for label in labels\n",
    "    ]).flatten()\n",
    "    sampling_data = df.loc[sampling_idx].reset_index()\n",
    "    return sampling_data"
   ]
  },
  {
   "cell_type": "code",
   "execution_count": 6,
   "metadata": {},
   "outputs": [],
   "source": [
    "df = undersampling_df(birds.df_train)"
   ]
  },
  {
   "cell_type": "code",
   "execution_count": 7,
   "metadata": {},
   "outputs": [
    {
     "data": {
      "text/plain": [
       "yellow_finch     105\n",
       "white_parrot     105\n",
       "yellow_parrot    105\n",
       "white_finch      105\n",
       "red_parrot       105\n",
       "red_finch        105\n",
       "Name: label, dtype: int64"
      ]
     },
     "execution_count": 7,
     "metadata": {},
     "output_type": "execute_result"
    }
   ],
   "source": [
    "df.label.value_counts()"
   ]
  },
  {
   "cell_type": "code",
   "execution_count": 8,
   "metadata": {
    "collapsed": true
   },
   "outputs": [],
   "source": [
    "def oversampling_df(data_frame, sampling_size=None):\n",
    "    df = data_frame\n",
    "    labels = set(df['label'])\n",
    "\n",
    "    sampling_size =\\\n",
    "        sampling_size if sampling_size else\\\n",
    "        max(df['label'].value_counts())\n",
    "\n",
    "    def sampling_idx_each_label(label):\n",
    "        idx = df[df.label == label].index\n",
    "        return \\\n",
    "            choice(idx, sampling_size, replace=False) if sampling_size < len(idx) else\\\n",
    "            np.concatenate([idx, choice(idx, sampling_size - len(idx))])\n",
    "\n",
    "    sampling_idx =\\\n",
    "        np.array([sampling_idx_each_label(label)\n",
    "                  for label in labels]).flatten()\n",
    "    sampling_data = df.loc[sampling_idx].reset_index()\n",
    "    return sampling_data"
   ]
  },
  {
   "cell_type": "code",
   "execution_count": 9,
   "metadata": {
    "collapsed": true
   },
   "outputs": [],
   "source": [
    "df = oversampling_df(birds.df_train)"
   ]
  },
  {
   "cell_type": "code",
   "execution_count": 10,
   "metadata": {},
   "outputs": [
    {
     "data": {
      "text/plain": [
       "yellow_parrot    183\n",
       "white_finch      183\n",
       "red_parrot       183\n",
       "red_finch        183\n",
       "yellow_finch     183\n",
       "white_parrot     183\n",
       "Name: label, dtype: int64"
      ]
     },
     "execution_count": 10,
     "metadata": {},
     "output_type": "execute_result"
    }
   ],
   "source": [
    "df.label.value_counts()"
   ]
  },
  {
   "cell_type": "code",
   "execution_count": 12,
   "metadata": {},
   "outputs": [
    {
     "data": {
      "text/plain": [
       "(array([[[[ 148.,  130.,   64.],\n",
       "          [ 145.,  130.,   64.],\n",
       "          [ 143.,  132.,   64.],\n",
       "          ..., \n",
       "          [ 126.,  128.,   69.],\n",
       "          [ 126.,  127.,   70.],\n",
       "          [ 126.,  127.,   70.]],\n",
       " \n",
       "         [[ 142.,  131.,   63.],\n",
       "          [ 140.,  131.,   65.],\n",
       "          [ 138.,  131.,   66.],\n",
       "          ..., \n",
       "          [ 123.,  131.,   68.],\n",
       "          [ 124.,  130.,   69.],\n",
       "          [ 123.,  129.,   69.]],\n",
       " \n",
       "         [[ 136.,  130.,   63.],\n",
       "          [ 135.,  131.,   65.],\n",
       "          [ 134.,  132.,   67.],\n",
       "          ..., \n",
       "          [ 122.,  133.,   67.],\n",
       "          [ 122.,  132.,   66.],\n",
       "          [ 121.,  131.,   67.]],\n",
       " \n",
       "         ..., \n",
       "         [[  40.,   40.,   48.],\n",
       "          [  44.,   43.,   52.],\n",
       "          [  45.,   44.,   52.],\n",
       "          ..., \n",
       "          [  78.,   76.,   77.],\n",
       "          [  59.,   58.,   59.],\n",
       "          [  61.,   61.,   67.]],\n",
       " \n",
       "         [[  66.,   63.,   66.],\n",
       "          [  51.,   50.,   58.],\n",
       "          [  50.,   49.,   60.],\n",
       "          ..., \n",
       "          [  87.,   87.,   90.],\n",
       "          [  65.,   66.,   73.],\n",
       "          [  82.,   82.,   85.]],\n",
       " \n",
       "         [[  78.,   73.,   71.],\n",
       "          [  70.,   66.,   68.],\n",
       "          [  62.,   59.,   63.],\n",
       "          ..., \n",
       "          [  32.,   33.,   42.],\n",
       "          [  45.,   44.,   51.],\n",
       "          [  53.,   50.,   47.]]],\n",
       " \n",
       " \n",
       "        [[[  37.,  150.,    9.],\n",
       "          [  40.,  148.,   33.],\n",
       "          [  54.,  165.,   83.],\n",
       "          ..., \n",
       "          [  72.,  173.,   84.],\n",
       "          [  62.,  161.,   75.],\n",
       "          [  64.,  157.,   72.]],\n",
       " \n",
       "         [[  38.,  139.,   16.],\n",
       "          [  58.,  154.,   67.],\n",
       "          [  66.,  160.,   71.],\n",
       "          ..., \n",
       "          [  87.,  158.,   77.],\n",
       "          [  74.,  167.,   70.],\n",
       "          [  78.,  180.,   78.]],\n",
       " \n",
       "         [[  59.,  168.,   53.],\n",
       "          [  73.,  172.,   71.],\n",
       "          [  61.,  148.,   44.],\n",
       "          ..., \n",
       "          [  92.,  174.,   82.],\n",
       "          [  89.,  191.,   89.],\n",
       "          [  85.,  173.,   79.]],\n",
       " \n",
       "         ..., \n",
       "         [[  86.,   72.,   71.],\n",
       "          [  97.,   77.,   73.],\n",
       "          [  99.,   77.,   70.],\n",
       "          ..., \n",
       "          [  76.,  120.,   66.],\n",
       "          [  67.,   57.,   41.],\n",
       "          [  79.,   44.,   40.]],\n",
       " \n",
       "         [[ 100.,   73.,   68.],\n",
       "          [ 108.,   77.,   69.],\n",
       "          [ 109.,   82.,   74.],\n",
       "          ..., \n",
       "          [ 118.,  146.,  106.],\n",
       "          [ 150.,  131.,  118.],\n",
       "          [ 170.,  104.,  109.]],\n",
       " \n",
       "         [[ 123.,   85.,   76.],\n",
       "          [ 106.,   68.,   56.],\n",
       "          [ 109.,   73.,   60.],\n",
       "          ..., \n",
       "          [ 178.,  136.,  124.],\n",
       "          [ 183.,  144.,  133.],\n",
       "          [ 171.,  140.,  131.]]],\n",
       " \n",
       " \n",
       "        [[[  82.,  189.,   90.],\n",
       "          [  82.,  189.,   90.],\n",
       "          [  99.,  173.,  107.],\n",
       "          ..., \n",
       "          [  99.,  173.,  107.],\n",
       "          [  82.,  189.,   90.],\n",
       "          [  82.,  189.,   90.]],\n",
       " \n",
       "         [[  82.,  189.,   90.],\n",
       "          [  99.,  173.,  107.],\n",
       "          [  82.,  189.,   90.],\n",
       "          ..., \n",
       "          [  82.,  189.,   90.],\n",
       "          [  99.,  189.,  107.],\n",
       "          [  82.,  189.,   90.]],\n",
       " \n",
       "         [[  82.,  165.,   90.],\n",
       "          [  82.,  189.,   90.],\n",
       "          [  99.,  189.,  107.],\n",
       "          ..., \n",
       "          [  82.,  189.,   90.],\n",
       "          [  82.,  189.,   90.],\n",
       "          [  99.,  173.,  107.]],\n",
       " \n",
       "         ..., \n",
       "         [[  82.,  189.,   90.],\n",
       "          [  99.,  189.,  107.],\n",
       "          [  99.,  173.,  107.],\n",
       "          ..., \n",
       "          [  82.,  189.,   90.],\n",
       "          [  82.,  189.,   90.],\n",
       "          [  99.,  189.,  107.]],\n",
       " \n",
       "         [[  82.,  165.,   90.],\n",
       "          [  82.,  189.,   90.],\n",
       "          [  99.,  189.,  107.],\n",
       "          ..., \n",
       "          [  82.,  189.,   90.],\n",
       "          [  99.,  173.,  107.],\n",
       "          [  99.,  189.,  107.]],\n",
       " \n",
       "         [[  82.,  189.,   90.],\n",
       "          [  82.,  189.,   90.],\n",
       "          [  82.,  189.,   90.],\n",
       "          ..., \n",
       "          [  99.,  189.,  107.],\n",
       "          [  99.,  189.,  107.],\n",
       "          [  82.,  189.,   90.]]],\n",
       " \n",
       " \n",
       "        ..., \n",
       "        [[[  40.,   43.,   21.],\n",
       "          [  44.,   37.,   24.],\n",
       "          [  27.,   20.,   14.],\n",
       "          ..., \n",
       "          [ 149.,  158.,   54.],\n",
       "          [ 139.,  153.,   43.],\n",
       "          [ 134.,  150.,   42.]],\n",
       " \n",
       "         [[  44.,   42.,   24.],\n",
       "          [  35.,   24.,   16.],\n",
       "          [  24.,   18.,   10.],\n",
       "          ..., \n",
       "          [ 166.,  175.,   48.],\n",
       "          [ 153.,  166.,   39.],\n",
       "          [ 151.,  166.,   49.]],\n",
       " \n",
       "         [[  44.,   33.,   22.],\n",
       "          [  27.,   19.,   12.],\n",
       "          [  35.,   28.,   16.],\n",
       "          ..., \n",
       "          [ 177.,  188.,   37.],\n",
       "          [ 182.,  193.,   47.],\n",
       "          [ 174.,  185.,   58.]],\n",
       " \n",
       "         ..., \n",
       "         [[  23.,   27.,   15.],\n",
       "          [  25.,   29.,   18.],\n",
       "          [  26.,   30.,   19.],\n",
       "          ..., \n",
       "          [ 160.,  153.,  140.],\n",
       "          [ 174.,  168.,  162.],\n",
       "          [ 211.,  205.,  206.]],\n",
       " \n",
       "         [[  24.,   28.,   14.],\n",
       "          [  45.,   53.,   20.],\n",
       "          [  58.,   67.,   25.],\n",
       "          ..., \n",
       "          [ 153.,  145.,  126.],\n",
       "          [ 157.,  149.,  135.],\n",
       "          [ 169.,  163.,  157.]],\n",
       " \n",
       "         [[  51.,   63.,   19.],\n",
       "          [  72.,   87.,   23.],\n",
       "          [  87.,  100.,   30.],\n",
       "          ..., \n",
       "          [ 165.,  153.,  143.],\n",
       "          [ 167.,  157.,  146.],\n",
       "          [ 161.,  154.,  145.]]],\n",
       " \n",
       " \n",
       "        [[[ 250.,  249.,  253.],\n",
       "          [ 250.,  249.,  253.],\n",
       "          [ 249.,  248.,  253.],\n",
       "          ..., \n",
       "          [ 250.,  249.,  253.],\n",
       "          [ 250.,  249.,  253.],\n",
       "          [ 249.,  248.,  253.]],\n",
       " \n",
       "         [[ 250.,  249.,  253.],\n",
       "          [ 250.,  249.,  254.],\n",
       "          [ 250.,  249.,  254.],\n",
       "          ..., \n",
       "          [ 250.,  249.,  254.],\n",
       "          [ 250.,  249.,  254.],\n",
       "          [ 250.,  249.,  254.]],\n",
       " \n",
       "         [[ 250.,  249.,  254.],\n",
       "          [ 250.,  249.,  254.],\n",
       "          [ 250.,  249.,  253.],\n",
       "          ..., \n",
       "          [ 250.,  249.,  254.],\n",
       "          [ 250.,  249.,  253.],\n",
       "          [ 250.,  249.,  253.]],\n",
       " \n",
       "         ..., \n",
       "         [[ 168.,  187.,  106.],\n",
       "          [ 164.,  188.,   88.],\n",
       "          [ 184.,  196.,  155.],\n",
       "          ..., \n",
       "          [ 185.,  192.,  164.],\n",
       "          [ 193.,  202.,  173.],\n",
       "          [ 199.,  209.,  178.]],\n",
       " \n",
       "         [[ 211.,  232.,  156.],\n",
       "          [ 192.,  218.,  119.],\n",
       "          [ 221.,  219.,  225.],\n",
       "          ..., \n",
       "          [ 255.,  255.,  255.],\n",
       "          [ 255.,  255.,  255.],\n",
       "          [ 255.,  255.,  255.]],\n",
       " \n",
       "         [[ 225.,  236.,  193.],\n",
       "          [ 212.,  228.,  167.],\n",
       "          [ 235.,  235.,  236.],\n",
       "          ..., \n",
       "          [ 237.,  238.,  236.],\n",
       "          [ 236.,  237.,  236.],\n",
       "          [ 245.,  245.,  244.]]],\n",
       " \n",
       " \n",
       "        [[[   0.,    0.,    0.],\n",
       "          [   0.,    0.,    0.],\n",
       "          [   0.,    0.,    0.],\n",
       "          ..., \n",
       "          [   0.,    0.,    0.],\n",
       "          [   0.,    0.,    0.],\n",
       "          [   0.,    0.,    0.]],\n",
       " \n",
       "         [[   0.,    0.,    0.],\n",
       "          [   0.,    0.,    0.],\n",
       "          [   0.,    0.,    0.],\n",
       "          ..., \n",
       "          [   0.,    0.,    0.],\n",
       "          [   0.,    0.,    0.],\n",
       "          [   0.,    0.,    0.]],\n",
       " \n",
       "         [[   0.,    0.,    0.],\n",
       "          [   0.,    0.,    0.],\n",
       "          [   0.,    0.,    0.],\n",
       "          ..., \n",
       "          [   0.,    0.,    0.],\n",
       "          [   0.,    0.,    0.],\n",
       "          [   0.,    0.,    0.]],\n",
       " \n",
       "         ..., \n",
       "         [[   0.,    0.,    0.],\n",
       "          [   0.,    0.,    0.],\n",
       "          [   0.,    0.,    0.],\n",
       "          ..., \n",
       "          [   0.,    0.,    0.],\n",
       "          [   0.,    0.,    0.],\n",
       "          [   0.,    0.,    0.]],\n",
       " \n",
       "         [[   0.,    0.,    0.],\n",
       "          [   0.,    0.,    0.],\n",
       "          [   0.,    0.,    0.],\n",
       "          ..., \n",
       "          [   4.,    4.,    4.],\n",
       "          [   2.,    2.,    2.],\n",
       "          [   2.,    2.,    2.]],\n",
       " \n",
       "         [[   0.,    0.,    0.],\n",
       "          [   0.,    0.,    0.],\n",
       "          [   0.,    0.,    0.],\n",
       "          ..., \n",
       "          [  19.,   19.,   19.],\n",
       "          [  24.,   24.,   24.],\n",
       "          [  16.,   16.,   16.]]]]),\n",
       " array([0, 0, 0, 0, 0, 0, 0, 0, 0, 0, 0, 1, 1, 1, 1, 1, 1, 1, 1, 1, 1, 1, 2,\n",
       "        2, 2, 2, 2, 2, 2, 2, 2, 2, 2, 4, 4, 4, 4, 4, 4, 4, 4, 4, 4, 4, 5, 5,\n",
       "        5, 5, 5, 5, 5, 5, 5, 5, 5, 3, 3, 3, 3, 3, 3, 3, 3, 3, 3, 3]))"
      ]
     },
     "execution_count": 12,
     "metadata": {},
     "output_type": "execute_result"
    }
   ],
   "source": [
    "load_data.load_fromdf(birds.df_val)"
   ]
  },
  {
   "cell_type": "code",
   "execution_count": 15,
   "metadata": {},
   "outputs": [
    {
     "data": {
      "text/plain": [
       "{0: 'red_finch',\n",
       " 1: 'red_parrot',\n",
       " 2: 'white_finch',\n",
       " 3: 'white_parrot',\n",
       " 4: 'yellow_finch',\n",
       " 5: 'yellow_parrot'}"
      ]
     },
     "execution_count": 15,
     "metadata": {},
     "output_type": "execute_result"
    }
   ],
   "source": [
    "birds.i2l"
   ]
  },
  {
   "cell_type": "code",
   "execution_count": 39,
   "metadata": {},
   "outputs": [
    {
     "data": {
      "text/plain": [
       "{'red_finch',\n",
       " 'red_parrot',\n",
       " 'white_finch',\n",
       " 'white_parrot',\n",
       " 'yellow_finch',\n",
       " 'yellow_parrot'}"
      ]
     },
     "execution_count": 39,
     "metadata": {},
     "output_type": "execute_result"
    }
   ],
   "source": [
    "set(labels)"
   ]
  }
 ],
 "metadata": {
  "kernelspec": {
   "display_name": "Python 3",
   "language": "python",
   "name": "python3"
  },
  "language_info": {
   "codemirror_mode": {
    "name": "ipython",
    "version": 3
   },
   "file_extension": ".py",
   "mimetype": "text/x-python",
   "name": "python",
   "nbconvert_exporter": "python",
   "pygments_lexer": "ipython3",
   "version": "3.6.3"
  }
 },
 "nbformat": 4,
 "nbformat_minor": 2
}
